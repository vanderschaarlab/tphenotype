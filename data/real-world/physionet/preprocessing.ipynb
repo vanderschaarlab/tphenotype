{
 "cells": [
  {
   "cell_type": "code",
   "execution_count": 1,
   "id": "45eda369-2de4-4939-870f-c9cc622716ce",
   "metadata": {},
   "outputs": [],
   "source": [
    "from tqdm import auto\n",
    "import matplotlib.pyplot as plt"
   ]
  },
  {
   "cell_type": "code",
   "execution_count": 2,
   "id": "8c9e8799-bc65-4028-8e90-31844874a50c",
   "metadata": {},
   "outputs": [
    {
     "name": "stdout",
     "output_type": "stream",
     "text": [
      "Using downloaded and verified file: data/physionet/PhysioNet/raw/Outcomes-a.txt\n",
      "Using downloaded and verified file: data/physionet/PhysioNet/raw/set-a.tar.gz?download\n",
      "Processing set-a.tar.gz?download...\n",
      "Using downloaded and verified file: data/physionet/PhysioNet/raw/set-b.tar.gz?download\n",
      "Processing set-b.tar.gz?download...\n",
      "Done!\n",
      "{'dataset_obj': Dataset PhysioNet\n",
      "    Number of datapoints: 4000\n",
      "    Split: train\n",
      "    Root Location: data/physionet\n",
      "    Quantization: 1.0\n",
      "    Reduce: average\n",
      ", 'train_dataloader': <generator object inf_generator at 0x7fbf7c6f2040>, 'test_dataloader': <generator object inf_generator at 0x7fbf7c39fe40>, 'input_dim': 41, 'n_train_batches': 64, 'n_test_batches': 1, 'attr': ['Age', 'Gender', 'Height', 'ICUType', 'Weight', 'Albumin', 'ALP', 'ALT', 'AST', 'Bilirubin', 'BUN', 'Cholesterol', 'Creatinine', 'DiasABP', 'FiO2', 'GCS', 'Glucose', 'HCO3', 'HCT', 'HR', 'K', 'Lactate', 'Mg', 'MAP', 'MechVent', 'Na', 'NIDiasABP', 'NIMAP', 'NISysABP', 'PaCO2', 'PaO2', 'pH', 'Platelets', 'RespRate', 'SaO2', 'SysABP', 'Temp', 'TroponinI', 'TroponinT', 'Urine', 'WBC'], 'classif_per_tp': False, 'n_labels': 1}\n",
      "Check Batch dict  ,, batch_dict['observed_data'] \n",
      "Dict_keys = ['observed_data', 'observed_tp', 'data_to_predict', 'tp_to_predict', 'observed_mask', 'mask_predicted_data', 'labels', 'mode'] \n"
     ]
    }
   ],
   "source": [
    "%run physionet_preprocessing.py --classif --quantization=1"
   ]
  },
  {
   "cell_type": "code",
   "execution_count": 3,
   "id": "8d4060c6-b758-4398-a655-84f15c73ab3f",
   "metadata": {},
   "outputs": [],
   "source": [
    "dataset = data_obj['dataset_obj']"
   ]
  },
  {
   "cell_type": "raw",
   "id": "6768cff0-a727-4fb7-9037-a958891c1f17",
   "metadata": {},
   "source": [
    "data_obj['dataset_obj'].visualize(t, x[0,:], mask[0],'death-1')\n",
    "data_obj['dataset_obj'].visualize(t, x[6,:], mask[6],'death-2')\n",
    "data_obj['dataset_obj'].visualize(t, x[3,:], mask[3],'survive-1')\n",
    "data_obj['dataset_obj'].visualize(t, x[8,:], mask[8],'survive-2')"
   ]
  },
  {
   "cell_type": "code",
   "execution_count": 4,
   "id": "5d78cf2f-3e69-4a56-bbd2-a3f911f66f16",
   "metadata": {},
   "outputs": [],
   "source": [
    "max_length = 0 \n",
    "for data in dataset:\n",
    "    pid, t, x, mask, y = data\n",
    "    max_length_i = mask.sum(dim=0).max().item()\n",
    "    max_length = max(max_length_i, max_length)"
   ]
  },
  {
   "cell_type": "code",
   "execution_count": 5,
   "id": "4e9de4b7-c6c3-4a9d-bd1e-47c148537e9e",
   "metadata": {},
   "outputs": [],
   "source": [
    "x_dim = data_obj['input_dim']\n",
    "N = len(dataset)\n",
    "max_length = int(max_length)"
   ]
  },
  {
   "cell_type": "code",
   "execution_count": 6,
   "id": "7664566e-b2c6-4a55-8296-ebdd026f082c",
   "metadata": {},
   "outputs": [],
   "source": [
    "times = torch.zeros((N, max_length, x_dim))\n",
    "masks = torch.zeros((N, max_length, x_dim))\n",
    "observations = torch.zeros((N, max_length, x_dim))\n",
    "labels = torch.zeros((N,))"
   ]
  },
  {
   "cell_type": "code",
   "execution_count": 7,
   "id": "51304b52-d8af-4779-8e68-3ddd86abf0dc",
   "metadata": {},
   "outputs": [
    {
     "data": {
      "application/json": {
       "ascii": false,
       "bar_format": null,
       "colour": null,
       "elapsed": 0.053117990493774414,
       "initial": 0,
       "n": 0,
       "ncols": null,
       "nrows": null,
       "postfix": null,
       "prefix": "",
       "rate": null,
       "total": 4000,
       "unit": "it",
       "unit_divisor": 1000,
       "unit_scale": false
      },
      "application/vnd.jupyter.widget-view+json": {
       "model_id": "5d0e94bcc89b402ab4c9592b38b06085",
       "version_major": 2,
       "version_minor": 0
      },
      "text/plain": [
       "  0%|          | 0/4000 [00:00<?, ?it/s]"
      ]
     },
     "metadata": {},
     "output_type": "display_data"
    }
   ],
   "source": [
    "for i,data in enumerate(auto.tqdm(dataset)):\n",
    "    pid, t, x, mask, y = data\n",
    "    for j in range(x_dim):\n",
    "        mask_x = mask[:,j]\n",
    "        length = int(mask_x.sum().item())\n",
    "        times[i,:length,j] = torch.masked_select(t,mask_x==1.0)\n",
    "        observations[i,:length,j] = torch.masked_select(x[:,j],mask_x==1.0)\n",
    "        masks[i,:length,j] = 1\n",
    "    labels[i]=y\n",
    "    "
   ]
  },
  {
   "cell_type": "code",
   "execution_count": 8,
   "id": "5ede8d67-5d7e-45df-b638-3e1b8956b1e8",
   "metadata": {},
   "outputs": [],
   "source": [
    "x_labels = np.array(data_obj['attr'])"
   ]
  },
  {
   "cell_type": "code",
   "execution_count": 9,
   "id": "16961426-e71c-4e5c-b0b4-8d03da6fb664",
   "metadata": {},
   "outputs": [
    {
     "data": {
      "image/png": "[encoded data removed]",
      "text/plain": [
       "<Figure size 432x288 with 1 Axes>"
      ]
     },
     "metadata": {
      "needs_background": "light"
     },
     "output_type": "display_data"
    }
   ],
   "source": [
    "length = masks.sum(dim=1).flatten().numpy()\n",
    "_=plt.hist(length,bins=20)"
   ]
  },
  {
   "cell_type": "code",
   "execution_count": 10,
   "id": "2780c365-0f20-4053-89a4-f82d963d4168",
   "metadata": {},
   "outputs": [],
   "source": [
    "static_features = ['Age','Gender','Height','ICUType','Weight']\n",
    "static_dims, = np.where(np.isin(x_labels,static_features))\n",
    "for dim in static_dims:\n",
    "    observations[:,:,dim] = observations[:,[0],dim].expand((-1,max_length))"
   ]
  },
  {
   "cell_type": "code",
   "execution_count": 11,
   "id": "085b7d04-da17-4644-97dd-d0d18103f3bf",
   "metadata": {},
   "outputs": [],
   "source": [
    "np.savez_compressed('physionet.npz', x = observations,t=times, mask=masks, y = labels, labels=x_labels)"
   ]
  },
  {
   "cell_type": "code",
   "execution_count": null,
   "id": "02ed69e8-7ad0-4710-8b51-f32c2d2b0dd1",
   "metadata": {},
   "outputs": [],
   "source": []
  }
 ],
 "metadata": {
  "kernelspec": {
   "display_name": "torch",
   "language": "python",
   "name": "torch"
  },
  "language_info": {
   "codemirror_mode": {
    "name": "ipython",
    "version": 3
   },
   "file_extension": ".py",
   "mimetype": "text/x-python",
   "name": "python",
   "nbconvert_exporter": "python",
   "pygments_lexer": "ipython3",
   "version": "3.9.7"
  }
 },
 "nbformat": 4,
 "nbformat_minor": 5
}
