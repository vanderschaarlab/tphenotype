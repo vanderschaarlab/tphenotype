{
 "cells": [
  {
   "cell_type": "code",
   "execution_count": 1,
   "id": "98ce724c",
   "metadata": {},
   "outputs": [],
   "source": [
    "import numpy as np\n",
    "import pandas as pd\n",
    "from scipy.stats import mode\n",
    "from matplotlib.collections import LineCollection\n",
    "import matplotlib.pyplot as plt\n",
    "import matplotlib.colors as colors"
   ]
  },
  {
   "cell_type": "code",
   "execution_count": 2,
   "id": "fd9707e9",
   "metadata": {},
   "outputs": [],
   "source": [
    "# ADNI -- 3 labels: NL (normal) -> mild cognitive impairment (MCI) -> Dementia\n",
    "# X features\n",
    "# Delta = 0.5 (6 months)\n",
    "# AGE seems to be useless (always constant)\n",
    "# Y features\n",
    "# DX_Dementia, DX_MCI, DX_NL\n",
    "# Right censoring is indicated with zeros\n",
    "\n",
    "npz = np.load(\"../../data/real-world/ADNI/data_with_orig.npz\")\n",
    "\n",
    "data_x = npz[\"data_x\"]\n",
    "data_x_orig = npz[\"data_x_orig\"]\n",
    "data_y = npz[\"data_y\"]\n",
    "feat_list = npz[\"feat_list\"]\n",
    "label_list = npz[\"label_list\"]\n",
    "\n",
    "data_delta = data_x[:, :, 0]\n",
    "data_t = np.cumsum(data_delta, axis=1)\n",
    "data_x = data_x[:, :, 1:]\n",
    "data_x_orig = data_x_orig[:, :, 1:]\n",
    "feat_list = feat_list[1:]\n",
    "data_mask = data_x.any(axis=2)"
   ]
  },
  {
   "cell_type": "code",
   "execution_count": 3,
   "id": "b32e1940-b124-4c19-8659-afeecfd5f4da",
   "metadata": {},
   "outputs": [
    {
     "data": {
      "image/png": "[encoded data removed]",
      "text/plain": [
       "<Figure size 640x480 with 1 Axes>"
      ]
     },
     "metadata": {},
     "output_type": "display_data"
    }
   ],
   "source": [
    "_ = plt.hist(np.argmax(data_y, axis=-1)[data_mask].flatten())"
   ]
  },
  {
   "cell_type": "code",
   "execution_count": 4,
   "id": "2320a282-67f1-4cd8-a2cd-3d091bfa8d9e",
   "metadata": {},
   "outputs": [
    {
     "data": {
      "text/plain": [
       "array(['AGE', 'PTEDUCAT', 'APOE4', 'CDRSB', 'MMSE', 'ADAS11',\n",
       "       'RAVLT_immediate', 'RAVLT_learning', 'ADAS13', 'RAVLT_forgetting',\n",
       "       'RAVLT_perc_forgetting', 'ICV', 'WholeBrain', 'Ventricles',\n",
       "       'Hippocampus', 'Fusiform', 'MidTemp', 'Entorhinal', 'serial',\n",
       "       'PTMARRY_Divorced', 'PTMARRY_Married', 'PTMARRY_Never married',\n",
       "       'PTMARRY_Unknown', 'PTMARRY_Widowed', 'PTRACCAT_Am Indian/Alaskan',\n",
       "       'PTRACCAT_Asian', 'PTRACCAT_Black', 'PTRACCAT_Hawaiian/Other PI',\n",
       "       'PTRACCAT_More than one', 'PTRACCAT_Unknown', 'PTRACCAT_White',\n",
       "       'PTETHCAT_Hisp/Latino', 'PTETHCAT_Not Hisp/Latino',\n",
       "       'PTETHCAT_Unknown'], dtype='<U26')"
      ]
     },
     "execution_count": 4,
     "metadata": {},
     "output_type": "execute_result"
    }
   ],
   "source": [
    "feat_list"
   ]
  },
  {
   "cell_type": "code",
   "execution_count": 5,
   "id": "05a338fe-2ce1-4794-b129-c2b4786374cc",
   "metadata": {},
   "outputs": [
    {
     "name": "stdout",
     "output_type": "stream",
     "text": [
      "AGE - mean: 73.622, min: 55.000, max: 91.400, mode:70.600\n",
      "PTEDUCAT - mean: 16.134, min: 4.000, max: 20.000, mode:16.000\n",
      "APOE4 - mean: 0.440, min: 0.000, max: 2.000, mode:0.000\n",
      "CDRSB - mean: 1.209, min: 0.000, max: 17.000, mode:0.000\n",
      "MMSE - mean: 27.839, min: 2.000, max: 30.000, mode:30.000\n",
      "ADAS11 - mean: 8.576, min: 0.000, max: 70.000, mode:6.000\n",
      "RAVLT_immediate - mean: 38.262, min: 0.000, max: 75.000, mode:35.000\n",
      "RAVLT_learning - mean: 4.651, min: -5.000, max: 14.000, mode:4.000\n",
      "ADAS13 - mean: 13.599, min: 0.000, max: 85.000, mode:9.000\n",
      "RAVLT_forgetting - mean: 4.186, min: -12.000, max: 15.000, mode:4.000\n",
      "RAVLT_perc_forgetting - mean: 51.675, min: -500.000, max: 100.000, mode:100.000\n",
      "ICV - mean: 1533516.573, min: 291.884, max: 2110290.000, mode:1473240.000\n",
      "WholeBrain - mean: 1020276.024, min: 651686.000, max: 1486040.000, mode:1011816.266\n",
      "Ventricles - mean: 40918.171, min: 5737.000, max: 158508.000, mode:42147.087\n",
      "Hippocampus - mean: 6880.598, min: 2822.000, max: 11207.000, mode:6681.724\n",
      "Fusiform - mean: 17473.601, min: 9019.000, max: 28878.000, mode:17146.716\n",
      "MidTemp - mean: 19662.369, min: 8876.000, max: 32189.000, mode:19203.260\n",
      "Entorhinal - mean: 3575.237, min: 1041.000, max: 6711.000, mode:3444.719\n",
      "serial - mean: 6772.679, min: 0.000, max: 12740.000, mode:1641.000\n",
      "PTMARRY_Divorced - mean: 0.090, min: 0.000, max: 1.000, mode:0.000\n",
      "PTMARRY_Married - mean: 0.746, min: 0.000, max: 1.000, mode:1.000\n",
      "PTMARRY_Never married - mean: 0.032, min: 0.000, max: 1.000, mode:0.000\n",
      "PTMARRY_Unknown - mean: 0.005, min: 0.000, max: 1.000, mode:0.000\n",
      "PTMARRY_Widowed - mean: 0.127, min: 0.000, max: 1.000, mode:0.000\n",
      "PTRACCAT_Am Indian/Alaskan - mean: 0.002, min: 0.000, max: 1.000, mode:0.000\n",
      "PTRACCAT_Asian - mean: 0.017, min: 0.000, max: 1.000, mode:0.000\n",
      "PTRACCAT_Black - mean: 0.039, min: 0.000, max: 1.000, mode:0.000\n",
      "PTRACCAT_Hawaiian/Other PI - mean: 0.000, min: 0.000, max: 1.000, mode:0.000\n",
      "PTRACCAT_More than one - mean: 0.009, min: 0.000, max: 1.000, mode:0.000\n",
      "PTRACCAT_Unknown - mean: 0.001, min: 0.000, max: 1.000, mode:0.000\n",
      "PTRACCAT_White - mean: 0.931, min: 0.000, max: 1.000, mode:1.000\n",
      "PTETHCAT_Hisp/Latino - mean: 0.029, min: 0.000, max: 1.000, mode:0.000\n",
      "PTETHCAT_Not Hisp/Latino - mean: 0.967, min: 0.000, max: 1.000, mode:1.000\n",
      "PTETHCAT_Unknown - mean: 0.004, min: 0.000, max: 1.000, mode:0.000\n"
     ]
    }
   ],
   "source": [
    "for i, name in enumerate(feat_list):\n",
    "    vals = data_x_orig[data_mask == 1, i]\n",
    "    mean = vals.mean()\n",
    "    min_, max_ = vals.min(), vals.max()\n",
    "    [mode_], _ = mode(vals)\n",
    "    print(f\"{name} - mean: {mean:.3f}, min: {min_:.3f}, max: {max_:.3f}, mode:{mode_:.3f}\")"
   ]
  },
  {
   "cell_type": "code",
   "execution_count": 6,
   "id": "600b49e0-fac1-4992-9264-4fe806d91e12",
   "metadata": {},
   "outputs": [],
   "source": [
    "# ICU\n",
    "\n",
    "npz = np.load(\"../../data/real-world/physionet/selected_data.npz\")\n",
    "\n",
    "data_x = npz[\"data_x\"]\n",
    "data_x_orig = npz[\"data_x_orig\"]\n",
    "data_y = npz[\"data_y\"]\n",
    "data_t = npz[\"data_t\"]\n",
    "data_mask = npz[\"data_mask\"]\n",
    "feat_list = npz[\"feat_list\"]\n",
    "\n",
    "([idx],) = np.where(feat_list == \"ICUType\")\n",
    "ICUType = data_x_orig[:, 0, idx]\n",
    "\n",
    "sel = (ICUType == 4) | (ICUType == 3)\n",
    "\n",
    "data_x = data_x[sel]\n",
    "data_x_orig = data_x_orig[sel]\n",
    "data_y = data_y[sel]\n",
    "data_t = data_t[sel]\n",
    "data_mask = data_mask[sel]"
   ]
  },
  {
   "cell_type": "code",
   "execution_count": 7,
   "id": "e41e7b7c-6307-4070-8bb9-b8a382b18792",
   "metadata": {},
   "outputs": [
    {
     "name": "stdout",
     "output_type": "stream",
     "text": [
      "Age - mean: 61.560, min: 15.000, max: 90.000, mode:90.000\n",
      "Gender - mean: 0.568, min: -1.000, max: 1.000, mode:1.000\n",
      "ICUType - mean: 3.611, min: 3.000, max: 4.000, mode:4.000\n",
      "GCS - mean: 9.752, min: 3.000, max: 15.000, mode:15.000\n",
      "PaCO2 - mean: 39.849, min: 11.000, max: 100.000, mode:38.000\n"
     ]
    }
   ],
   "source": [
    "for i, name in enumerate(feat_list):\n",
    "    vals = data_x_orig[data_mask == 1, i]\n",
    "    mean = vals.mean()\n",
    "    min_, max_ = vals.min(), vals.max()\n",
    "    [mode_], _ = mode(vals)\n",
    "    print(f\"{name} - mean: {mean:.3f}, min: {min_:.3f}, max: {max_:.3f}, mode:{mode_:.3f}\")"
   ]
  },
  {
   "cell_type": "code",
   "execution_count": 8,
   "id": "2fe48b61-74f0-4458-9362-2def59bbbdaf",
   "metadata": {},
   "outputs": [
    {
     "name": "stdout",
     "output_type": "stream",
     "text": [
      "Age - mean: 64.247, min: 15.000, max: 90.000, mode:90.000\n",
      "Gender - mean: 0.561, min: -1.000, max: 1.000, mode:1.000\n",
      "Height - mean: 88.919, min: -1.000, max: 431.800, mode:-1.000\n",
      "ICUType - mean: 2.760, min: 1.000, max: 4.000, mode:3.000\n",
      "Weight - mean: 81.065, min: -1.000, max: 300.000, mode:70.000\n",
      "Albumin - mean: 2.923, min: 1.000, max: 5.300, mode:3.100\n",
      "ALP - mean: 116.792, min: 12.000, max: 2205.000, mode:61.000\n",
      "ALT - mean: 393.953, min: 1.000, max: 11470.000, mode:17.000\n",
      "AST - mean: 506.003, min: 4.000, max: 18430.000, mode:17.000\n",
      "Bilirubin - mean: 2.911, min: 0.100, max: 47.700, mode:0.400\n",
      "BUN - mean: 27.412, min: 0.000, max: 197.000, mode:14.000\n",
      "Cholesterol - mean: 156.517, min: 28.000, max: 330.000, mode:111.000\n",
      "Creatinine - mean: 1.505, min: 0.100, max: 22.100, mode:0.700\n",
      "DiasABP - mean: 59.544, min: 0.000, max: 268.000, mode:56.000\n",
      "FiO2 - mean: 0.542, min: 0.210, max: 1.000, mode:0.400\n",
      "GCS - mean: 11.407, min: 3.000, max: 15.000, mode:15.000\n",
      "Glucose - mean: 141.434, min: 10.000, max: 1143.000, mode:114.000\n",
      "HCO3 - mean: 23.120, min: 5.000, max: 50.000, mode:23.000\n",
      "HCT - mean: 30.687, min: 9.000, max: 61.800, mode:30.900\n",
      "HR - mean: 86.797, min: 0.000, max: 199.500, mode:80.000\n",
      "K - mean: 4.135, min: 1.800, max: 22.900, mode:3.900\n",
      "Lactate - mean: 2.884, min: 0.300, max: 29.300, mode:1.400\n",
      "Mg - mean: 2.028, min: 0.600, max: 9.900, mode:2.000\n",
      "MAP - mean: 80.231, min: 0.000, max: 295.000, mode:73.000\n",
      "MechVent - mean: 1.000, min: 1.000, max: 1.000, mode:1.000\n",
      "Na - mean: 139.071, min: 98.000, max: 177.000, mode:139.000\n",
      "NIDiasABP - mean: 58.175, min: 0.000, max: 180.000, mode:52.000\n",
      "NIMAP - mean: 77.134, min: 0.000, max: 194.000, mode:72.000\n",
      "NISysABP - mean: 119.203, min: 0.000, max: 274.000, mode:110.000\n",
      "PaCO2 - mean: 40.414, min: 11.000, max: 100.000, mode:38.000\n",
      "PaO2 - mean: 147.823, min: 0.000, max: 500.000, mode:80.000\n",
      "pH - mean: 7.487, min: 1.000, max: 735.000, mode:7.400\n",
      "Platelets - mean: 191.098, min: 6.000, max: 1047.000, mode:150.000\n",
      "RespRate - mean: 19.642, min: 0.000, max: 98.000, mode:18.000\n",
      "SaO2 - mean: 96.654, min: 26.000, max: 100.000, mode:98.000\n",
      "SysABP - mean: 119.568, min: 0.000, max: 273.000, mode:109.000\n",
      "Temp - mean: 37.068, min: -17.800, max: 42.100, mode:37.200\n",
      "TroponinI - mean: 7.151, min: 0.300, max: 49.200, mode:0.300\n",
      "TroponinT - mean: 1.201, min: 0.010, max: 24.910, mode:0.020\n",
      "Urine - mean: 117.104, min: 0.000, max: 11000.000, mode:60.000\n",
      "WBC - mean: 12.671, min: 0.100, max: 187.500, mode:9.400\n"
     ]
    }
   ],
   "source": [
    "npz = np.load(\"../../data/real-world/physionet/physionet.npz\")\n",
    "\n",
    "data_x = npz[\"x\"]\n",
    "data_y = npz[\"y\"]\n",
    "data_t = npz[\"t\"]\n",
    "data_mask = npz[\"mask\"]\n",
    "feat_list = npz[\"labels\"]\n",
    "\n",
    "for i, name in enumerate(feat_list):\n",
    "    vals = data_x[:, :, i][data_mask[:, :, i] == 1]\n",
    "    mean = vals.mean()\n",
    "    min_, max_ = vals.min(), vals.max()\n",
    "    [mode_], _ = mode(vals)\n",
    "    print(f\"{name} - mean: {mean:.3f}, min: {min_:.3f}, max: {max_:.3f}, mode:{mode_:.3f}\")"
   ]
  }
 ],
 "metadata": {
  "kernelspec": {
   "display_name": "Python 3 (ipykernel)",
   "language": "python",
   "name": "python3"
  },
  "language_info": {
   "codemirror_mode": {
    "name": "ipython",
    "version": 3
   },
   "file_extension": ".py",
   "mimetype": "text/x-python",
   "name": "python",
   "nbconvert_exporter": "python",
   "pygments_lexer": "ipython3",
   "version": "3.9.7"
  },
  "widgets": {
   "application/vnd.jupyter.widget-state+json": {
    "state": {},
    "version_major": 2,
    "version_minor": 0
   }
  }
 },
 "nbformat": 4,
 "nbformat_minor": 5
}
