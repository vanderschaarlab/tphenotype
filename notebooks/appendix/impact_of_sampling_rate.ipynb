{
 "cells": [
  {
   "cell_type": "code",
   "execution_count": 1,
   "id": "686bdadb-7908-4675-a85c-fc956f5aa20d",
   "metadata": {},
   "outputs": [],
   "source": [
    "import torch\n",
    "import numpy as np\n",
    "import os\n",
    "import matplotlib.pyplot as plt\n",
    "\n",
    "from IPython.display import display\n",
    "\n",
    "from visualization import pole_visualization, coeff_visualization, fn_visualization"
   ]
  },
  {
   "cell_type": "code",
   "execution_count": 2,
   "id": "2ee75261-424f-4a09-b9cf-8f41179671bc",
   "metadata": {},
   "outputs": [],
   "source": [
    "from tphenotype import LaplaceEncoder\n",
    "from tphenotype.utils import data_split\n"
   ]
  },
  {
   "cell_type": "code",
   "execution_count": 3,
   "id": "1871ca89-d775-4a7a-98c2-3360111cabbf",
   "metadata": {},
   "outputs": [],
   "source": [
    "# Four types of curves\n",
    "\n",
    "def func1(t):\n",
    "    v = np.sin(2*np.pi*t)\n",
    "    return v\n",
    "\n",
    "func2 = func1\n",
    "func3 = func1\n",
    "func4 = func1"
   ]
  },
  {
   "cell_type": "code",
   "execution_count": 11,
   "id": "f636196a-aefa-41f2-b98e-d5af05842071",
   "metadata": {},
   "outputs": [],
   "source": [
    "def gen_data(T,n=1000, seed=0):\n",
    "    # generate samples with noises\n",
    "    rng = np.random.default_rng(seed=seed)\n",
    "\n",
    "    # irregular sampling interval\n",
    "    alpha = 3*np.ones(T)\n",
    "    dt = rng.dirichlet(alpha,size=(n,))\n",
    "    t = np.cumsum(dt, axis=1)\n",
    "\n",
    "    phases = rng.exponential(scale=0.5,size=(n,1))\n",
    "\n",
    "    # generate curves with labels\n",
    "    fn_type = np.zeros((n,))\n",
    "    n1 = int(0.25*n)\n",
    "    n2 = n1+int(0.25*n)\n",
    "    n3 = n2+int(0.25*n)\n",
    "    n4 = n - n3\n",
    "\n",
    "    t_d = t - phases\n",
    "    f1 = func1(t_d[:n1])\n",
    "    f2 = func2(t_d[n1:n2])\n",
    "    f3 = func3(t_d[n2:n3])\n",
    "    f4 = func4(t_d[n3:])\n",
    "    fn_type[:n1]=1\n",
    "    fn_type[n1:n2]=2\n",
    "    fn_type[n2:n3]=3\n",
    "    fn_type[n3:]=4\n",
    "\n",
    "    # add noises\n",
    "    f = np.concatenate([f1,f2,f3, f4],axis=0) + rng.normal(size=(n,T))*0.03\n",
    "\n",
    "    # shuffle samples\n",
    "    idx = np.arange(len(f))\n",
    "    rng.shuffle(idx)\n",
    "    f = f[idx]\n",
    "    fn_type=fn_type[idx]\n",
    "    t = t[idx]\n",
    "\n",
    "    # generate masks for valid observations\n",
    "    length = rng.integers(low=int(3*T/4),high=T,size=n)\n",
    "    # only first l samples are valid\n",
    "    mask = np.zeros_like(t,dtype=bool)\n",
    "    # all samples are valid\n",
    "    mask = np.ones_like(t,dtype=bool)\n",
    "    for i in range(n):\n",
    "        mask[i, :length[i]]=1 \n",
    "    dataset = {\n",
    "        't': t,\n",
    "        'f': f,\n",
    "        'mask': mask,\n",
    "        'fn_type': fn_type,\n",
    "    }\n",
    "    return dataset"
   ]
  },
  {
   "cell_type": "code",
   "execution_count": 5,
   "id": "03b071dc-8392-4f70-916e-817f34b447ad",
   "metadata": {},
   "outputs": [],
   "source": [
    "# model configuration\n",
    "net_config = {\n",
    "    'num_poles':4, # number of poles\n",
    "    'max_degree':1, # maximum degree of poles\n",
    "    'hidden_size':10, # number of hidden units in neural networks\n",
    "    'num_layers':1, # number of layers in MLP of the encoder (1 layer RNN + n layer MLP)\n",
    "    'pole_separation': 1.0, # minimum distance between distinct poles \n",
    "    'freq_scaler': 20, # scale up the imaginary part to help learning\n",
    "    'window_size': None, # whether or not to include time delay terms\n",
    "    'equivariant_embed': True, # whether or not to sort the poles (useless during training)\n",
    "}\n",
    "\n",
    "loss_weights = {\n",
    "    'rmse': 1.0, # regression loss\n",
    "    'mse': 1.0,\n",
    "    'cont': 0.01, # minimize used components\n",
    "    'pole': 1.0, # seperation of poles\n",
    "    'real': 0.1, # only generate real function (penalty for imaginary part)\n",
    "}"
   ]
  },
  {
   "cell_type": "code",
   "execution_count": 6,
   "id": "e3c10370-e1fd-4e38-abff-f63838a794d7",
   "metadata": {},
   "outputs": [],
   "source": [
    "import pandas as pd"
   ]
  },
  {
   "cell_type": "code",
   "execution_count": 7,
   "id": "4c5a482a-d4dc-43cd-830a-542fcabff76d",
   "metadata": {},
   "outputs": [
    {
     "data": {
      "text/plain": [
       "{'rmse': 1.0, 'mse': 1.0, 'cont': 0.01, 'pole': 1.0, 'real': 0.1}"
      ]
     },
     "execution_count": 7,
     "metadata": {},
     "output_type": "execute_result"
    }
   ],
   "source": [
    "loss_weights"
   ]
  },
  {
   "cell_type": "code",
   "execution_count": 8,
   "id": "fb6b01c7-4609-40ee-b012-daf4054a3cfb",
   "metadata": {},
   "outputs": [],
   "source": [
    "def sampling_rate_impact(sampling_rates, n_trial=5, seed=0, epochs=50):\n",
    "    df=pd.DataFrame()\n",
    "    for sampling_rate in sampling_rates:\n",
    "        print(f'sampling rate: {sampling_rate}')\n",
    "        mses=[]\n",
    "        for i in range(n_trial):\n",
    "            # prepare training and validation sets\n",
    "            dtype='float32'\n",
    "            dataset= gen_data(sampling_rate, seed=seed+i)\n",
    "            train_set, valid_set = data_split(dataset, test_size=0.2, random_state=seed, dtype=dtype)\n",
    "            #train_set, valid_set = data_split(train_set, test_size=0.2, random_state=seed, dtype=dtype)\n",
    "            test_set = gen_data(T=16, n=200, seed =seed+i+1)\n",
    "            torch.manual_seed(seed+i)\n",
    "            encoder = LaplaceEncoder(**net_config)\n",
    "            encoder = encoder.fit(train_set, loss_weights,valid_set=valid_set,epochs=epochs)\n",
    "\n",
    "            f = test_set['f'].astype(dtype)\n",
    "            t = test_set['t'].astype(dtype)\n",
    "            mask = test_set['mask'].astype(dtype)\n",
    "            poles, coeffs = encoder.encode(f,t)\n",
    "            f_rec_r, f_rec_i =encoder.decode(poles, coeffs,t) # (re, im)\n",
    "            f_rec = f_rec_r +1j*f_rec_i\n",
    "            diff = np.square(np.abs(f-f_rec[:,-1]))\n",
    "            mse = np.sum(diff*mask,axis=-1)/np.sum(mask,axis=-1)\n",
    "            mse = np.mean(mse)\n",
    "            mses.append(mse)\n",
    "        mean, ci = np.mean(mses), np.std(mses)*1.96\n",
    "        df.loc[sampling_rate,['mean','ci']] = mean, ci\n",
    "    return df"
   ]
  },
  {
   "cell_type": "code",
   "execution_count": 9,
   "id": "b6f4804d-7db2-4426-bcd7-d883a43cc82f",
   "metadata": {},
   "outputs": [
    {
     "name": "stdout",
     "output_type": "stream",
     "text": [
      "sampling rate: 4\n"
     ]
    },
    {
     "data": {
      "application/json": {
       "ascii": false,
       "bar_format": null,
       "colour": null,
       "elapsed": 0.0050334930419921875,
       "initial": 0,
       "n": 0,
       "ncols": null,
       "nrows": 44,
       "postfix": null,
       "prefix": "",
       "rate": null,
       "total": 50,
       "unit": "it",
       "unit_divisor": 1000,
       "unit_scale": false
      },
      "application/vnd.jupyter.widget-view+json": {
       "model_id": "36e2b7d0969a4d0daa75d588cd6aca8a",
       "version_major": 2,
       "version_minor": 0
      },
      "text/plain": [
       "  0%|          | 0/50 [00:00<?, ?it/s]"
      ]
     },
     "metadata": {},
     "output_type": "display_data"
    },
    {
     "data": {
      "application/json": {
       "ascii": false,
       "bar_format": null,
       "colour": null,
       "elapsed": 0.0046231746673583984,
       "initial": 0,
       "n": 0,
       "ncols": null,
       "nrows": 44,
       "postfix": null,
       "prefix": "",
       "rate": null,
       "total": 50,
       "unit": "it",
       "unit_divisor": 1000,
       "unit_scale": false
      },
      "application/vnd.jupyter.widget-view+json": {
       "model_id": "9fc568a25a2049778e4fa76693cadfd1",
       "version_major": 2,
       "version_minor": 0
      },
      "text/plain": [
       "  0%|          | 0/50 [00:00<?, ?it/s]"
      ]
     },
     "metadata": {},
     "output_type": "display_data"
    },
    {
     "data": {
      "application/json": {
       "ascii": false,
       "bar_format": null,
       "colour": null,
       "elapsed": 0.004816770553588867,
       "initial": 0,
       "n": 0,
       "ncols": null,
       "nrows": 44,
       "postfix": null,
       "prefix": "",
       "rate": null,
       "total": 50,
       "unit": "it",
       "unit_divisor": 1000,
       "unit_scale": false
      },
      "application/vnd.jupyter.widget-view+json": {
       "model_id": "2acc1d0f88b14912b1006fd1749cd607",
       "version_major": 2,
       "version_minor": 0
      },
      "text/plain": [
       "  0%|          | 0/50 [00:00<?, ?it/s]"
      ]
     },
     "metadata": {},
     "output_type": "display_data"
    },
    {
     "data": {
      "application/json": {
       "ascii": false,
       "bar_format": null,
       "colour": null,
       "elapsed": 0.004563093185424805,
       "initial": 0,
       "n": 0,
       "ncols": null,
       "nrows": 44,
       "postfix": null,
       "prefix": "",
       "rate": null,
       "total": 50,
       "unit": "it",
       "unit_divisor": 1000,
       "unit_scale": false
      },
      "application/vnd.jupyter.widget-view+json": {
       "model_id": "45f3cc4027d8452e8c7d5639010f8203",
       "version_major": 2,
       "version_minor": 0
      },
      "text/plain": [
       "  0%|          | 0/50 [00:00<?, ?it/s]"
      ]
     },
     "metadata": {},
     "output_type": "display_data"
    },
    {
     "data": {
      "application/json": {
       "ascii": false,
       "bar_format": null,
       "colour": null,
       "elapsed": 0.004869699478149414,
       "initial": 0,
       "n": 0,
       "ncols": null,
       "nrows": 44,
       "postfix": null,
       "prefix": "",
       "rate": null,
       "total": 50,
       "unit": "it",
       "unit_divisor": 1000,
       "unit_scale": false
      },
      "application/vnd.jupyter.widget-view+json": {
       "model_id": "6619ea7285af4cc09d3099c532f83fc7",
       "version_major": 2,
       "version_minor": 0
      },
      "text/plain": [
       "  0%|          | 0/50 [00:00<?, ?it/s]"
      ]
     },
     "metadata": {},
     "output_type": "display_data"
    },
    {
     "name": "stdout",
     "output_type": "stream",
     "text": [
      "sampling rate: 8\n"
     ]
    },
    {
     "data": {
      "application/json": {
       "ascii": false,
       "bar_format": null,
       "colour": null,
       "elapsed": 0.004624366760253906,
       "initial": 0,
       "n": 0,
       "ncols": null,
       "nrows": 44,
       "postfix": null,
       "prefix": "",
       "rate": null,
       "total": 50,
       "unit": "it",
       "unit_divisor": 1000,
       "unit_scale": false
      },
      "application/vnd.jupyter.widget-view+json": {
       "model_id": "2f9dc50ff9ca496cb55279990915edfd",
       "version_major": 2,
       "version_minor": 0
      },
      "text/plain": [
       "  0%|          | 0/50 [00:00<?, ?it/s]"
      ]
     },
     "metadata": {},
     "output_type": "display_data"
    },
    {
     "data": {
      "application/json": {
       "ascii": false,
       "bar_format": null,
       "colour": null,
       "elapsed": 0.0044667720794677734,
       "initial": 0,
       "n": 0,
       "ncols": null,
       "nrows": 44,
       "postfix": null,
       "prefix": "",
       "rate": null,
       "total": 50,
       "unit": "it",
       "unit_divisor": 1000,
       "unit_scale": false
      },
      "application/vnd.jupyter.widget-view+json": {
       "model_id": "eb89263ca70f44d0884427bd882fb68b",
       "version_major": 2,
       "version_minor": 0
      },
      "text/plain": [
       "  0%|          | 0/50 [00:00<?, ?it/s]"
      ]
     },
     "metadata": {},
     "output_type": "display_data"
    },
    {
     "data": {
      "application/json": {
       "ascii": false,
       "bar_format": null,
       "colour": null,
       "elapsed": 0.0052869319915771484,
       "initial": 0,
       "n": 0,
       "ncols": null,
       "nrows": 44,
       "postfix": null,
       "prefix": "",
       "rate": null,
       "total": 50,
       "unit": "it",
       "unit_divisor": 1000,
       "unit_scale": false
      },
      "application/vnd.jupyter.widget-view+json": {
       "model_id": "66d87c9ce49b49c8b11eebda6b34fa37",
       "version_major": 2,
       "version_minor": 0
      },
      "text/plain": [
       "  0%|          | 0/50 [00:00<?, ?it/s]"
      ]
     },
     "metadata": {},
     "output_type": "display_data"
    },
    {
     "data": {
      "application/json": {
       "ascii": false,
       "bar_format": null,
       "colour": null,
       "elapsed": 0.0049190521240234375,
       "initial": 0,
       "n": 0,
       "ncols": null,
       "nrows": 44,
       "postfix": null,
       "prefix": "",
       "rate": null,
       "total": 50,
       "unit": "it",
       "unit_divisor": 1000,
       "unit_scale": false
      },
      "application/vnd.jupyter.widget-view+json": {
       "model_id": "153446ac77cc4e308886677052833aa2",
       "version_major": 2,
       "version_minor": 0
      },
      "text/plain": [
       "  0%|          | 0/50 [00:00<?, ?it/s]"
      ]
     },
     "metadata": {},
     "output_type": "display_data"
    },
    {
     "data": {
      "application/json": {
       "ascii": false,
       "bar_format": null,
       "colour": null,
       "elapsed": 0.0046863555908203125,
       "initial": 0,
       "n": 0,
       "ncols": null,
       "nrows": 44,
       "postfix": null,
       "prefix": "",
       "rate": null,
       "total": 50,
       "unit": "it",
       "unit_divisor": 1000,
       "unit_scale": false
      },
      "application/vnd.jupyter.widget-view+json": {
       "model_id": "c603860a1c144c4e9c580f731e2c6f4c",
       "version_major": 2,
       "version_minor": 0
      },
      "text/plain": [
       "  0%|          | 0/50 [00:00<?, ?it/s]"
      ]
     },
     "metadata": {},
     "output_type": "display_data"
    },
    {
     "name": "stdout",
     "output_type": "stream",
     "text": [
      "sampling rate: 12\n"
     ]
    },
    {
     "data": {
      "application/json": {
       "ascii": false,
       "bar_format": null,
       "colour": null,
       "elapsed": 0.0048961639404296875,
       "initial": 0,
       "n": 0,
       "ncols": null,
       "nrows": 44,
       "postfix": null,
       "prefix": "",
       "rate": null,
       "total": 50,
       "unit": "it",
       "unit_divisor": 1000,
       "unit_scale": false
      },
      "application/vnd.jupyter.widget-view+json": {
       "model_id": "ca79d258eb9040698cd331b485c6a586",
       "version_major": 2,
       "version_minor": 0
      },
      "text/plain": [
       "  0%|          | 0/50 [00:00<?, ?it/s]"
      ]
     },
     "metadata": {},
     "output_type": "display_data"
    },
    {
     "data": {
      "application/json": {
       "ascii": false,
       "bar_format": null,
       "colour": null,
       "elapsed": 0.004712343215942383,
       "initial": 0,
       "n": 0,
       "ncols": null,
       "nrows": 44,
       "postfix": null,
       "prefix": "",
       "rate": null,
       "total": 50,
       "unit": "it",
       "unit_divisor": 1000,
       "unit_scale": false
      },
      "application/vnd.jupyter.widget-view+json": {
       "model_id": "52061c4b5d124bc6b35cfdd47b75f742",
       "version_major": 2,
       "version_minor": 0
      },
      "text/plain": [
       "  0%|          | 0/50 [00:00<?, ?it/s]"
      ]
     },
     "metadata": {},
     "output_type": "display_data"
    },
    {
     "data": {
      "application/json": {
       "ascii": false,
       "bar_format": null,
       "colour": null,
       "elapsed": 0.0046176910400390625,
       "initial": 0,
       "n": 0,
       "ncols": null,
       "nrows": 44,
       "postfix": null,
       "prefix": "",
       "rate": null,
       "total": 50,
       "unit": "it",
       "unit_divisor": 1000,
       "unit_scale": false
      },
      "application/vnd.jupyter.widget-view+json": {
       "model_id": "1b6c78d1dc8b4241b327df965a47d253",
       "version_major": 2,
       "version_minor": 0
      },
      "text/plain": [
       "  0%|          | 0/50 [00:00<?, ?it/s]"
      ]
     },
     "metadata": {},
     "output_type": "display_data"
    },
    {
     "data": {
      "application/json": {
       "ascii": false,
       "bar_format": null,
       "colour": null,
       "elapsed": 0.004427671432495117,
       "initial": 0,
       "n": 0,
       "ncols": null,
       "nrows": 44,
       "postfix": null,
       "prefix": "",
       "rate": null,
       "total": 50,
       "unit": "it",
       "unit_divisor": 1000,
       "unit_scale": false
      },
      "application/vnd.jupyter.widget-view+json": {
       "model_id": "dc5141d075724e57a06806e3c71dbbd0",
       "version_major": 2,
       "version_minor": 0
      },
      "text/plain": [
       "  0%|          | 0/50 [00:00<?, ?it/s]"
      ]
     },
     "metadata": {},
     "output_type": "display_data"
    },
    {
     "data": {
      "application/json": {
       "ascii": false,
       "bar_format": null,
       "colour": null,
       "elapsed": 0.004394054412841797,
       "initial": 0,
       "n": 0,
       "ncols": null,
       "nrows": 44,
       "postfix": null,
       "prefix": "",
       "rate": null,
       "total": 50,
       "unit": "it",
       "unit_divisor": 1000,
       "unit_scale": false
      },
      "application/vnd.jupyter.widget-view+json": {
       "model_id": "217d2e7b1ce24f86a1e98bf7528ba090",
       "version_major": 2,
       "version_minor": 0
      },
      "text/plain": [
       "  0%|          | 0/50 [00:00<?, ?it/s]"
      ]
     },
     "metadata": {},
     "output_type": "display_data"
    },
    {
     "name": "stdout",
     "output_type": "stream",
     "text": [
      "sampling rate: 16\n"
     ]
    },
    {
     "data": {
      "application/json": {
       "ascii": false,
       "bar_format": null,
       "colour": null,
       "elapsed": 0.004810333251953125,
       "initial": 0,
       "n": 0,
       "ncols": null,
       "nrows": 44,
       "postfix": null,
       "prefix": "",
       "rate": null,
       "total": 50,
       "unit": "it",
       "unit_divisor": 1000,
       "unit_scale": false
      },
      "application/vnd.jupyter.widget-view+json": {
       "model_id": "f40d902900a14ed7ae8882bb4b940d8d",
       "version_major": 2,
       "version_minor": 0
      },
      "text/plain": [
       "  0%|          | 0/50 [00:00<?, ?it/s]"
      ]
     },
     "metadata": {},
     "output_type": "display_data"
    },
    {
     "data": {
      "application/json": {
       "ascii": false,
       "bar_format": null,
       "colour": null,
       "elapsed": 0.0046596527099609375,
       "initial": 0,
       "n": 0,
       "ncols": null,
       "nrows": 44,
       "postfix": null,
       "prefix": "",
       "rate": null,
       "total": 50,
       "unit": "it",
       "unit_divisor": 1000,
       "unit_scale": false
      },
      "application/vnd.jupyter.widget-view+json": {
       "model_id": "51c9a472dd4242638f322970a50883c9",
       "version_major": 2,
       "version_minor": 0
      },
      "text/plain": [
       "  0%|          | 0/50 [00:00<?, ?it/s]"
      ]
     },
     "metadata": {},
     "output_type": "display_data"
    },
    {
     "data": {
      "application/json": {
       "ascii": false,
       "bar_format": null,
       "colour": null,
       "elapsed": 0.004717588424682617,
       "initial": 0,
       "n": 0,
       "ncols": null,
       "nrows": 44,
       "postfix": null,
       "prefix": "",
       "rate": null,
       "total": 50,
       "unit": "it",
       "unit_divisor": 1000,
       "unit_scale": false
      },
      "application/vnd.jupyter.widget-view+json": {
       "model_id": "65f519a575c04dfcb3edddfce12efb69",
       "version_major": 2,
       "version_minor": 0
      },
      "text/plain": [
       "  0%|          | 0/50 [00:00<?, ?it/s]"
      ]
     },
     "metadata": {},
     "output_type": "display_data"
    },
    {
     "data": {
      "application/json": {
       "ascii": false,
       "bar_format": null,
       "colour": null,
       "elapsed": 0.004731893539428711,
       "initial": 0,
       "n": 0,
       "ncols": null,
       "nrows": 44,
       "postfix": null,
       "prefix": "",
       "rate": null,
       "total": 50,
       "unit": "it",
       "unit_divisor": 1000,
       "unit_scale": false
      },
      "application/vnd.jupyter.widget-view+json": {
       "model_id": "26f67efc7d7f48b4825eadc7c98f3e8e",
       "version_major": 2,
       "version_minor": 0
      },
      "text/plain": [
       "  0%|          | 0/50 [00:00<?, ?it/s]"
      ]
     },
     "metadata": {},
     "output_type": "display_data"
    },
    {
     "data": {
      "application/json": {
       "ascii": false,
       "bar_format": null,
       "colour": null,
       "elapsed": 0.004761219024658203,
       "initial": 0,
       "n": 0,
       "ncols": null,
       "nrows": 44,
       "postfix": null,
       "prefix": "",
       "rate": null,
       "total": 50,
       "unit": "it",
       "unit_divisor": 1000,
       "unit_scale": false
      },
      "application/vnd.jupyter.widget-view+json": {
       "model_id": "d3ba9d7632214274b91805fbeca41515",
       "version_major": 2,
       "version_minor": 0
      },
      "text/plain": [
       "  0%|          | 0/50 [00:00<?, ?it/s]"
      ]
     },
     "metadata": {},
     "output_type": "display_data"
    }
   ],
   "source": [
    "# model configuration\n",
    "net_config = {\n",
    "    'num_poles':4, # number of poles\n",
    "    'max_degree':1, # maximum degree of poles\n",
    "    'hidden_size':10, # number of hidden units in neural networks\n",
    "    'num_layers':1, # number of layers in MLP of the encoder (1 layer RNN + n layer MLP)\n",
    "    'pole_separation': 1.0, # minimum distance between distinct poles \n",
    "    'freq_scaler': 20, # scale up the imaginary part to help learning\n",
    "    'window_size': None, # whether or not to include time delay terms\n",
    "    'equivariant_embed': True, # whether or not to sort the poles (useless during training)\n",
    "}\n",
    "\n",
    "loss_weights = {\n",
    "    'rmse': 1.0, # regression loss\n",
    "    'mse': 1.0,\n",
    "    'cont': 0.01, # minimize used components\n",
    "    'pole': 1.0, # seperation of poles\n",
    "    'real': 0.1, # only generate real function (penalty for imaginary part)\n",
    "}\n",
    "\n",
    "sampling_rates=[4,8,12,16]\n",
    "df = sampling_rate_impact(sampling_rates, n_trial=5)"
   ]
  },
  {
   "cell_type": "code",
   "execution_count": 10,
   "id": "b37d2848-e736-4410-a272-e53c2fa88bb2",
   "metadata": {},
   "outputs": [
    {
     "data": {
      "text/html": [
       "<div>\n",
       "<style scoped>\n",
       "    .dataframe tbody tr th:only-of-type {\n",
       "        vertical-align: middle;\n",
       "    }\n",
       "\n",
       "    .dataframe tbody tr th {\n",
       "        vertical-align: top;\n",
       "    }\n",
       "\n",
       "    .dataframe thead th {\n",
       "        text-align: right;\n",
       "    }\n",
       "</style>\n",
       "<table border=\"1\" class=\"dataframe\">\n",
       "  <thead>\n",
       "    <tr style=\"text-align: right;\">\n",
       "      <th></th>\n",
       "      <th>mean</th>\n",
       "      <th>ci</th>\n",
       "    </tr>\n",
       "  </thead>\n",
       "  <tbody>\n",
       "    <tr>\n",
       "      <th>4</th>\n",
       "      <td>1.872485</td>\n",
       "      <td>1.391474</td>\n",
       "    </tr>\n",
       "    <tr>\n",
       "      <th>8</th>\n",
       "      <td>0.300185</td>\n",
       "      <td>0.068376</td>\n",
       "    </tr>\n",
       "    <tr>\n",
       "      <th>12</th>\n",
       "      <td>0.063168</td>\n",
       "      <td>0.032369</td>\n",
       "    </tr>\n",
       "    <tr>\n",
       "      <th>16</th>\n",
       "      <td>0.122502</td>\n",
       "      <td>0.330337</td>\n",
       "    </tr>\n",
       "  </tbody>\n",
       "</table>\n",
       "</div>"
      ],
      "text/plain": [
       "        mean        ci\n",
       "4   1.872485  1.391474\n",
       "8   0.300185  0.068376\n",
       "12  0.063168  0.032369\n",
       "16  0.122502  0.330337"
      ]
     },
     "execution_count": 10,
     "metadata": {},
     "output_type": "execute_result"
    }
   ],
   "source": [
    "df"
   ]
  },
  {
   "cell_type": "code",
   "execution_count": 12,
   "id": "aef5b27f-3d3f-4eaf-bec3-fdaa972ece1b",
   "metadata": {},
   "outputs": [],
   "source": [
    "SMALL_SIZE = 20\n",
    "MEDIUM_SIZE = 20\n",
    "BIGGER_SIZE = 20\n",
    "\n",
    "plt.rc('font', size=SMALL_SIZE)          # controls default text sizes\n",
    "plt.rc('axes', titlesize=SMALL_SIZE)     # fontsize of the axes title\n",
    "plt.rc('axes', labelsize=MEDIUM_SIZE)    # fontsize of the x and y labels\n",
    "plt.rc('xtick', labelsize=SMALL_SIZE)    # fontsize of the tick labels\n",
    "plt.rc('ytick', labelsize=SMALL_SIZE)    # fontsize of the tick labels\n",
    "plt.rc('legend', fontsize=SMALL_SIZE)    # legend fontsize\n",
    "plt.rc('figure', titlesize=BIGGER_SIZE)  # fontsize of the figure title"
   ]
  },
  {
   "cell_type": "code",
   "execution_count": 13,
   "id": "51347350-3fbd-4dfe-9273-d74c2cd6a8b5",
   "metadata": {},
   "outputs": [
    {
     "data": {
      "image/png": "[encoded data removed]",
      "text/plain": [
       "<Figure size 1000x400 with 1 Axes>"
      ]
     },
     "metadata": {},
     "output_type": "display_data"
    }
   ],
   "source": [
    "fig, ax = plt.subplots(figsize=(10,4))\n",
    "df.plot(y='mean', yerr='ci',label='Mean',ax=ax, ecolor='gray', lw=2, capsize=5, capthick=2,legend=False)\n",
    "ax.set_xlabel(r'Average Sampling Rate (Number of Time-Points)')\n",
    "ax.set_ylabel('MSE')\n",
    "ax.set_ylim([-0.3,3.8])\n",
    "ax.set_xlim([3,17])\n",
    "#ax.hlines(0,3,17,colors='gray',linestyle='dashed')\n",
    "#ax.grid(True)\n",
    "fig.tight_layout()\n",
    "os.makedirs('figures', exist_ok=True)\n",
    "fig.savefig('figures/sampling_rate_impact.pdf')"
   ]
  },
  {
   "cell_type": "code",
   "execution_count": null,
   "id": "2c9b4902-14fb-445b-b2ea-328c0025e44e",
   "metadata": {},
   "outputs": [],
   "source": []
  }
 ],
 "metadata": {
  "kernelspec": {
   "display_name": "Python 3 (ipykernel)",
   "language": "python",
   "name": "python3"
  },
  "language_info": {
   "codemirror_mode": {
    "name": "ipython",
    "version": 3
   },
   "file_extension": ".py",
   "mimetype": "text/x-python",
   "name": "python",
   "nbconvert_exporter": "python",
   "pygments_lexer": "ipython3",
   "version": "3.9.7"
  },
  "widgets": {
   "application/vnd.jupyter.widget-state+json": {
    "state": {
     "000b958689e14168ae712a95770518a2": {
      "model_module": "@jupyter-widgets/base",
      "model_module_version": "2.0.0",
      "model_name": "LayoutModel",
      "state": {}
     },
     "012905435606427d9dc46033c1bdb3f9": {
      "model_module": "@jupyter-widgets/base",
      "model_module_version": "2.0.0",
      "model_name": "LayoutModel",
      "state": {}
     },
     "0241b65441f2460ab2946b0bd9b57914": {
      "model_module": "@jupyter-widgets/controls",
      "model_module_version": "2.0.0",
      "model_name": "FloatProgressModel",
      "state": {
       "bar_style": "success",
       "layout": "IPY_MODEL_69ab86a2eadc4ce7aa3b35661c04919b",
       "max": 50,
       "style": "IPY_MODEL_8222238c54d648888e431d24a0a1545d",
       "value": 50
      }
     },
     "028fe650ad93470bb3b4151030a2db57": {
      "model_module": "@jupyter-widgets/controls",
      "model_module_version": "2.0.0",
      "model_name": "HTMLStyleModel",
      "state": {
       "description_width": "",
       "font_size": null,
       "text_color": null
      }
     },
     "033e53c8e48847cbbdad0ceb1bfdf17f": {
      "model_module": "@jupyter-widgets/controls",
      "model_module_version": "2.0.0",
      "model_name": "HTMLStyleModel",
      "state": {
       "description_width": "",
       "font_size": null,
       "text_color": null
      }
     },
     "0757138463824821abf55ead4a212164": {
      "model_module": "@jupyter-widgets/base",
      "model_module_version": "2.0.0",
      "model_name": "LayoutModel",
      "state": {}
     },
     "075dc05d98fc43cba3eef865696b14ce": {
      "model_module": "@jupyter-widgets/controls",
      "model_module_version": "2.0.0",
      "model_name": "HTMLStyleModel",
      "state": {
       "description_width": "",
       "font_size": null,
       "text_color": null
      }
     },
     "07b7ecbb1203493f9219639cc1b611a2": {
      "model_module": "@jupyter-widgets/controls",
      "model_module_version": "2.0.0",
      "model_name": "HTMLStyleModel",
      "state": {
       "description_width": "",
       "font_size": null,
       "text_color": null
      }
     },
     "07e2c5e9f96142c6bc969b5c778348d1": {
      "model_module": "@jupyter-widgets/base",
      "model_module_version": "2.0.0",
      "model_name": "LayoutModel",
      "state": {}
     },
     "09056c38e3d24964aebef21261e3989f": {
      "model_module": "@jupyter-widgets/controls",
      "model_module_version": "2.0.0",
      "model_name": "HTMLStyleModel",
      "state": {
       "description_width": "",
       "font_size": null,
       "text_color": null
      }
     },
     "096aaa814efd486fb3ed7168866570db": {
      "model_module": "@jupyter-widgets/controls",
      "model_module_version": "2.0.0",
      "model_name": "HTMLStyleModel",
      "state": {
       "description_width": "",
       "font_size": null,
       "text_color": null
      }
     },
     "0c4d0e9aa29049eeb6057f36efa2bab8": {
      "model_module": "@jupyter-widgets/base",
      "model_module_version": "2.0.0",
      "model_name": "LayoutModel",
      "state": {}
     },
     "0d1be89c969a4e849ae8d8d5d298bf50": {
      "model_module": "@jupyter-widgets/base",
      "model_module_version": "2.0.0",
      "model_name": "LayoutModel",
      "state": {}
     },
     "0d413732a9294ed7972c1fc869c00a3d": {
      "model_module": "@jupyter-widgets/base",
      "model_module_version": "2.0.0",
      "model_name": "LayoutModel",
      "state": {}
     },
     "0dc8f658dcd7428d947edabf42c6a0a5": {
      "model_module": "@jupyter-widgets/controls",
      "model_module_version": "2.0.0",
      "model_name": "HTMLModel",
      "state": {
       "layout": "IPY_MODEL_2a0cc30a01bb4aa0b5c8f23c478bb18c",
       "style": "IPY_MODEL_f3f1c70b302b493d92af81bf90c7144c",
       "value": "tr-rmse:0.03,cont:0.04,pole:0.00,real:0.00|vl-rmse:0.02: 100%"
      }
     },
     "0eb0cf1a2d3847b8afc391d2b06c1e78": {
      "model_module": "@jupyter-widgets/base",
      "model_module_version": "2.0.0",
      "model_name": "LayoutModel",
      "state": {}
     },
     "10e03b48c3cf4e1eb48d4d6d8689caa5": {
      "model_module": "@jupyter-widgets/base",
      "model_module_version": "2.0.0",
      "model_name": "LayoutModel",
      "state": {}
     },
     "12535dd8dc7e47b1a311050c393624eb": {
      "model_module": "@jupyter-widgets/controls",
      "model_module_version": "2.0.0",
      "model_name": "HTMLStyleModel",
      "state": {
       "description_width": "",
       "font_size": null,
       "text_color": null
      }
     },
     "134dc04357334e108424dbbc414a20a2": {
      "model_module": "@jupyter-widgets/base",
      "model_module_version": "2.0.0",
      "model_name": "LayoutModel",
      "state": {}
     },
     "153446ac77cc4e308886677052833aa2": {
      "model_module": "@jupyter-widgets/controls",
      "model_module_version": "2.0.0",
      "model_name": "HBoxModel",
      "state": {
       "children": [
        "IPY_MODEL_c6b424a9e9c64325b9a2d14c980a2f4c",
        "IPY_MODEL_39967ff956514b93bf122d075f9e6063",
        "IPY_MODEL_d7a2f4a682d648b3bf8e3bf1cd08507b"
       ],
       "layout": "IPY_MODEL_a4561a82293b424ba32aac4613feb3bf"
      }
     },
     "183b19995a0b487f9f7dd20c03ea027c": {
      "model_module": "@jupyter-widgets/controls",
      "model_module_version": "2.0.0",
      "model_name": "HTMLStyleModel",
      "state": {
       "description_width": "",
       "font_size": null,
       "text_color": null
      }
     },
     "18d0ba56ccfd421e846abc9776c733c6": {
      "model_module": "@jupyter-widgets/controls",
      "model_module_version": "2.0.0",
      "model_name": "HTMLStyleModel",
      "state": {
       "description_width": "",
       "font_size": null,
       "text_color": null
      }
     },
     "19be5205cdd246f0a34302a5d0680144": {
      "model_module": "@jupyter-widgets/controls",
      "model_module_version": "2.0.0",
      "model_name": "HTMLStyleModel",
      "state": {
       "description_width": "",
       "font_size": null,
       "text_color": null
      }
     },
     "19c052ba5740460cb51f2ff2577746e1": {
      "model_module": "@jupyter-widgets/base",
      "model_module_version": "2.0.0",
      "model_name": "LayoutModel",
      "state": {}
     },
     "1b0f4e98936f4affa0e25321dcda1b5d": {
      "model_module": "@jupyter-widgets/controls",
      "model_module_version": "2.0.0",
      "model_name": "ProgressStyleModel",
      "state": {
       "description_width": ""
      }
     },
     "1b6c78d1dc8b4241b327df965a47d253": {
      "model_module": "@jupyter-widgets/controls",
      "model_module_version": "2.0.0",
      "model_name": "HBoxModel",
      "state": {
       "children": [
        "IPY_MODEL_dfd175c5bb99420caf3eaf551e43a2b6",
        "IPY_MODEL_461c44c3f22c422fa84752ef2535ae08",
        "IPY_MODEL_a8dd69f19ed144268623c93af6690e39"
       ],
       "layout": "IPY_MODEL_f1e96e6b70154597a6ae269c73771f6c"
      }
     },
     "1b751468b1f64769934eb9d06fd28495": {
      "model_module": "@jupyter-widgets/base",
      "model_module_version": "2.0.0",
      "model_name": "LayoutModel",
      "state": {}
     },
     "1ce945e0de55491795c73960685aaf2e": {
      "model_module": "@jupyter-widgets/base",
      "model_module_version": "2.0.0",
      "model_name": "LayoutModel",
      "state": {}
     },
     "1e73f9165f624b7f8acf2ea68262c883": {
      "model_module": "@jupyter-widgets/base",
      "model_module_version": "2.0.0",
      "model_name": "LayoutModel",
      "state": {}
     },
     "217d2e7b1ce24f86a1e98bf7528ba090": {
      "model_module": "@jupyter-widgets/controls",
      "model_module_version": "2.0.0",
      "model_name": "HBoxModel",
      "state": {
       "children": [
        "IPY_MODEL_f7d4e440eeb04faebc113fda4ea06b6b",
        "IPY_MODEL_a3e841328b034d6fbd9c995239bda920",
        "IPY_MODEL_d3bafcd342304ea9a5cda1e23e56f081"
       ],
       "layout": "IPY_MODEL_abea49a1e1664aa5ae5bf21e488d3e2d"
      }
     },
     "21faf16031304ddb83e0a7860a1df55e": {
      "model_module": "@jupyter-widgets/controls",
      "model_module_version": "2.0.0",
      "model_name": "HTMLStyleModel",
      "state": {
       "description_width": "",
       "font_size": null,
       "text_color": null
      }
     },
     "2271fbd9daf24097a22ad6a8ee575160": {
      "model_module": "@jupyter-widgets/base",
      "model_module_version": "2.0.0",
      "model_name": "LayoutModel",
      "state": {}
     },
     "244d3c9a4a58442788918a885c0f3696": {
      "model_module": "@jupyter-widgets/controls",
      "model_module_version": "2.0.0",
      "model_name": "HTMLStyleModel",
      "state": {
       "description_width": "",
       "font_size": null,
       "text_color": null
      }
     },
     "26f3a754a90545d39e8b4c81eaafcdef": {
      "model_module": "@jupyter-widgets/base",
      "model_module_version": "2.0.0",
      "model_name": "LayoutModel",
      "state": {}
     },
     "26f67efc7d7f48b4825eadc7c98f3e8e": {
      "model_module": "@jupyter-widgets/controls",
      "model_module_version": "2.0.0",
      "model_name": "HBoxModel",
      "state": {
       "children": [
        "IPY_MODEL_6ded328081254858a0a6ac8ff69b5079",
        "IPY_MODEL_f396c40367ce4aa693ec59ec088a8317",
        "IPY_MODEL_7f1bf9e9643f4dc9aa76b2253e8e6a2f"
       ],
       "layout": "IPY_MODEL_1b751468b1f64769934eb9d06fd28495"
      }
     },
     "27b0684381f44215b8a548d6c01e472e": {
      "model_module": "@jupyter-widgets/controls",
      "model_module_version": "2.0.0",
      "model_name": "HTMLStyleModel",
      "state": {
       "description_width": "",
       "font_size": null,
       "text_color": null
      }
     },
     "27f4337dba5f42ac926fac818dc22d2e": {
      "model_module": "@jupyter-widgets/controls",
      "model_module_version": "2.0.0",
      "model_name": "FloatProgressModel",
      "state": {
       "bar_style": "success",
       "layout": "IPY_MODEL_fc35c7a4e29041bcb8806d5061efb9b0",
       "max": 50,
       "style": "IPY_MODEL_fe023296bd3744c582109265f75f2481",
       "value": 50
      }
     },
     "28584ccde6d248829c29e9f6f478a23f": {
      "model_module": "@jupyter-widgets/controls",
      "model_module_version": "2.0.0",
      "model_name": "HTMLModel",
      "state": {
       "layout": "IPY_MODEL_5d18b64f2115439982b55dc9dd7fb801",
       "style": "IPY_MODEL_183b19995a0b487f9f7dd20c03ea027c",
       "value": "tr-rmse:0.03,cont:0.05,pole:0.00,real:0.00|vl-rmse:0.04: 100%"
      }
     },
     "2a0cc30a01bb4aa0b5c8f23c478bb18c": {
      "model_module": "@jupyter-widgets/base",
      "model_module_version": "2.0.0",
      "model_name": "LayoutModel",
      "state": {}
     },
     "2acc1d0f88b14912b1006fd1749cd607": {
      "model_module": "@jupyter-widgets/controls",
      "model_module_version": "2.0.0",
      "model_name": "HBoxModel",
      "state": {
       "children": [
        "IPY_MODEL_7cc9fb5d890a495095514c17b12f78f7",
        "IPY_MODEL_56782a6aa9d24c86b9638899ab853bde",
        "IPY_MODEL_cbc5d865469144f58086ddf5b364aa85"
       ],
       "layout": "IPY_MODEL_47b25e3973a24d2ca8a552cb5a74d338"
      }
     },
     "2b359a96e24446269026ad6e12bd9ebd": {
      "model_module": "@jupyter-widgets/controls",
      "model_module_version": "2.0.0",
      "model_name": "HTMLStyleModel",
      "state": {
       "description_width": "",
       "font_size": null,
       "text_color": null
      }
     },
     "2be0b408a2d14f92936fd4107d6cc4b6": {
      "model_module": "@jupyter-widgets/controls",
      "model_module_version": "2.0.0",
      "model_name": "FloatProgressModel",
      "state": {
       "bar_style": "success",
       "layout": "IPY_MODEL_f823749aeda54b3a82f9d435892ab0da",
       "max": 50,
       "style": "IPY_MODEL_bd556ca8a8f7460c997005e8079ce9f2",
       "value": 50
      }
     },
     "2f9dc50ff9ca496cb55279990915edfd": {
      "model_module": "@jupyter-widgets/controls",
      "model_module_version": "2.0.0",
      "model_name": "HBoxModel",
      "state": {
       "children": [
        "IPY_MODEL_9971db13430843279c6ae082abc593d6",
        "IPY_MODEL_90d08ecdc8ae48ba9cd81c520ea0d13c",
        "IPY_MODEL_76676ab4173642679f8e9a51409eb320"
       ],
       "layout": "IPY_MODEL_26f3a754a90545d39e8b4c81eaafcdef"
      }
     },
     "2fe08c89cd7e487b8b624b819751e3e1": {
      "model_module": "@jupyter-widgets/controls",
      "model_module_version": "2.0.0",
      "model_name": "HTMLStyleModel",
      "state": {
       "description_width": "",
       "font_size": null,
       "text_color": null
      }
     },
     "2ff7e792a9564f2994c93f7bae34b752": {
      "model_module": "@jupyter-widgets/base",
      "model_module_version": "2.0.0",
      "model_name": "LayoutModel",
      "state": {}
     },
     "30543cc24c544d71be617f4904c04333": {
      "model_module": "@jupyter-widgets/controls",
      "model_module_version": "2.0.0",
      "model_name": "HTMLStyleModel",
      "state": {
       "description_width": "",
       "font_size": null,
       "text_color": null
      }
     },
     "31e93c734cd44967b20aee69de6eb143": {
      "model_module": "@jupyter-widgets/controls",
      "model_module_version": "2.0.0",
      "model_name": "HTMLStyleModel",
      "state": {
       "description_width": "",
       "font_size": null,
       "text_color": null
      }
     },
     "320b72ba9f344cde88aeb90fb8eac483": {
      "model_module": "@jupyter-widgets/controls",
      "model_module_version": "2.0.0",
      "model_name": "HTMLModel",
      "state": {
       "layout": "IPY_MODEL_bf027458278a4e4387ae2103eb93c2c7",
       "style": "IPY_MODEL_de99c7fa5c8049f48d7aa86c697dd992",
       "value": " 50/50 [00:05&lt;00:00,  8.63it/s]"
      }
     },
     "33443c241f1e41b6b1016096a489bf5c": {
      "model_module": "@jupyter-widgets/base",
      "model_module_version": "2.0.0",
      "model_name": "LayoutModel",
      "state": {}
     },
     "33f2bf8fa0c5405990f538d8316731c4": {
      "model_module": "@jupyter-widgets/controls",
      "model_module_version": "2.0.0",
      "model_name": "HTMLModel",
      "state": {
       "layout": "IPY_MODEL_cb5382162390470aa89c7770cb9de36b",
       "style": "IPY_MODEL_77316e485cb14fd3ba2e8f820c233b03",
       "value": "tr-rmse:0.05,cont:0.37,pole:0.00,real:0.01|vl-rmse:0.04: 100%"
      }
     },
     "36b107aebaca4b289cfa3df2492d8db7": {
      "model_module": "@jupyter-widgets/controls",
      "model_module_version": "2.0.0",
      "model_name": "HTMLModel",
      "state": {
       "layout": "IPY_MODEL_c46405bcb8b04130965d3c41d4f2ab37",
       "style": "IPY_MODEL_2fe08c89cd7e487b8b624b819751e3e1",
       "value": "tr-rmse:0.06,cont:0.46,pole:0.00,real:0.00|vl-rmse:0.06: 100%"
      }
     },
     "36b2a1cd02ff4849be7ba1faf7132287": {
      "model_module": "@jupyter-widgets/base",
      "model_module_version": "2.0.0",
      "model_name": "LayoutModel",
      "state": {}
     },
     "36e2b7d0969a4d0daa75d588cd6aca8a": {
      "model_module": "@jupyter-widgets/controls",
      "model_module_version": "2.0.0",
      "model_name": "HBoxModel",
      "state": {
       "children": [
        "IPY_MODEL_88a7dacb9b634fc1925936e10879f3d0",
        "IPY_MODEL_2be0b408a2d14f92936fd4107d6cc4b6",
        "IPY_MODEL_ff5fb16f72cc48d094d24fc0325d2ebf"
       ],
       "layout": "IPY_MODEL_88ae12c2e53e4e279a0a3219efff6c42"
      }
     },
     "36f08a6c81d54f8b8c41b18e616a74ee": {
      "model_module": "@jupyter-widgets/base",
      "model_module_version": "2.0.0",
      "model_name": "LayoutModel",
      "state": {}
     },
     "398abe432db94420ad495284fc74771c": {
      "model_module": "@jupyter-widgets/controls",
      "model_module_version": "2.0.0",
      "model_name": "HTMLStyleModel",
      "state": {
       "description_width": "",
       "font_size": null,
       "text_color": null
      }
     },
     "39967ff956514b93bf122d075f9e6063": {
      "model_module": "@jupyter-widgets/controls",
      "model_module_version": "2.0.0",
      "model_name": "FloatProgressModel",
      "state": {
       "bar_style": "success",
       "layout": "IPY_MODEL_936ad3e663e04913ade97c18124f535b",
       "max": 50,
       "style": "IPY_MODEL_1b0f4e98936f4affa0e25321dcda1b5d",
       "value": 50
      }
     },
     "3b4b6f7648fe42b9875963e43f37caa5": {
      "model_module": "@jupyter-widgets/base",
      "model_module_version": "2.0.0",
      "model_name": "LayoutModel",
      "state": {}
     },
     "3dfbb205da534ee190aaeadec017950d": {
      "model_module": "@jupyter-widgets/controls",
      "model_module_version": "2.0.0",
      "model_name": "HTMLStyleModel",
      "state": {
       "description_width": "",
       "font_size": null,
       "text_color": null
      }
     },
     "4003b8828f3e41f285fb4c56783f5068": {
      "model_module": "@jupyter-widgets/base",
      "model_module_version": "2.0.0",
      "model_name": "LayoutModel",
      "state": {}
     },
     "4062872953b44b80a46257557ff93c4d": {
      "model_module": "@jupyter-widgets/base",
      "model_module_version": "2.0.0",
      "model_name": "LayoutModel",
      "state": {}
     },
     "40945ef6baeb48299a95a25398c23b98": {
      "model_module": "@jupyter-widgets/base",
      "model_module_version": "2.0.0",
      "model_name": "LayoutModel",
      "state": {}
     },
     "411ebb72faa94bcaa31298bdf612cc86": {
      "model_module": "@jupyter-widgets/controls",
      "model_module_version": "2.0.0",
      "model_name": "ProgressStyleModel",
      "state": {
       "description_width": ""
      }
     },
     "417f149a1afd4d11bf19389388290b43": {
      "model_module": "@jupyter-widgets/base",
      "model_module_version": "2.0.0",
      "model_name": "LayoutModel",
      "state": {}
     },
     "43568434cd374f4aa588e4c8ae737ed1": {
      "model_module": "@jupyter-widgets/controls",
      "model_module_version": "2.0.0",
      "model_name": "HTMLModel",
      "state": {
       "layout": "IPY_MODEL_8acab1736a1f4d67b47c923222a30535",
       "style": "IPY_MODEL_afb99eae9359405dbc914d5b9e2a4bec",
       "value": " 50/50 [00:06&lt;00:00,  7.70it/s]"
      }
     },
     "43b0d6ca99da4945993828640bf76997": {
      "model_module": "@jupyter-widgets/controls",
      "model_module_version": "2.0.0",
      "model_name": "HTMLModel",
      "state": {
       "layout": "IPY_MODEL_0c4d0e9aa29049eeb6057f36efa2bab8",
       "style": "IPY_MODEL_27b0684381f44215b8a548d6c01e472e",
       "value": "tr-rmse:0.04,cont:0.15,pole:0.00,real:0.01|vl-rmse:0.05: 100%"
      }
     },
     "45cd23ca2d9747efa45631ec5ae08b67": {
      "model_module": "@jupyter-widgets/controls",
      "model_module_version": "2.0.0",
      "model_name": "HTMLStyleModel",
      "state": {
       "description_width": "",
       "font_size": null,
       "text_color": null
      }
     },
     "45f3cc4027d8452e8c7d5639010f8203": {
      "model_module": "@jupyter-widgets/controls",
      "model_module_version": "2.0.0",
      "model_name": "HBoxModel",
      "state": {
       "children": [
        "IPY_MODEL_f77e81c782d1466bada684ad313a91ca",
        "IPY_MODEL_0241b65441f2460ab2946b0bd9b57914",
        "IPY_MODEL_814f966204b34a48a4afa4eaf92f3c99"
       ],
       "layout": "IPY_MODEL_6a9b0cea763f4724897514c83e53c758"
      }
     },
     "461c44c3f22c422fa84752ef2535ae08": {
      "model_module": "@jupyter-widgets/controls",
      "model_module_version": "2.0.0",
      "model_name": "FloatProgressModel",
      "state": {
       "bar_style": "success",
       "layout": "IPY_MODEL_33443c241f1e41b6b1016096a489bf5c",
       "max": 50,
       "style": "IPY_MODEL_fd93814c55ee4b05a7ac5edcf2d94aa3",
       "value": 50
      }
     },
     "47b25e3973a24d2ca8a552cb5a74d338": {
      "model_module": "@jupyter-widgets/base",
      "model_module_version": "2.0.0",
      "model_name": "LayoutModel",
      "state": {}
     },
     "4a8d0d08068a4052b787a1997d7f3afb": {
      "model_module": "@jupyter-widgets/controls",
      "model_module_version": "2.0.0",
      "model_name": "ProgressStyleModel",
      "state": {
       "description_width": ""
      }
     },
     "4d83a680151f4df9b4a940ee20dd03f3": {
      "model_module": "@jupyter-widgets/controls",
      "model_module_version": "2.0.0",
      "model_name": "HTMLModel",
      "state": {
       "layout": "IPY_MODEL_5c5ab0e7944f4f2192536eb27ae2c8b5",
       "style": "IPY_MODEL_8e10e50f1676416b9cee5dd04383319b",
       "value": " 50/50 [00:05&lt;00:00,  9.88it/s]"
      }
     },
     "4de127365597438aa37b433798dbe8be": {
      "model_module": "@jupyter-widgets/controls",
      "model_module_version": "2.0.0",
      "model_name": "ProgressStyleModel",
      "state": {
       "description_width": ""
      }
     },
     "51bd7ca64e3f42f8b0259d80146b14bc": {
      "model_module": "@jupyter-widgets/base",
      "model_module_version": "2.0.0",
      "model_name": "LayoutModel",
      "state": {}
     },
     "51c9a472dd4242638f322970a50883c9": {
      "model_module": "@jupyter-widgets/controls",
      "model_module_version": "2.0.0",
      "model_name": "HBoxModel",
      "state": {
       "children": [
        "IPY_MODEL_8a213e791b0f467fbe2f77b234b3ebc8",
        "IPY_MODEL_fe2c2978af6749ef9c543ec2fc97e7f1",
        "IPY_MODEL_d584aefc0a4b4d22905c0c4ceffcf4d8"
       ],
       "layout": "IPY_MODEL_779e32cd632d4e2a8a2370ac8288f27f"
      }
     },
     "52061c4b5d124bc6b35cfdd47b75f742": {
      "model_module": "@jupyter-widgets/controls",
      "model_module_version": "2.0.0",
      "model_name": "HBoxModel",
      "state": {
       "children": [
        "IPY_MODEL_7cd5c5074b2343778b6eebca20e91706",
        "IPY_MODEL_6a2343286b364bd1a89dfd7c35fb3902",
        "IPY_MODEL_43568434cd374f4aa588e4c8ae737ed1"
       ],
       "layout": "IPY_MODEL_0eb0cf1a2d3847b8afc391d2b06c1e78"
      }
     },
     "56782a6aa9d24c86b9638899ab853bde": {
      "model_module": "@jupyter-widgets/controls",
      "model_module_version": "2.0.0",
      "model_name": "FloatProgressModel",
      "state": {
       "bar_style": "success",
       "layout": "IPY_MODEL_0d413732a9294ed7972c1fc869c00a3d",
       "max": 50,
       "style": "IPY_MODEL_d3e330b2ee1a4aebb8f17085d24a3ee8",
       "value": 50
      }
     },
     "56cebf8498c643a3b4199281eeaceecf": {
      "model_module": "@jupyter-widgets/base",
      "model_module_version": "2.0.0",
      "model_name": "LayoutModel",
      "state": {}
     },
     "57997c4c4e344bfb8d3dd0c42abc8c2b": {
      "model_module": "@jupyter-widgets/controls",
      "model_module_version": "2.0.0",
      "model_name": "HTMLModel",
      "state": {
       "layout": "IPY_MODEL_19c052ba5740460cb51f2ff2577746e1",
       "style": "IPY_MODEL_09056c38e3d24964aebef21261e3989f",
       "value": "tr-rmse:0.04,cont:0.08,pole:0.00,real:0.00|vl-rmse:0.04: 100%"
      }
     },
     "5a05f715eb7c475dbd0cfc4efbff63ea": {
      "model_module": "@jupyter-widgets/controls",
      "model_module_version": "2.0.0",
      "model_name": "FloatProgressModel",
      "state": {
       "bar_style": "success",
       "layout": "IPY_MODEL_56cebf8498c643a3b4199281eeaceecf",
       "max": 50,
       "style": "IPY_MODEL_4de127365597438aa37b433798dbe8be",
       "value": 50
      }
     },
     "5b64e0f68001411eb965a194abaf05f1": {
      "model_module": "@jupyter-widgets/base",
      "model_module_version": "2.0.0",
      "model_name": "LayoutModel",
      "state": {}
     },
     "5c5ab0e7944f4f2192536eb27ae2c8b5": {
      "model_module": "@jupyter-widgets/base",
      "model_module_version": "2.0.0",
      "model_name": "LayoutModel",
      "state": {}
     },
     "5d18b64f2115439982b55dc9dd7fb801": {
      "model_module": "@jupyter-widgets/base",
      "model_module_version": "2.0.0",
      "model_name": "LayoutModel",
      "state": {}
     },
     "5ee1736e03be493e882df5a8c0c7b7eb": {
      "model_module": "@jupyter-widgets/base",
      "model_module_version": "2.0.0",
      "model_name": "LayoutModel",
      "state": {}
     },
     "60756df7ea424ce7bdcdf8cf640652a4": {
      "model_module": "@jupyter-widgets/base",
      "model_module_version": "2.0.0",
      "model_name": "LayoutModel",
      "state": {}
     },
     "630bea7a0c594990b09e9fbfbe14d915": {
      "model_module": "@jupyter-widgets/controls",
      "model_module_version": "2.0.0",
      "model_name": "ProgressStyleModel",
      "state": {
       "description_width": ""
      }
     },
     "642af27bf61a4848aecdab2bc6e5750e": {
      "model_module": "@jupyter-widgets/base",
      "model_module_version": "2.0.0",
      "model_name": "LayoutModel",
      "state": {}
     },
     "648cbadb92a84758b4c40822fb361ac1": {
      "model_module": "@jupyter-widgets/controls",
      "model_module_version": "2.0.0",
      "model_name": "HTMLStyleModel",
      "state": {
       "description_width": "",
       "font_size": null,
       "text_color": null
      }
     },
     "65f519a575c04dfcb3edddfce12efb69": {
      "model_module": "@jupyter-widgets/controls",
      "model_module_version": "2.0.0",
      "model_name": "HBoxModel",
      "state": {
       "children": [
        "IPY_MODEL_69a19d7c11b54e37bf67d26668f7db6b",
        "IPY_MODEL_79a4d3f836704caeb0b5bf5697f964f4",
        "IPY_MODEL_9f26eb0f845142a5a8ecf076e8990e97"
       ],
       "layout": "IPY_MODEL_c90d9bd2362d4312ad59ae6da552cd43"
      }
     },
     "6619ea7285af4cc09d3099c532f83fc7": {
      "model_module": "@jupyter-widgets/controls",
      "model_module_version": "2.0.0",
      "model_name": "HBoxModel",
      "state": {
       "children": [
        "IPY_MODEL_33f2bf8fa0c5405990f538d8316731c4",
        "IPY_MODEL_c61c8f4c752c411f9b986171ac63c1e2",
        "IPY_MODEL_7ee9af98268a421ea332cad862301422"
       ],
       "layout": "IPY_MODEL_acd473647fb144198f0d80c6c1db1a8a"
      }
     },
     "6623080b4c1c47c695f6d8645246b324": {
      "model_module": "@jupyter-widgets/controls",
      "model_module_version": "2.0.0",
      "model_name": "ProgressStyleModel",
      "state": {
       "description_width": ""
      }
     },
     "66d87c9ce49b49c8b11eebda6b34fa37": {
      "model_module": "@jupyter-widgets/controls",
      "model_module_version": "2.0.0",
      "model_name": "HBoxModel",
      "state": {
       "children": [
        "IPY_MODEL_988aea6d021a4df0862b90fc8e7a1f6a",
        "IPY_MODEL_5a05f715eb7c475dbd0cfc4efbff63ea",
        "IPY_MODEL_320b72ba9f344cde88aeb90fb8eac483"
       ],
       "layout": "IPY_MODEL_7d6f1ccf3209471e92037f770e0c587a"
      }
     },
     "67231195587a4b6eb229fda0831d4c62": {
      "model_module": "@jupyter-widgets/base",
      "model_module_version": "2.0.0",
      "model_name": "LayoutModel",
      "state": {}
     },
     "6883c6b4425249a5a0df02c892db5419": {
      "model_module": "@jupyter-widgets/base",
      "model_module_version": "2.0.0",
      "model_name": "LayoutModel",
      "state": {}
     },
     "69a19d7c11b54e37bf67d26668f7db6b": {
      "model_module": "@jupyter-widgets/controls",
      "model_module_version": "2.0.0",
      "model_name": "HTMLModel",
      "state": {
       "layout": "IPY_MODEL_ba68c80490114e6da77dc82171785d2d",
       "style": "IPY_MODEL_31e93c734cd44967b20aee69de6eb143",
       "value": "tr-rmse:0.02,cont:0.04,pole:0.00,real:0.00|vl-rmse:0.02: 100%"
      }
     },
     "69ab86a2eadc4ce7aa3b35661c04919b": {
      "model_module": "@jupyter-widgets/base",
      "model_module_version": "2.0.0",
      "model_name": "LayoutModel",
      "state": {}
     },
     "69fef21467a54942885c4b411d313f22": {
      "model_module": "@jupyter-widgets/controls",
      "model_module_version": "2.0.0",
      "model_name": "HTMLStyleModel",
      "state": {
       "description_width": "",
       "font_size": null,
       "text_color": null
      }
     },
     "6a2343286b364bd1a89dfd7c35fb3902": {
      "model_module": "@jupyter-widgets/controls",
      "model_module_version": "2.0.0",
      "model_name": "FloatProgressModel",
      "state": {
       "bar_style": "success",
       "layout": "IPY_MODEL_e0bb3a9d4d9b4f09bbb5578a7dc718f3",
       "max": 50,
       "style": "IPY_MODEL_4a8d0d08068a4052b787a1997d7f3afb",
       "value": 50
      }
     },
     "6a9b0cea763f4724897514c83e53c758": {
      "model_module": "@jupyter-widgets/base",
      "model_module_version": "2.0.0",
      "model_name": "LayoutModel",
      "state": {}
     },
     "6aa06cc753264d2abed0a18c83905a59": {
      "model_module": "@jupyter-widgets/controls",
      "model_module_version": "2.0.0",
      "model_name": "ProgressStyleModel",
      "state": {
       "description_width": ""
      }
     },
     "6c632ac4c4e84a9199b14713f3b7f26b": {
      "model_module": "@jupyter-widgets/controls",
      "model_module_version": "2.0.0",
      "model_name": "FloatProgressModel",
      "state": {
       "bar_style": "success",
       "layout": "IPY_MODEL_51bd7ca64e3f42f8b0259d80146b14bc",
       "max": 50,
       "style": "IPY_MODEL_411ebb72faa94bcaa31298bdf612cc86",
       "value": 50
      }
     },
     "6ded328081254858a0a6ac8ff69b5079": {
      "model_module": "@jupyter-widgets/controls",
      "model_module_version": "2.0.0",
      "model_name": "HTMLModel",
      "state": {
       "layout": "IPY_MODEL_dac09b015ec34f50a76a5b7220072c4e",
       "style": "IPY_MODEL_028fe650ad93470bb3b4151030a2db57",
       "value": "tr-rmse:0.03,cont:0.60,pole:0.00,real:0.00|vl-rmse:0.03: 100%"
      }
     },
     "72759f8a0278490e949a8ae4209adae0": {
      "model_module": "@jupyter-widgets/base",
      "model_module_version": "2.0.0",
      "model_name": "LayoutModel",
      "state": {}
     },
     "7407369b4dd44cc2959a43eaaa2e4846": {
      "model_module": "@jupyter-widgets/controls",
      "model_module_version": "2.0.0",
      "model_name": "HTMLStyleModel",
      "state": {
       "description_width": "",
       "font_size": null,
       "text_color": null
      }
     },
     "75ce44a009f94517a2cb605f9ab95ce2": {
      "model_module": "@jupyter-widgets/base",
      "model_module_version": "2.0.0",
      "model_name": "LayoutModel",
      "state": {}
     },
     "76676ab4173642679f8e9a51409eb320": {
      "model_module": "@jupyter-widgets/controls",
      "model_module_version": "2.0.0",
      "model_name": "HTMLModel",
      "state": {
       "layout": "IPY_MODEL_4062872953b44b80a46257557ff93c4d",
       "style": "IPY_MODEL_d8b2c2e2e2584f8ea1426a9cf270e029",
       "value": " 50/50 [00:05&lt;00:00,  8.66it/s]"
      }
     },
     "7708136b030645a3b77e67c20c4eb584": {
      "model_module": "@jupyter-widgets/controls",
      "model_module_version": "2.0.0",
      "model_name": "ProgressStyleModel",
      "state": {
       "description_width": ""
      }
     },
     "77316e485cb14fd3ba2e8f820c233b03": {
      "model_module": "@jupyter-widgets/controls",
      "model_module_version": "2.0.0",
      "model_name": "HTMLStyleModel",
      "state": {
       "description_width": "",
       "font_size": null,
       "text_color": null
      }
     },
     "779e32cd632d4e2a8a2370ac8288f27f": {
      "model_module": "@jupyter-widgets/base",
      "model_module_version": "2.0.0",
      "model_name": "LayoutModel",
      "state": {}
     },
     "78a4b02976b4491cb26b6492ee6859ea": {
      "model_module": "@jupyter-widgets/controls",
      "model_module_version": "2.0.0",
      "model_name": "HTMLModel",
      "state": {
       "layout": "IPY_MODEL_e405609221f44590aac453630f5af97b",
       "style": "IPY_MODEL_30543cc24c544d71be617f4904c04333",
       "value": "tr-rmse:0.03,cont:0.05,pole:0.00,real:0.00|vl-rmse:0.02: 100%"
      }
     },
     "79a4d3f836704caeb0b5bf5697f964f4": {
      "model_module": "@jupyter-widgets/controls",
      "model_module_version": "2.0.0",
      "model_name": "FloatProgressModel",
      "state": {
       "bar_style": "success",
       "layout": "IPY_MODEL_10e03b48c3cf4e1eb48d4d6d8689caa5",
       "max": 50,
       "style": "IPY_MODEL_6aa06cc753264d2abed0a18c83905a59",
       "value": 50
      }
     },
     "79dd035606984cffb1341a9c1b124563": {
      "model_module": "@jupyter-widgets/base",
      "model_module_version": "2.0.0",
      "model_name": "LayoutModel",
      "state": {}
     },
     "7cc9fb5d890a495095514c17b12f78f7": {
      "model_module": "@jupyter-widgets/controls",
      "model_module_version": "2.0.0",
      "model_name": "HTMLModel",
      "state": {
       "layout": "IPY_MODEL_134dc04357334e108424dbbc414a20a2",
       "style": "IPY_MODEL_3dfbb205da534ee190aaeadec017950d",
       "value": "tr-rmse:0.05,cont:0.38,pole:0.00,real:0.00|vl-rmse:0.05: 100%"
      }
     },
     "7cd5c5074b2343778b6eebca20e91706": {
      "model_module": "@jupyter-widgets/controls",
      "model_module_version": "2.0.0",
      "model_name": "HTMLModel",
      "state": {
       "layout": "IPY_MODEL_9620087cae674856a7124adaf45a93fd",
       "style": "IPY_MODEL_096aaa814efd486fb3ed7168866570db",
       "value": "tr-rmse:0.03,cont:0.06,pole:0.00,real:0.00|vl-rmse:0.03: 100%"
      }
     },
     "7d6f1ccf3209471e92037f770e0c587a": {
      "model_module": "@jupyter-widgets/base",
      "model_module_version": "2.0.0",
      "model_name": "LayoutModel",
      "state": {}
     },
     "7ee9af98268a421ea332cad862301422": {
      "model_module": "@jupyter-widgets/controls",
      "model_module_version": "2.0.0",
      "model_name": "HTMLModel",
      "state": {
       "layout": "IPY_MODEL_ee056f469e254ffab215c2cf31303098",
       "style": "IPY_MODEL_b2d06cf8e90f406ea92ce344f241e8b5",
       "value": " 50/50 [00:05&lt;00:00,  9.83it/s]"
      }
     },
     "7f1bf9e9643f4dc9aa76b2253e8e6a2f": {
      "model_module": "@jupyter-widgets/controls",
      "model_module_version": "2.0.0",
      "model_name": "HTMLModel",
      "state": {
       "layout": "IPY_MODEL_012905435606427d9dc46033c1bdb3f9",
       "style": "IPY_MODEL_075dc05d98fc43cba3eef865696b14ce",
       "value": " 50/50 [00:07&lt;00:00,  6.76it/s]"
      }
     },
     "814f966204b34a48a4afa4eaf92f3c99": {
      "model_module": "@jupyter-widgets/controls",
      "model_module_version": "2.0.0",
      "model_name": "HTMLModel",
      "state": {
       "layout": "IPY_MODEL_e4f87c796b654df8ae2235bb519ee144",
       "style": "IPY_MODEL_cde5b28d0c3a4166b490ab0f2896d703",
       "value": " 50/50 [00:05&lt;00:00,  9.70it/s]"
      }
     },
     "81e5291003f44eb0acc9cce666a30ebf": {
      "model_module": "@jupyter-widgets/controls",
      "model_module_version": "2.0.0",
      "model_name": "HTMLModel",
      "state": {
       "layout": "IPY_MODEL_2271fbd9daf24097a22ad6a8ee575160",
       "style": "IPY_MODEL_7407369b4dd44cc2959a43eaaa2e4846",
       "value": " 50/50 [00:05&lt;00:00,  8.44it/s]"
      }
     },
     "8222238c54d648888e431d24a0a1545d": {
      "model_module": "@jupyter-widgets/controls",
      "model_module_version": "2.0.0",
      "model_name": "ProgressStyleModel",
      "state": {
       "description_width": ""
      }
     },
     "872743f3f3c947f9b7f774859af09595": {
      "model_module": "@jupyter-widgets/controls",
      "model_module_version": "2.0.0",
      "model_name": "HTMLModel",
      "state": {
       "layout": "IPY_MODEL_90784fb2800c48569881cd83e5030a98",
       "style": "IPY_MODEL_cfad85d5939941e586a23641b7d73295",
       "value": " 50/50 [00:06&lt;00:00,  7.63it/s]"
      }
     },
     "87646184af724e3fba5cdb225c0b2083": {
      "model_module": "@jupyter-widgets/controls",
      "model_module_version": "2.0.0",
      "model_name": "HTMLModel",
      "state": {
       "layout": "IPY_MODEL_40945ef6baeb48299a95a25398c23b98",
       "style": "IPY_MODEL_033e53c8e48847cbbdad0ceb1bfdf17f",
       "value": " 50/50 [00:07&lt;00:00,  6.93it/s]"
      }
     },
     "88a7dacb9b634fc1925936e10879f3d0": {
      "model_module": "@jupyter-widgets/controls",
      "model_module_version": "2.0.0",
      "model_name": "HTMLModel",
      "state": {
       "layout": "IPY_MODEL_3b4b6f7648fe42b9875963e43f37caa5",
       "style": "IPY_MODEL_dd5121da9b904d7f8cfac01276f50e4e",
       "value": "tr-rmse:0.08,cont:1.96,pole:0.01,real:0.02|vl-rmse:0.09: 100%"
      }
     },
     "88ae12c2e53e4e279a0a3219efff6c42": {
      "model_module": "@jupyter-widgets/base",
      "model_module_version": "2.0.0",
      "model_name": "LayoutModel",
      "state": {}
     },
     "8a213e791b0f467fbe2f77b234b3ebc8": {
      "model_module": "@jupyter-widgets/controls",
      "model_module_version": "2.0.0",
      "model_name": "HTMLModel",
      "state": {
       "layout": "IPY_MODEL_75ce44a009f94517a2cb605f9ab95ce2",
       "style": "IPY_MODEL_2b359a96e24446269026ad6e12bd9ebd",
       "value": "tr-rmse:0.23,cont:0.57,pole:0.00,real:0.02|vl-rmse:0.22: 100%"
      }
     },
     "8acab1736a1f4d67b47c923222a30535": {
      "model_module": "@jupyter-widgets/base",
      "model_module_version": "2.0.0",
      "model_name": "LayoutModel",
      "state": {}
     },
     "8b7593538fdd4be8907fdb70330a1826": {
      "model_module": "@jupyter-widgets/base",
      "model_module_version": "2.0.0",
      "model_name": "LayoutModel",
      "state": {}
     },
     "8ce3a6336dd649889261cd70d93b32a9": {
      "model_module": "@jupyter-widgets/controls",
      "model_module_version": "2.0.0",
      "model_name": "HTMLStyleModel",
      "state": {
       "description_width": "",
       "font_size": null,
       "text_color": null
      }
     },
     "8e10e50f1676416b9cee5dd04383319b": {
      "model_module": "@jupyter-widgets/controls",
      "model_module_version": "2.0.0",
      "model_name": "HTMLStyleModel",
      "state": {
       "description_width": "",
       "font_size": null,
       "text_color": null
      }
     },
     "90784fb2800c48569881cd83e5030a98": {
      "model_module": "@jupyter-widgets/base",
      "model_module_version": "2.0.0",
      "model_name": "LayoutModel",
      "state": {}
     },
     "90d08ecdc8ae48ba9cd81c520ea0d13c": {
      "model_module": "@jupyter-widgets/controls",
      "model_module_version": "2.0.0",
      "model_name": "FloatProgressModel",
      "state": {
       "bar_style": "success",
       "layout": "IPY_MODEL_fc8530a750284b7cae90d623a1ee3ddb",
       "max": 50,
       "style": "IPY_MODEL_949931d5f9724f0abee14ffbc07bbd11",
       "value": 50
      }
     },
     "912e4b0038d54699abecd6b881edc6ce": {
      "model_module": "@jupyter-widgets/controls",
      "model_module_version": "2.0.0",
      "model_name": "ProgressStyleModel",
      "state": {
       "description_width": ""
      }
     },
     "92804aab809a4de78b883b54485da6dd": {
      "model_module": "@jupyter-widgets/controls",
      "model_module_version": "2.0.0",
      "model_name": "FloatProgressModel",
      "state": {
       "bar_style": "success",
       "layout": "IPY_MODEL_07e2c5e9f96142c6bc969b5c778348d1",
       "max": 50,
       "style": "IPY_MODEL_aaefa89127384fb0ad8b4a9e0faa73e5",
       "value": 50
      }
     },
     "936ad3e663e04913ade97c18124f535b": {
      "model_module": "@jupyter-widgets/base",
      "model_module_version": "2.0.0",
      "model_name": "LayoutModel",
      "state": {}
     },
     "949931d5f9724f0abee14ffbc07bbd11": {
      "model_module": "@jupyter-widgets/controls",
      "model_module_version": "2.0.0",
      "model_name": "ProgressStyleModel",
      "state": {
       "description_width": ""
      }
     },
     "9620087cae674856a7124adaf45a93fd": {
      "model_module": "@jupyter-widgets/base",
      "model_module_version": "2.0.0",
      "model_name": "LayoutModel",
      "state": {}
     },
     "988aea6d021a4df0862b90fc8e7a1f6a": {
      "model_module": "@jupyter-widgets/controls",
      "model_module_version": "2.0.0",
      "model_name": "HTMLModel",
      "state": {
       "layout": "IPY_MODEL_d6b2f5b69d48439dbe70b5ea127cf31c",
       "style": "IPY_MODEL_648cbadb92a84758b4c40822fb361ac1",
       "value": "tr-rmse:0.04,cont:0.14,pole:0.00,real:0.00|vl-rmse:0.04: 100%"
      }
     },
     "9971db13430843279c6ae082abc593d6": {
      "model_module": "@jupyter-widgets/controls",
      "model_module_version": "2.0.0",
      "model_name": "HTMLModel",
      "state": {
       "layout": "IPY_MODEL_000b958689e14168ae712a95770518a2",
       "style": "IPY_MODEL_07b7ecbb1203493f9219639cc1b611a2",
       "value": "tr-rmse:0.05,cont:0.22,pole:0.00,real:0.00|vl-rmse:0.05: 100%"
      }
     },
     "9f26eb0f845142a5a8ecf076e8990e97": {
      "model_module": "@jupyter-widgets/controls",
      "model_module_version": "2.0.0",
      "model_name": "HTMLModel",
      "state": {
       "layout": "IPY_MODEL_ade968a8a1184aab876082999b75489e",
       "style": "IPY_MODEL_45cd23ca2d9747efa45631ec5ae08b67",
       "value": " 50/50 [00:07&lt;00:00,  6.87it/s]"
      }
     },
     "9fc568a25a2049778e4fa76693cadfd1": {
      "model_module": "@jupyter-widgets/controls",
      "model_module_version": "2.0.0",
      "model_name": "HBoxModel",
      "state": {
       "children": [
        "IPY_MODEL_36b107aebaca4b289cfa3df2492d8db7",
        "IPY_MODEL_b9521874c7474eb0b6136c2cb42febef",
        "IPY_MODEL_4d83a680151f4df9b4a940ee20dd03f3"
       ],
       "layout": "IPY_MODEL_642af27bf61a4848aecdab2bc6e5750e"
      }
     },
     "a3e841328b034d6fbd9c995239bda920": {
      "model_module": "@jupyter-widgets/controls",
      "model_module_version": "2.0.0",
      "model_name": "FloatProgressModel",
      "state": {
       "bar_style": "success",
       "layout": "IPY_MODEL_e81fbbb8af7f4572973f25435450ded7",
       "max": 50,
       "style": "IPY_MODEL_bbe4352e0f124d9e87f9a12420426d15",
       "value": 50
      }
     },
     "a4561a82293b424ba32aac4613feb3bf": {
      "model_module": "@jupyter-widgets/base",
      "model_module_version": "2.0.0",
      "model_name": "LayoutModel",
      "state": {}
     },
     "a5422135f51244a98dd600291453198e": {
      "model_module": "@jupyter-widgets/controls",
      "model_module_version": "2.0.0",
      "model_name": "FloatProgressModel",
      "state": {
       "bar_style": "success",
       "layout": "IPY_MODEL_36b2a1cd02ff4849be7ba1faf7132287",
       "max": 50,
       "style": "IPY_MODEL_d2ddf5b324814c9fbfaa76dbee61c06a",
       "value": 50
      }
     },
     "a8dd69f19ed144268623c93af6690e39": {
      "model_module": "@jupyter-widgets/controls",
      "model_module_version": "2.0.0",
      "model_name": "HTMLModel",
      "state": {
       "layout": "IPY_MODEL_67231195587a4b6eb229fda0831d4c62",
       "style": "IPY_MODEL_19be5205cdd246f0a34302a5d0680144",
       "value": " 50/50 [00:06&lt;00:00,  7.75it/s]"
      }
     },
     "aaefa89127384fb0ad8b4a9e0faa73e5": {
      "model_module": "@jupyter-widgets/controls",
      "model_module_version": "2.0.0",
      "model_name": "ProgressStyleModel",
      "state": {
       "description_width": ""
      }
     },
     "abea49a1e1664aa5ae5bf21e488d3e2d": {
      "model_module": "@jupyter-widgets/base",
      "model_module_version": "2.0.0",
      "model_name": "LayoutModel",
      "state": {}
     },
     "acd473647fb144198f0d80c6c1db1a8a": {
      "model_module": "@jupyter-widgets/base",
      "model_module_version": "2.0.0",
      "model_name": "LayoutModel",
      "state": {}
     },
     "ade968a8a1184aab876082999b75489e": {
      "model_module": "@jupyter-widgets/base",
      "model_module_version": "2.0.0",
      "model_name": "LayoutModel",
      "state": {}
     },
     "ae34a3043e6c4fe3924bb22856335713": {
      "model_module": "@jupyter-widgets/controls",
      "model_module_version": "2.0.0",
      "model_name": "HTMLModel",
      "state": {
       "layout": "IPY_MODEL_d05b70d0388d49e08edf4b967a6cc85e",
       "style": "IPY_MODEL_398abe432db94420ad495284fc74771c",
       "value": " 50/50 [00:06&lt;00:00,  7.76it/s]"
      }
     },
     "af950c7605c944f892c8ab60b9c0c5f6": {
      "model_module": "@jupyter-widgets/base",
      "model_module_version": "2.0.0",
      "model_name": "LayoutModel",
      "state": {}
     },
     "afb99eae9359405dbc914d5b9e2a4bec": {
      "model_module": "@jupyter-widgets/controls",
      "model_module_version": "2.0.0",
      "model_name": "HTMLStyleModel",
      "state": {
       "description_width": "",
       "font_size": null,
       "text_color": null
      }
     },
     "b0e0c1f015df46b9b2f6101244c6b45f": {
      "model_module": "@jupyter-widgets/controls",
      "model_module_version": "2.0.0",
      "model_name": "HTMLModel",
      "state": {
       "layout": "IPY_MODEL_417f149a1afd4d11bf19389388290b43",
       "style": "IPY_MODEL_244d3c9a4a58442788918a885c0f3696",
       "value": " 50/50 [00:05&lt;00:00,  8.53it/s]"
      }
     },
     "b2d06cf8e90f406ea92ce344f241e8b5": {
      "model_module": "@jupyter-widgets/controls",
      "model_module_version": "2.0.0",
      "model_name": "HTMLStyleModel",
      "state": {
       "description_width": "",
       "font_size": null,
       "text_color": null
      }
     },
     "b9521874c7474eb0b6136c2cb42febef": {
      "model_module": "@jupyter-widgets/controls",
      "model_module_version": "2.0.0",
      "model_name": "FloatProgressModel",
      "state": {
       "bar_style": "success",
       "layout": "IPY_MODEL_e223bb3c03714f11a22aef485d0de024",
       "max": 50,
       "style": "IPY_MODEL_dbac903ac061461ea25c9bac81b425ba",
       "value": 50
      }
     },
     "b9f56def92de4c62b13125d1d82a8dc2": {
      "model_module": "@jupyter-widgets/base",
      "model_module_version": "2.0.0",
      "model_name": "LayoutModel",
      "state": {}
     },
     "ba68c80490114e6da77dc82171785d2d": {
      "model_module": "@jupyter-widgets/base",
      "model_module_version": "2.0.0",
      "model_name": "LayoutModel",
      "state": {}
     },
     "bbe4352e0f124d9e87f9a12420426d15": {
      "model_module": "@jupyter-widgets/controls",
      "model_module_version": "2.0.0",
      "model_name": "ProgressStyleModel",
      "state": {
       "description_width": ""
      }
     },
     "bd556ca8a8f7460c997005e8079ce9f2": {
      "model_module": "@jupyter-widgets/controls",
      "model_module_version": "2.0.0",
      "model_name": "ProgressStyleModel",
      "state": {
       "description_width": ""
      }
     },
     "bf027458278a4e4387ae2103eb93c2c7": {
      "model_module": "@jupyter-widgets/base",
      "model_module_version": "2.0.0",
      "model_name": "LayoutModel",
      "state": {}
     },
     "bf1f2783a8ce497a9a0ce861f88574a5": {
      "model_module": "@jupyter-widgets/controls",
      "model_module_version": "2.0.0",
      "model_name": "FloatProgressModel",
      "state": {
       "bar_style": "success",
       "layout": "IPY_MODEL_79dd035606984cffb1341a9c1b124563",
       "max": 50,
       "style": "IPY_MODEL_c030d9be10b844f0b367bcd2ee71e941",
       "value": 50
      }
     },
     "c030d9be10b844f0b367bcd2ee71e941": {
      "model_module": "@jupyter-widgets/controls",
      "model_module_version": "2.0.0",
      "model_name": "ProgressStyleModel",
      "state": {
       "description_width": ""
      }
     },
     "c07e9d6fea604359a7572369643287c5": {
      "model_module": "@jupyter-widgets/controls",
      "model_module_version": "2.0.0",
      "model_name": "HTMLStyleModel",
      "state": {
       "description_width": "",
       "font_size": null,
       "text_color": null
      }
     },
     "c0f4b541c5094d85801a1f84e10ff977": {
      "model_module": "@jupyter-widgets/base",
      "model_module_version": "2.0.0",
      "model_name": "LayoutModel",
      "state": {}
     },
     "c2141b20a6934ff1848c379d4e23f157": {
      "model_module": "@jupyter-widgets/controls",
      "model_module_version": "2.0.0",
      "model_name": "HTMLModel",
      "state": {
       "layout": "IPY_MODEL_f07bc1f9c00f42f190bb0fdbd58ab7f0",
       "style": "IPY_MODEL_e7a56fa7338547f9a26c9879816d65a1",
       "value": "tr-rmse:0.03,cont:0.07,pole:0.00,real:0.00|vl-rmse:0.03: 100%"
      }
     },
     "c46405bcb8b04130965d3c41d4f2ab37": {
      "model_module": "@jupyter-widgets/base",
      "model_module_version": "2.0.0",
      "model_name": "LayoutModel",
      "state": {}
     },
     "c603860a1c144c4e9c580f731e2c6f4c": {
      "model_module": "@jupyter-widgets/controls",
      "model_module_version": "2.0.0",
      "model_name": "HBoxModel",
      "state": {
       "children": [
        "IPY_MODEL_43b0d6ca99da4945993828640bf76997",
        "IPY_MODEL_a5422135f51244a98dd600291453198e",
        "IPY_MODEL_81e5291003f44eb0acc9cce666a30ebf"
       ],
       "layout": "IPY_MODEL_36f08a6c81d54f8b8c41b18e616a74ee"
      }
     },
     "c61c8f4c752c411f9b986171ac63c1e2": {
      "model_module": "@jupyter-widgets/controls",
      "model_module_version": "2.0.0",
      "model_name": "FloatProgressModel",
      "state": {
       "bar_style": "success",
       "layout": "IPY_MODEL_ed7bc6832dc7495e81a93cb5ce2ff7a5",
       "max": 50,
       "style": "IPY_MODEL_912e4b0038d54699abecd6b881edc6ce",
       "value": 50
      }
     },
     "c6b424a9e9c64325b9a2d14c980a2f4c": {
      "model_module": "@jupyter-widgets/controls",
      "model_module_version": "2.0.0",
      "model_name": "HTMLModel",
      "state": {
       "layout": "IPY_MODEL_8b7593538fdd4be8907fdb70330a1826",
       "style": "IPY_MODEL_f3873fcdd03645419e8cec418438a9e9",
       "value": "tr-rmse:0.04,cont:0.15,pole:0.00,real:0.00|vl-rmse:0.04: 100%"
      }
     },
     "c90d9bd2362d4312ad59ae6da552cd43": {
      "model_module": "@jupyter-widgets/base",
      "model_module_version": "2.0.0",
      "model_name": "LayoutModel",
      "state": {}
     },
     "ca79d258eb9040698cd331b485c6a586": {
      "model_module": "@jupyter-widgets/controls",
      "model_module_version": "2.0.0",
      "model_name": "HBoxModel",
      "state": {
       "children": [
        "IPY_MODEL_28584ccde6d248829c29e9f6f478a23f",
        "IPY_MODEL_27f4337dba5f42ac926fac818dc22d2e",
        "IPY_MODEL_872743f3f3c947f9b7f774859af09595"
       ],
       "layout": "IPY_MODEL_f5273505d53f4dc7a9b6290fed9be988"
      }
     },
     "cb5382162390470aa89c7770cb9de36b": {
      "model_module": "@jupyter-widgets/base",
      "model_module_version": "2.0.0",
      "model_name": "LayoutModel",
      "state": {}
     },
     "cbc5d865469144f58086ddf5b364aa85": {
      "model_module": "@jupyter-widgets/controls",
      "model_module_version": "2.0.0",
      "model_name": "HTMLModel",
      "state": {
       "layout": "IPY_MODEL_b9f56def92de4c62b13125d1d82a8dc2",
       "style": "IPY_MODEL_e04b5ce66eab43cfa218f43f915db272",
       "value": " 50/50 [00:05&lt;00:00,  9.85it/s]"
      }
     },
     "cde5b28d0c3a4166b490ab0f2896d703": {
      "model_module": "@jupyter-widgets/controls",
      "model_module_version": "2.0.0",
      "model_name": "HTMLStyleModel",
      "state": {
       "description_width": "",
       "font_size": null,
       "text_color": null
      }
     },
     "ce3f772000ca4565a20e3bfb92ab1be1": {
      "model_module": "@jupyter-widgets/base",
      "model_module_version": "2.0.0",
      "model_name": "LayoutModel",
      "state": {}
     },
     "cfad85d5939941e586a23641b7d73295": {
      "model_module": "@jupyter-widgets/controls",
      "model_module_version": "2.0.0",
      "model_name": "HTMLStyleModel",
      "state": {
       "description_width": "",
       "font_size": null,
       "text_color": null
      }
     },
     "d05b70d0388d49e08edf4b967a6cc85e": {
      "model_module": "@jupyter-widgets/base",
      "model_module_version": "2.0.0",
      "model_name": "LayoutModel",
      "state": {}
     },
     "d2ddf5b324814c9fbfaa76dbee61c06a": {
      "model_module": "@jupyter-widgets/controls",
      "model_module_version": "2.0.0",
      "model_name": "ProgressStyleModel",
      "state": {
       "description_width": ""
      }
     },
     "d3ba9d7632214274b91805fbeca41515": {
      "model_module": "@jupyter-widgets/controls",
      "model_module_version": "2.0.0",
      "model_name": "HBoxModel",
      "state": {
       "children": [
        "IPY_MODEL_78a4b02976b4491cb26b6492ee6859ea",
        "IPY_MODEL_6c632ac4c4e84a9199b14713f3b7f26b",
        "IPY_MODEL_87646184af724e3fba5cdb225c0b2083"
       ],
       "layout": "IPY_MODEL_72759f8a0278490e949a8ae4209adae0"
      }
     },
     "d3bafcd342304ea9a5cda1e23e56f081": {
      "model_module": "@jupyter-widgets/controls",
      "model_module_version": "2.0.0",
      "model_name": "HTMLModel",
      "state": {
       "layout": "IPY_MODEL_0d1be89c969a4e849ae8d8d5d298bf50",
       "style": "IPY_MODEL_69fef21467a54942885c4b411d313f22",
       "value": " 50/50 [00:06&lt;00:00,  7.67it/s]"
      }
     },
     "d3e330b2ee1a4aebb8f17085d24a3ee8": {
      "model_module": "@jupyter-widgets/controls",
      "model_module_version": "2.0.0",
      "model_name": "ProgressStyleModel",
      "state": {
       "description_width": ""
      }
     },
     "d584aefc0a4b4d22905c0c4ceffcf4d8": {
      "model_module": "@jupyter-widgets/controls",
      "model_module_version": "2.0.0",
      "model_name": "HTMLModel",
      "state": {
       "layout": "IPY_MODEL_4003b8828f3e41f285fb4c56783f5068",
       "style": "IPY_MODEL_21faf16031304ddb83e0a7860a1df55e",
       "value": " 50/50 [00:07&lt;00:00,  6.89it/s]"
      }
     },
     "d6b2f5b69d48439dbe70b5ea127cf31c": {
      "model_module": "@jupyter-widgets/base",
      "model_module_version": "2.0.0",
      "model_name": "LayoutModel",
      "state": {}
     },
     "d7a2f4a682d648b3bf8e3bf1cd08507b": {
      "model_module": "@jupyter-widgets/controls",
      "model_module_version": "2.0.0",
      "model_name": "HTMLModel",
      "state": {
       "layout": "IPY_MODEL_60756df7ea424ce7bdcdf8cf640652a4",
       "style": "IPY_MODEL_8ce3a6336dd649889261cd70d93b32a9",
       "value": " 50/50 [00:05&lt;00:00,  8.52it/s]"
      }
     },
     "d8b2c2e2e2584f8ea1426a9cf270e029": {
      "model_module": "@jupyter-widgets/controls",
      "model_module_version": "2.0.0",
      "model_name": "HTMLStyleModel",
      "state": {
       "description_width": "",
       "font_size": null,
       "text_color": null
      }
     },
     "d91e5df74c9f4028944ca5653758ae2d": {
      "model_module": "@jupyter-widgets/controls",
      "model_module_version": "2.0.0",
      "model_name": "FloatProgressModel",
      "state": {
       "bar_style": "success",
       "layout": "IPY_MODEL_ce3f772000ca4565a20e3bfb92ab1be1",
       "max": 50,
       "style": "IPY_MODEL_630bea7a0c594990b09e9fbfbe14d915",
       "value": 50
      }
     },
     "dac09b015ec34f50a76a5b7220072c4e": {
      "model_module": "@jupyter-widgets/base",
      "model_module_version": "2.0.0",
      "model_name": "LayoutModel",
      "state": {}
     },
     "dbac903ac061461ea25c9bac81b425ba": {
      "model_module": "@jupyter-widgets/controls",
      "model_module_version": "2.0.0",
      "model_name": "ProgressStyleModel",
      "state": {
       "description_width": ""
      }
     },
     "dc5141d075724e57a06806e3c71dbbd0": {
      "model_module": "@jupyter-widgets/controls",
      "model_module_version": "2.0.0",
      "model_name": "HBoxModel",
      "state": {
       "children": [
        "IPY_MODEL_c2141b20a6934ff1848c379d4e23f157",
        "IPY_MODEL_bf1f2783a8ce497a9a0ce861f88574a5",
        "IPY_MODEL_ae34a3043e6c4fe3924bb22856335713"
       ],
       "layout": "IPY_MODEL_af950c7605c944f892c8ab60b9c0c5f6"
      }
     },
     "dd5121da9b904d7f8cfac01276f50e4e": {
      "model_module": "@jupyter-widgets/controls",
      "model_module_version": "2.0.0",
      "model_name": "HTMLStyleModel",
      "state": {
       "description_width": "",
       "font_size": null,
       "text_color": null
      }
     },
     "de99c7fa5c8049f48d7aa86c697dd992": {
      "model_module": "@jupyter-widgets/controls",
      "model_module_version": "2.0.0",
      "model_name": "HTMLStyleModel",
      "state": {
       "description_width": "",
       "font_size": null,
       "text_color": null
      }
     },
     "dfd175c5bb99420caf3eaf551e43a2b6": {
      "model_module": "@jupyter-widgets/controls",
      "model_module_version": "2.0.0",
      "model_name": "HTMLModel",
      "state": {
       "layout": "IPY_MODEL_ea048839f84640189b90b75960320d9b",
       "style": "IPY_MODEL_f99025be8e2c48afbd7e6a25fe23b534",
       "value": "tr-rmse:0.03,cont:0.06,pole:0.00,real:0.00|vl-rmse:0.03: 100%"
      }
     },
     "e04b5ce66eab43cfa218f43f915db272": {
      "model_module": "@jupyter-widgets/controls",
      "model_module_version": "2.0.0",
      "model_name": "HTMLStyleModel",
      "state": {
       "description_width": "",
       "font_size": null,
       "text_color": null
      }
     },
     "e0ac4765e3814cd39a548b401ffc3045": {
      "model_module": "@jupyter-widgets/controls",
      "model_module_version": "2.0.0",
      "model_name": "HTMLModel",
      "state": {
       "layout": "IPY_MODEL_c0f4b541c5094d85801a1f84e10ff977",
       "style": "IPY_MODEL_e0b02cd311ad4aab8d9eb49e088bf7b3",
       "value": " 50/50 [00:07&lt;00:00,  6.94it/s]"
      }
     },
     "e0b02cd311ad4aab8d9eb49e088bf7b3": {
      "model_module": "@jupyter-widgets/controls",
      "model_module_version": "2.0.0",
      "model_name": "HTMLStyleModel",
      "state": {
       "description_width": "",
       "font_size": null,
       "text_color": null
      }
     },
     "e0bb3a9d4d9b4f09bbb5578a7dc718f3": {
      "model_module": "@jupyter-widgets/base",
      "model_module_version": "2.0.0",
      "model_name": "LayoutModel",
      "state": {}
     },
     "e223bb3c03714f11a22aef485d0de024": {
      "model_module": "@jupyter-widgets/base",
      "model_module_version": "2.0.0",
      "model_name": "LayoutModel",
      "state": {}
     },
     "e405609221f44590aac453630f5af97b": {
      "model_module": "@jupyter-widgets/base",
      "model_module_version": "2.0.0",
      "model_name": "LayoutModel",
      "state": {}
     },
     "e4f87c796b654df8ae2235bb519ee144": {
      "model_module": "@jupyter-widgets/base",
      "model_module_version": "2.0.0",
      "model_name": "LayoutModel",
      "state": {}
     },
     "e7a56fa7338547f9a26c9879816d65a1": {
      "model_module": "@jupyter-widgets/controls",
      "model_module_version": "2.0.0",
      "model_name": "HTMLStyleModel",
      "state": {
       "description_width": "",
       "font_size": null,
       "text_color": null
      }
     },
     "e81fbbb8af7f4572973f25435450ded7": {
      "model_module": "@jupyter-widgets/base",
      "model_module_version": "2.0.0",
      "model_name": "LayoutModel",
      "state": {}
     },
     "ea048839f84640189b90b75960320d9b": {
      "model_module": "@jupyter-widgets/base",
      "model_module_version": "2.0.0",
      "model_name": "LayoutModel",
      "state": {}
     },
     "eb89263ca70f44d0884427bd882fb68b": {
      "model_module": "@jupyter-widgets/controls",
      "model_module_version": "2.0.0",
      "model_name": "HBoxModel",
      "state": {
       "children": [
        "IPY_MODEL_57997c4c4e344bfb8d3dd0c42abc8c2b",
        "IPY_MODEL_92804aab809a4de78b883b54485da6dd",
        "IPY_MODEL_b0e0c1f015df46b9b2f6101244c6b45f"
       ],
       "layout": "IPY_MODEL_5ee1736e03be493e882df5a8c0c7b7eb"
      }
     },
     "ed7bc6832dc7495e81a93cb5ce2ff7a5": {
      "model_module": "@jupyter-widgets/base",
      "model_module_version": "2.0.0",
      "model_name": "LayoutModel",
      "state": {}
     },
     "ee056f469e254ffab215c2cf31303098": {
      "model_module": "@jupyter-widgets/base",
      "model_module_version": "2.0.0",
      "model_name": "LayoutModel",
      "state": {}
     },
     "f07bc1f9c00f42f190bb0fdbd58ab7f0": {
      "model_module": "@jupyter-widgets/base",
      "model_module_version": "2.0.0",
      "model_name": "LayoutModel",
      "state": {}
     },
     "f1e96e6b70154597a6ae269c73771f6c": {
      "model_module": "@jupyter-widgets/base",
      "model_module_version": "2.0.0",
      "model_name": "LayoutModel",
      "state": {}
     },
     "f3873fcdd03645419e8cec418438a9e9": {
      "model_module": "@jupyter-widgets/controls",
      "model_module_version": "2.0.0",
      "model_name": "HTMLStyleModel",
      "state": {
       "description_width": "",
       "font_size": null,
       "text_color": null
      }
     },
     "f396c40367ce4aa693ec59ec088a8317": {
      "model_module": "@jupyter-widgets/controls",
      "model_module_version": "2.0.0",
      "model_name": "FloatProgressModel",
      "state": {
       "bar_style": "success",
       "layout": "IPY_MODEL_0757138463824821abf55ead4a212164",
       "max": 50,
       "style": "IPY_MODEL_6623080b4c1c47c695f6d8645246b324",
       "value": 50
      }
     },
     "f3f1c70b302b493d92af81bf90c7144c": {
      "model_module": "@jupyter-widgets/controls",
      "model_module_version": "2.0.0",
      "model_name": "HTMLStyleModel",
      "state": {
       "description_width": "",
       "font_size": null,
       "text_color": null
      }
     },
     "f40d902900a14ed7ae8882bb4b940d8d": {
      "model_module": "@jupyter-widgets/controls",
      "model_module_version": "2.0.0",
      "model_name": "HBoxModel",
      "state": {
       "children": [
        "IPY_MODEL_0dc8f658dcd7428d947edabf42c6a0a5",
        "IPY_MODEL_d91e5df74c9f4028944ca5653758ae2d",
        "IPY_MODEL_e0ac4765e3814cd39a548b401ffc3045"
       ],
       "layout": "IPY_MODEL_5b64e0f68001411eb965a194abaf05f1"
      }
     },
     "f5273505d53f4dc7a9b6290fed9be988": {
      "model_module": "@jupyter-widgets/base",
      "model_module_version": "2.0.0",
      "model_name": "LayoutModel",
      "state": {}
     },
     "f77e81c782d1466bada684ad313a91ca": {
      "model_module": "@jupyter-widgets/controls",
      "model_module_version": "2.0.0",
      "model_name": "HTMLModel",
      "state": {
       "layout": "IPY_MODEL_2ff7e792a9564f2994c93f7bae34b752",
       "style": "IPY_MODEL_18d0ba56ccfd421e846abc9776c733c6",
       "value": "tr-rmse:0.07,cont:0.58,pole:0.00,real:0.01|vl-rmse:0.05: 100%"
      }
     },
     "f7d4e440eeb04faebc113fda4ea06b6b": {
      "model_module": "@jupyter-widgets/controls",
      "model_module_version": "2.0.0",
      "model_name": "HTMLModel",
      "state": {
       "layout": "IPY_MODEL_1ce945e0de55491795c73960685aaf2e",
       "style": "IPY_MODEL_12535dd8dc7e47b1a311050c393624eb",
       "value": "tr-rmse:0.03,cont:0.05,pole:0.00,real:0.00|vl-rmse:0.04: 100%"
      }
     },
     "f823749aeda54b3a82f9d435892ab0da": {
      "model_module": "@jupyter-widgets/base",
      "model_module_version": "2.0.0",
      "model_name": "LayoutModel",
      "state": {}
     },
     "f99025be8e2c48afbd7e6a25fe23b534": {
      "model_module": "@jupyter-widgets/controls",
      "model_module_version": "2.0.0",
      "model_name": "HTMLStyleModel",
      "state": {
       "description_width": "",
       "font_size": null,
       "text_color": null
      }
     },
     "fc35c7a4e29041bcb8806d5061efb9b0": {
      "model_module": "@jupyter-widgets/base",
      "model_module_version": "2.0.0",
      "model_name": "LayoutModel",
      "state": {}
     },
     "fc8530a750284b7cae90d623a1ee3ddb": {
      "model_module": "@jupyter-widgets/base",
      "model_module_version": "2.0.0",
      "model_name": "LayoutModel",
      "state": {}
     },
     "fd93814c55ee4b05a7ac5edcf2d94aa3": {
      "model_module": "@jupyter-widgets/controls",
      "model_module_version": "2.0.0",
      "model_name": "ProgressStyleModel",
      "state": {
       "description_width": ""
      }
     },
     "fe023296bd3744c582109265f75f2481": {
      "model_module": "@jupyter-widgets/controls",
      "model_module_version": "2.0.0",
      "model_name": "ProgressStyleModel",
      "state": {
       "description_width": ""
      }
     },
     "fe2c2978af6749ef9c543ec2fc97e7f1": {
      "model_module": "@jupyter-widgets/controls",
      "model_module_version": "2.0.0",
      "model_name": "FloatProgressModel",
      "state": {
       "bar_style": "success",
       "layout": "IPY_MODEL_6883c6b4425249a5a0df02c892db5419",
       "max": 50,
       "style": "IPY_MODEL_7708136b030645a3b77e67c20c4eb584",
       "value": 50
      }
     },
     "ff5fb16f72cc48d094d24fc0325d2ebf": {
      "model_module": "@jupyter-widgets/controls",
      "model_module_version": "2.0.0",
      "model_name": "HTMLModel",
      "state": {
       "layout": "IPY_MODEL_1e73f9165f624b7f8acf2ea68262c883",
       "style": "IPY_MODEL_c07e9d6fea604359a7572369643287c5",
       "value": " 50/50 [00:05&lt;00:00,  9.41it/s]"
      }
     }
    },
    "version_major": 2,
    "version_minor": 0
   }
  }
 },
 "nbformat": 4,
 "nbformat_minor": 5
}
