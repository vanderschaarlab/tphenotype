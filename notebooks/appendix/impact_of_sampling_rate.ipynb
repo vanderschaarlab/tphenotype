{
 "cells": [
  {
   "cell_type": "code",
   "execution_count": 1,
   "id": "686bdadb-7908-4675-a85c-fc956f5aa20d",
   "metadata": {
    "tags": []
   },
   "outputs": [],
   "source": [
    "import torch\n",
    "import numpy as np\n",
    "import os\n",
    "import matplotlib.pyplot as plt\n",
    "\n",
    "from IPython.display import display\n",
    "\n",
    "from visualization import pole_visualization, coeff_visualization, fn_visualization"
   ]
  },
  {
   "cell_type": "code",
   "execution_count": 2,
   "id": "2ee75261-424f-4a09-b9cf-8f41179671bc",
   "metadata": {
    "tags": []
   },
   "outputs": [],
   "source": [
    "from tphenotype import LaplaceEncoder\n",
    "from tphenotype.utils import data_split"
   ]
  },
  {
   "cell_type": "code",
   "execution_count": 3,
   "id": "1871ca89-d775-4a7a-98c2-3360111cabbf",
   "metadata": {
    "tags": []
   },
   "outputs": [],
   "source": [
    "# Four types of curves\n",
    "\n",
    "\n",
    "def func1(t):\n",
    "    v = np.sin(2 * np.pi * t)\n",
    "    return v\n",
    "\n",
    "\n",
    "func2 = func1\n",
    "func3 = func1\n",
    "func4 = func1"
   ]
  },
  {
   "cell_type": "code",
   "execution_count": 4,
   "id": "f636196a-aefa-41f2-b98e-d5af05842071",
   "metadata": {
    "tags": []
   },
   "outputs": [],
   "source": [
    "def gen_data(T, n=1000, seed=0):\n",
    "    # generate samples with noises\n",
    "    rng = np.random.default_rng(seed=seed)\n",
    "\n",
    "    # irregular sampling interval\n",
    "    alpha = 3 * np.ones(T)\n",
    "    dt = rng.dirichlet(alpha, size=(n,))\n",
    "    t = np.cumsum(dt, axis=1)\n",
    "\n",
    "    phases = rng.exponential(scale=0.5, size=(n, 1))\n",
    "\n",
    "    # generate curves with labels\n",
    "    fn_type = np.zeros((n,))\n",
    "    n1 = int(0.25 * n)\n",
    "    n2 = n1 + int(0.25 * n)\n",
    "    n3 = n2 + int(0.25 * n)\n",
    "    n4 = n - n3\n",
    "\n",
    "    t_d = t - phases\n",
    "    f1 = func1(t_d[:n1])\n",
    "    f2 = func2(t_d[n1:n2])\n",
    "    f3 = func3(t_d[n2:n3])\n",
    "    f4 = func4(t_d[n3:])\n",
    "    fn_type[:n1] = 1\n",
    "    fn_type[n1:n2] = 2\n",
    "    fn_type[n2:n3] = 3\n",
    "    fn_type[n3:] = 4\n",
    "\n",
    "    # add noises\n",
    "    f = np.concatenate([f1, f2, f3, f4], axis=0) + rng.normal(size=(n, T)) * 0.03\n",
    "\n",
    "    # shuffle samples\n",
    "    idx = np.arange(len(f))\n",
    "    rng.shuffle(idx)\n",
    "    f = f[idx]\n",
    "    fn_type = fn_type[idx]\n",
    "    t = t[idx]\n",
    "\n",
    "    # generate masks for valid observations\n",
    "    length = rng.integers(low=int(3 * T / 4), high=T, size=n)\n",
    "    # only first l samples are valid\n",
    "    mask = np.zeros_like(t, dtype=bool)\n",
    "    # all samples are valid\n",
    "    mask = np.ones_like(t, dtype=bool)\n",
    "    for i in range(n):\n",
    "        mask[i, : length[i]] = 1\n",
    "    dataset = {\n",
    "        \"t\": t,\n",
    "        \"f\": f,\n",
    "        \"mask\": mask,\n",
    "        \"fn_type\": fn_type,\n",
    "    }\n",
    "    return dataset"
   ]
  },
  {
   "cell_type": "code",
   "execution_count": 5,
   "id": "e3c10370-e1fd-4e38-abff-f63838a794d7",
   "metadata": {
    "tags": []
   },
   "outputs": [],
   "source": [
    "import pandas as pd"
   ]
  },
  {
   "cell_type": "code",
   "execution_count": 8,
   "id": "fb6b01c7-4609-40ee-b012-daf4054a3cfb",
   "metadata": {
    "tags": []
   },
   "outputs": [],
   "source": [
    "def sampling_rate_impact(sampling_rates, n_trial=5, seed=0, epochs=50):\n",
    "    df = pd.DataFrame()\n",
    "    for sampling_rate in sampling_rates:\n",
    "        print(f\"sampling rate: {sampling_rate}\")\n",
    "        mses = []\n",
    "        for i in range(n_trial):\n",
    "            # prepare training and validation sets\n",
    "            dtype = \"float32\"\n",
    "            dataset = gen_data(sampling_rate, seed=seed + i)\n",
    "            train_set, valid_set = data_split(dataset, test_size=0.2, random_state=seed, dtype=dtype)\n",
    "            # train_set, valid_set = data_split(train_set, test_size=0.2, random_state=seed, dtype=dtype)\n",
    "            test_set = gen_data(T=16, n=200, seed=seed + i + 1)\n",
    "            torch.manual_seed(seed + i)\n",
    "            encoder = LaplaceEncoder(**net_config)\n",
    "            encoder = encoder.fit(train_set, loss_weights, valid_set=valid_set, epochs=epochs)\n",
    "\n",
    "            f = test_set[\"f\"].astype(dtype)\n",
    "            t = test_set[\"t\"].astype(dtype)\n",
    "            mask = test_set[\"mask\"].astype(dtype)\n",
    "            poles, coeffs = encoder.encode(f, t)\n",
    "            f_rec_r, f_rec_i = encoder.decode(poles, coeffs, t)  # (re, im)\n",
    "            f_rec = f_rec_r + 1j * f_rec_i\n",
    "            diff = np.square(np.abs(f - f_rec[:, -1]))\n",
    "            mse = np.sum(diff * mask, axis=-1) / np.sum(mask, axis=-1)\n",
    "            mse = np.mean(mse)\n",
    "            mses.append(mse)\n",
    "        mean, ci = np.mean(mses), np.std(mses) * 1.96\n",
    "        df.loc[sampling_rate, [\"mean\", \"ci\"]] = mean, ci\n",
    "    return df"
   ]
  },
  {
   "cell_type": "code",
   "execution_count": 9,
   "id": "b6f4804d-7db2-4426-bcd7-d883a43cc82f",
   "metadata": {
    "tags": []
   },
   "outputs": [
    {
     "name": "stdout",
     "output_type": "stream",
     "text": [
      "sampling rate: 4\n"
     ]
    },
    {
     "data": {
      "application/json": {
       "ascii": false,
       "bar_format": null,
       "colour": null,
       "elapsed": 0.055759429931640625,
       "initial": 0,
       "n": 0,
       "ncols": null,
       "nrows": null,
       "postfix": null,
       "prefix": "",
       "rate": null,
       "total": 50,
       "unit": "it",
       "unit_divisor": 1000,
       "unit_scale": false
      },
      "application/vnd.jupyter.widget-view+json": {
       "model_id": "494a7ebee2344277821cb4582c18abb6",
       "version_major": 2,
       "version_minor": 0
      },
      "text/plain": [
       "  0%|          | 0/50 [00:00<?, ?it/s]"
      ]
     },
     "metadata": {},
     "output_type": "display_data"
    },
    {
     "data": {
      "application/json": {
       "ascii": false,
       "bar_format": null,
       "colour": null,
       "elapsed": 0.03922891616821289,
       "initial": 0,
       "n": 0,
       "ncols": null,
       "nrows": null,
       "postfix": null,
       "prefix": "",
       "rate": null,
       "total": 50,
       "unit": "it",
       "unit_divisor": 1000,
       "unit_scale": false
      },
      "application/vnd.jupyter.widget-view+json": {
       "model_id": "f895f39ed9db49d291cb48185ed9cf04",
       "version_major": 2,
       "version_minor": 0
      },
      "text/plain": [
       "  0%|          | 0/50 [00:00<?, ?it/s]"
      ]
     },
     "metadata": {},
     "output_type": "display_data"
    },
    {
     "data": {
      "application/json": {
       "ascii": false,
       "bar_format": null,
       "colour": null,
       "elapsed": 0.05919528007507324,
       "initial": 0,
       "n": 0,
       "ncols": null,
       "nrows": null,
       "postfix": null,
       "prefix": "",
       "rate": null,
       "total": 50,
       "unit": "it",
       "unit_divisor": 1000,
       "unit_scale": false
      },
      "application/vnd.jupyter.widget-view+json": {
       "model_id": "36cd77fb5ec143f5abfe69d865b536ab",
       "version_major": 2,
       "version_minor": 0
      },
      "text/plain": [
       "  0%|          | 0/50 [00:00<?, ?it/s]"
      ]
     },
     "metadata": {},
     "output_type": "display_data"
    },
    {
     "data": {
      "application/json": {
       "ascii": false,
       "bar_format": null,
       "colour": null,
       "elapsed": 0.05969977378845215,
       "initial": 0,
       "n": 0,
       "ncols": null,
       "nrows": null,
       "postfix": null,
       "prefix": "",
       "rate": null,
       "total": 50,
       "unit": "it",
       "unit_divisor": 1000,
       "unit_scale": false
      },
      "application/vnd.jupyter.widget-view+json": {
       "model_id": "9b2d36ff87724bcc966be3bdb0cd6a7d",
       "version_major": 2,
       "version_minor": 0
      },
      "text/plain": [
       "  0%|          | 0/50 [00:00<?, ?it/s]"
      ]
     },
     "metadata": {},
     "output_type": "display_data"
    },
    {
     "data": {
      "application/json": {
       "ascii": false,
       "bar_format": null,
       "colour": null,
       "elapsed": 0.06043100357055664,
       "initial": 0,
       "n": 0,
       "ncols": null,
       "nrows": null,
       "postfix": null,
       "prefix": "",
       "rate": null,
       "total": 50,
       "unit": "it",
       "unit_divisor": 1000,
       "unit_scale": false
      },
      "application/vnd.jupyter.widget-view+json": {
       "model_id": "b7f4ff5ccf804cd9aeaae465f0969e68",
       "version_major": 2,
       "version_minor": 0
      },
      "text/plain": [
       "  0%|          | 0/50 [00:00<?, ?it/s]"
      ]
     },
     "metadata": {},
     "output_type": "display_data"
    },
    {
     "name": "stdout",
     "output_type": "stream",
     "text": [
      "sampling rate: 8\n"
     ]
    },
    {
     "data": {
      "application/json": {
       "ascii": false,
       "bar_format": null,
       "colour": null,
       "elapsed": 0.0501554012298584,
       "initial": 0,
       "n": 0,
       "ncols": null,
       "nrows": null,
       "postfix": null,
       "prefix": "",
       "rate": null,
       "total": 50,
       "unit": "it",
       "unit_divisor": 1000,
       "unit_scale": false
      },
      "application/vnd.jupyter.widget-view+json": {
       "model_id": "9c936b2eb539440abb3392a2daea6ee6",
       "version_major": 2,
       "version_minor": 0
      },
      "text/plain": [
       "  0%|          | 0/50 [00:00<?, ?it/s]"
      ]
     },
     "metadata": {},
     "output_type": "display_data"
    },
    {
     "data": {
      "application/json": {
       "ascii": false,
       "bar_format": null,
       "colour": null,
       "elapsed": 0.06025576591491699,
       "initial": 0,
       "n": 0,
       "ncols": null,
       "nrows": null,
       "postfix": null,
       "prefix": "",
       "rate": null,
       "total": 50,
       "unit": "it",
       "unit_divisor": 1000,
       "unit_scale": false
      },
      "application/vnd.jupyter.widget-view+json": {
       "model_id": "fc6ee5dbcc454696b994ae5bcdebc05b",
       "version_major": 2,
       "version_minor": 0
      },
      "text/plain": [
       "  0%|          | 0/50 [00:00<?, ?it/s]"
      ]
     },
     "metadata": {},
     "output_type": "display_data"
    },
    {
     "data": {
      "application/json": {
       "ascii": false,
       "bar_format": null,
       "colour": null,
       "elapsed": 0.05236029624938965,
       "initial": 0,
       "n": 0,
       "ncols": null,
       "nrows": null,
       "postfix": null,
       "prefix": "",
       "rate": null,
       "total": 50,
       "unit": "it",
       "unit_divisor": 1000,
       "unit_scale": false
      },
      "application/vnd.jupyter.widget-view+json": {
       "model_id": "482bae2d78484463b785e20d8aa6f35b",
       "version_major": 2,
       "version_minor": 0
      },
      "text/plain": [
       "  0%|          | 0/50 [00:00<?, ?it/s]"
      ]
     },
     "metadata": {},
     "output_type": "display_data"
    },
    {
     "data": {
      "application/json": {
       "ascii": false,
       "bar_format": null,
       "colour": null,
       "elapsed": 0.06271767616271973,
       "initial": 0,
       "n": 0,
       "ncols": null,
       "nrows": null,
       "postfix": null,
       "prefix": "",
       "rate": null,
       "total": 50,
       "unit": "it",
       "unit_divisor": 1000,
       "unit_scale": false
      },
      "application/vnd.jupyter.widget-view+json": {
       "model_id": "f493aab98e294b22abb4ac4fa9cd17bf",
       "version_major": 2,
       "version_minor": 0
      },
      "text/plain": [
       "  0%|          | 0/50 [00:00<?, ?it/s]"
      ]
     },
     "metadata": {},
     "output_type": "display_data"
    },
    {
     "data": {
      "application/json": {
       "ascii": false,
       "bar_format": null,
       "colour": null,
       "elapsed": 0.05210995674133301,
       "initial": 0,
       "n": 0,
       "ncols": null,
       "nrows": null,
       "postfix": null,
       "prefix": "",
       "rate": null,
       "total": 50,
       "unit": "it",
       "unit_divisor": 1000,
       "unit_scale": false
      },
      "application/vnd.jupyter.widget-view+json": {
       "model_id": "22d8e42273eb43e392ae59c9fcf3da7e",
       "version_major": 2,
       "version_minor": 0
      },
      "text/plain": [
       "  0%|          | 0/50 [00:00<?, ?it/s]"
      ]
     },
     "metadata": {},
     "output_type": "display_data"
    },
    {
     "name": "stdout",
     "output_type": "stream",
     "text": [
      "sampling rate: 12\n"
     ]
    },
    {
     "data": {
      "application/json": {
       "ascii": false,
       "bar_format": null,
       "colour": null,
       "elapsed": 0.055333852767944336,
       "initial": 0,
       "n": 0,
       "ncols": null,
       "nrows": null,
       "postfix": null,
       "prefix": "",
       "rate": null,
       "total": 50,
       "unit": "it",
       "unit_divisor": 1000,
       "unit_scale": false
      },
      "application/vnd.jupyter.widget-view+json": {
       "model_id": "663b16a4763d493b8e99c3f6e920c425",
       "version_major": 2,
       "version_minor": 0
      },
      "text/plain": [
       "  0%|          | 0/50 [00:00<?, ?it/s]"
      ]
     },
     "metadata": {},
     "output_type": "display_data"
    },
    {
     "data": {
      "application/json": {
       "ascii": false,
       "bar_format": null,
       "colour": null,
       "elapsed": 0.05334353446960449,
       "initial": 0,
       "n": 0,
       "ncols": null,
       "nrows": null,
       "postfix": null,
       "prefix": "",
       "rate": null,
       "total": 50,
       "unit": "it",
       "unit_divisor": 1000,
       "unit_scale": false
      },
      "application/vnd.jupyter.widget-view+json": {
       "model_id": "393eef1174c145348836a19b8813a651",
       "version_major": 2,
       "version_minor": 0
      },
      "text/plain": [
       "  0%|          | 0/50 [00:00<?, ?it/s]"
      ]
     },
     "metadata": {},
     "output_type": "display_data"
    },
    {
     "data": {
      "application/json": {
       "ascii": false,
       "bar_format": null,
       "colour": null,
       "elapsed": 0.052390336990356445,
       "initial": 0,
       "n": 0,
       "ncols": null,
       "nrows": null,
       "postfix": null,
       "prefix": "",
       "rate": null,
       "total": 50,
       "unit": "it",
       "unit_divisor": 1000,
       "unit_scale": false
      },
      "application/vnd.jupyter.widget-view+json": {
       "model_id": "fe78a77f1fa24509a037c684a306e5ee",
       "version_major": 2,
       "version_minor": 0
      },
      "text/plain": [
       "  0%|          | 0/50 [00:00<?, ?it/s]"
      ]
     },
     "metadata": {},
     "output_type": "display_data"
    },
    {
     "data": {
      "application/json": {
       "ascii": false,
       "bar_format": null,
       "colour": null,
       "elapsed": 0.04972958564758301,
       "initial": 0,
       "n": 0,
       "ncols": null,
       "nrows": null,
       "postfix": null,
       "prefix": "",
       "rate": null,
       "total": 50,
       "unit": "it",
       "unit_divisor": 1000,
       "unit_scale": false
      },
      "application/vnd.jupyter.widget-view+json": {
       "model_id": "97069d1f7d6a43538b3f2c809f8f7ed9",
       "version_major": 2,
       "version_minor": 0
      },
      "text/plain": [
       "  0%|          | 0/50 [00:00<?, ?it/s]"
      ]
     },
     "metadata": {},
     "output_type": "display_data"
    },
    {
     "data": {
      "application/json": {
       "ascii": false,
       "bar_format": null,
       "colour": null,
       "elapsed": 0.053726911544799805,
       "initial": 0,
       "n": 0,
       "ncols": null,
       "nrows": null,
       "postfix": null,
       "prefix": "",
       "rate": null,
       "total": 50,
       "unit": "it",
       "unit_divisor": 1000,
       "unit_scale": false
      },
      "application/vnd.jupyter.widget-view+json": {
       "model_id": "7c83f72304254fb98f3fe20a2877a608",
       "version_major": 2,
       "version_minor": 0
      },
      "text/plain": [
       "  0%|          | 0/50 [00:00<?, ?it/s]"
      ]
     },
     "metadata": {},
     "output_type": "display_data"
    },
    {
     "name": "stdout",
     "output_type": "stream",
     "text": [
      "sampling rate: 16\n"
     ]
    },
    {
     "data": {
      "application/json": {
       "ascii": false,
       "bar_format": null,
       "colour": null,
       "elapsed": 0.04902505874633789,
       "initial": 0,
       "n": 0,
       "ncols": null,
       "nrows": null,
       "postfix": null,
       "prefix": "",
       "rate": null,
       "total": 50,
       "unit": "it",
       "unit_divisor": 1000,
       "unit_scale": false
      },
      "application/vnd.jupyter.widget-view+json": {
       "model_id": "74e1025af8c6447199a14d8ce3bbdb2d",
       "version_major": 2,
       "version_minor": 0
      },
      "text/plain": [
       "  0%|          | 0/50 [00:00<?, ?it/s]"
      ]
     },
     "metadata": {},
     "output_type": "display_data"
    },
    {
     "data": {
      "application/json": {
       "ascii": false,
       "bar_format": null,
       "colour": null,
       "elapsed": 0.05292057991027832,
       "initial": 0,
       "n": 0,
       "ncols": null,
       "nrows": null,
       "postfix": null,
       "prefix": "",
       "rate": null,
       "total": 50,
       "unit": "it",
       "unit_divisor": 1000,
       "unit_scale": false
      },
      "application/vnd.jupyter.widget-view+json": {
       "model_id": "0a361a21bd2e4b4d8a7c2c0440b52043",
       "version_major": 2,
       "version_minor": 0
      },
      "text/plain": [
       "  0%|          | 0/50 [00:00<?, ?it/s]"
      ]
     },
     "metadata": {},
     "output_type": "display_data"
    },
    {
     "data": {
      "application/json": {
       "ascii": false,
       "bar_format": null,
       "colour": null,
       "elapsed": 0.042083740234375,
       "initial": 0,
       "n": 0,
       "ncols": null,
       "nrows": null,
       "postfix": null,
       "prefix": "",
       "rate": null,
       "total": 50,
       "unit": "it",
       "unit_divisor": 1000,
       "unit_scale": false
      },
      "application/vnd.jupyter.widget-view+json": {
       "model_id": "cd5c1f4bc6dc49ada768f784f547da90",
       "version_major": 2,
       "version_minor": 0
      },
      "text/plain": [
       "  0%|          | 0/50 [00:00<?, ?it/s]"
      ]
     },
     "metadata": {},
     "output_type": "display_data"
    },
    {
     "data": {
      "application/json": {
       "ascii": false,
       "bar_format": null,
       "colour": null,
       "elapsed": 0.05510711669921875,
       "initial": 0,
       "n": 0,
       "ncols": null,
       "nrows": null,
       "postfix": null,
       "prefix": "",
       "rate": null,
       "total": 50,
       "unit": "it",
       "unit_divisor": 1000,
       "unit_scale": false
      },
      "application/vnd.jupyter.widget-view+json": {
       "model_id": "f11c366469454b988532d1d3969a242a",
       "version_major": 2,
       "version_minor": 0
      },
      "text/plain": [
       "  0%|          | 0/50 [00:00<?, ?it/s]"
      ]
     },
     "metadata": {},
     "output_type": "display_data"
    },
    {
     "data": {
      "application/json": {
       "ascii": false,
       "bar_format": null,
       "colour": null,
       "elapsed": 0.05173039436340332,
       "initial": 0,
       "n": 0,
       "ncols": null,
       "nrows": null,
       "postfix": null,
       "prefix": "",
       "rate": null,
       "total": 50,
       "unit": "it",
       "unit_divisor": 1000,
       "unit_scale": false
      },
      "application/vnd.jupyter.widget-view+json": {
       "model_id": "9144988aac9d4a3d8bf2427780d97c4a",
       "version_major": 2,
       "version_minor": 0
      },
      "text/plain": [
       "  0%|          | 0/50 [00:00<?, ?it/s]"
      ]
     },
     "metadata": {},
     "output_type": "display_data"
    }
   ],
   "source": [
    "# model configuration\n",
    "net_config = {\n",
    "    \"num_poles\": 4,  # number of poles\n",
    "    \"max_degree\": 1,  # maximum degree of poles\n",
    "    \"hidden_size\": 10,  # number of hidden units in neural networks\n",
    "    \"num_layers\": 1,  # number of layers in MLP of the encoder (1 layer RNN + n layer MLP)\n",
    "    \"pole_separation\": 1.0,  # minimum distance between distinct poles\n",
    "    \"freq_scaler\": 20,  # scale up the imaginary part to help learning\n",
    "    \"window_size\": None,  # whether or not to include time delay terms\n",
    "    \"equivariant_embed\": True,  # whether or not to sort the poles (useless during training)\n",
    "    \"device\": \"cpu\",\n",
    "}\n",
    "\n",
    "loss_weights = {\n",
    "    \"rmse\": 1.0,  # regression loss\n",
    "    \"mse\": 1.0,\n",
    "    \"cont\": 0.01,  # minimize used components\n",
    "    \"pole\": 1.0,  # seperation of poles\n",
    "    \"real\": 0.1,  # only generate real function (penalty for imaginary part)\n",
    "}\n",
    "\n",
    "sampling_rates = [4, 8, 12, 16]\n",
    "df = sampling_rate_impact(sampling_rates, n_trial=5)"
   ]
  },
  {
   "cell_type": "code",
   "execution_count": 10,
   "id": "b37d2848-e736-4410-a272-e53c2fa88bb2",
   "metadata": {
    "tags": []
   },
   "outputs": [
    {
     "data": {
      "text/html": [
       "<div>\n",
       "<style scoped>\n",
       "    .dataframe tbody tr th:only-of-type {\n",
       "        vertical-align: middle;\n",
       "    }\n",
       "\n",
       "    .dataframe tbody tr th {\n",
       "        vertical-align: top;\n",
       "    }\n",
       "\n",
       "    .dataframe thead th {\n",
       "        text-align: right;\n",
       "    }\n",
       "</style>\n",
       "<table border=\"1\" class=\"dataframe\">\n",
       "  <thead>\n",
       "    <tr style=\"text-align: right;\">\n",
       "      <th></th>\n",
       "      <th>mean</th>\n",
       "      <th>ci</th>\n",
       "    </tr>\n",
       "  </thead>\n",
       "  <tbody>\n",
       "    <tr>\n",
       "      <th>4</th>\n",
       "      <td>1.588336</td>\n",
       "      <td>1.562987</td>\n",
       "    </tr>\n",
       "    <tr>\n",
       "      <th>8</th>\n",
       "      <td>0.432616</td>\n",
       "      <td>0.280346</td>\n",
       "    </tr>\n",
       "    <tr>\n",
       "      <th>12</th>\n",
       "      <td>0.057566</td>\n",
       "      <td>0.027556</td>\n",
       "    </tr>\n",
       "    <tr>\n",
       "      <th>16</th>\n",
       "      <td>0.067732</td>\n",
       "      <td>0.130011</td>\n",
       "    </tr>\n",
       "  </tbody>\n",
       "</table>\n",
       "</div>"
      ],
      "text/plain": [
       "        mean        ci\n",
       "4   1.588336  1.562987\n",
       "8   0.432616  0.280346\n",
       "12  0.057566  0.027556\n",
       "16  0.067732  0.130011"
      ]
     },
     "execution_count": 10,
     "metadata": {},
     "output_type": "execute_result"
    }
   ],
   "source": [
    "df"
   ]
  },
  {
   "cell_type": "code",
   "execution_count": 11,
   "id": "aef5b27f-3d3f-4eaf-bec3-fdaa972ece1b",
   "metadata": {
    "tags": []
   },
   "outputs": [],
   "source": [
    "SMALL_SIZE = 20\n",
    "MEDIUM_SIZE = 20\n",
    "BIGGER_SIZE = 20\n",
    "\n",
    "plt.rc(\"font\", size=SMALL_SIZE)  # controls default text sizes\n",
    "plt.rc(\"axes\", titlesize=SMALL_SIZE)  # fontsize of the axes title\n",
    "plt.rc(\"axes\", labelsize=MEDIUM_SIZE)  # fontsize of the x and y labels\n",
    "plt.rc(\"xtick\", labelsize=SMALL_SIZE)  # fontsize of the tick labels\n",
    "plt.rc(\"ytick\", labelsize=SMALL_SIZE)  # fontsize of the tick labels\n",
    "plt.rc(\"legend\", fontsize=SMALL_SIZE)  # legend fontsize\n",
    "plt.rc(\"figure\", titlesize=BIGGER_SIZE)  # fontsize of the figure title"
   ]
  },
  {
   "cell_type": "code",
   "execution_count": 12,
   "id": "51347350-3fbd-4dfe-9273-d74c2cd6a8b5",
   "metadata": {
    "tags": []
   },
   "outputs": [
    {
     "data": {
      "image/png": "[encoded data removed]",
      "text/plain": [
       "<Figure size 720x288 with 1 Axes>"
      ]
     },
     "metadata": {
      "needs_background": "light"
     },
     "output_type": "display_data"
    }
   ],
   "source": [
    "fig, ax = plt.subplots(figsize=(10, 4))\n",
    "df.plot(\n",
    "    y=\"mean\",\n",
    "    yerr=\"ci\",\n",
    "    label=\"Mean\",\n",
    "    ax=ax,\n",
    "    ecolor=\"gray\",\n",
    "    lw=2,\n",
    "    capsize=5,\n",
    "    capthick=2,\n",
    "    legend=False,\n",
    ")\n",
    "ax.set_xlabel(r\"Average Sampling Rate (Number of Time-Points)\")\n",
    "ax.set_ylabel(\"MSE\")\n",
    "ax.set_ylim([-0.3, 3.8])\n",
    "ax.set_xlim([3, 17])\n",
    "# ax.hlines(0,3,17,colors='gray',linestyle='dashed')\n",
    "ax.grid(True)\n",
    "fig.tight_layout()\n",
    "os.makedirs(\"figures\", exist_ok=True)\n",
    "fig.savefig(\"figures/sampling_rate_impact.pdf\")"
   ]
  },
  {
   "cell_type": "code",
   "execution_count": null,
   "id": "2c9b4902-14fb-445b-b2ea-328c0025e44e",
   "metadata": {},
   "outputs": [],
   "source": []
  }
 ],
 "metadata": {
  "kernelspec": {
   "display_name": "tphenotype",
   "language": "python",
   "name": "tphenotype"
  },
  "language_info": {
   "codemirror_mode": {
    "name": "ipython",
    "version": 3
   },
   "file_extension": ".py",
   "mimetype": "text/x-python",
   "name": "python",
   "nbconvert_exporter": "python",
   "pygments_lexer": "ipython3",
   "version": "3.9.7"
  },
  "widgets": {
   "application/vnd.jupyter.widget-state+json": {
    "state": {
     "0257b3a7ab25419abae6c671ca0ab5a5": {
      "model_module": "@jupyter-widgets/controls",
      "model_module_version": "2.0.0",
      "model_name": "HTMLModel",
      "state": {
       "layout": "IPY_MODEL_597e9e1e902c45c1b4991d9117ebe416",
       "style": "IPY_MODEL_5f5d0966f676478bb6958e8fd880f1df",
       "value": " 50/50 [00:05&lt;00:00,  8.73it/s]"
      }
     },
     "02d189b64a524f60a96129fdc888ec0c": {
      "model_module": "@jupyter-widgets/base",
      "model_module_version": "2.0.0",
      "model_name": "LayoutModel",
      "state": {}
     },
     "02fc19c2d8614a4ca2ef5c6a811ee792": {
      "model_module": "@jupyter-widgets/controls",
      "model_module_version": "2.0.0",
      "model_name": "HTMLModel",
      "state": {
       "layout": "IPY_MODEL_860013edee8b46ec887d8655a532a8a7",
       "style": "IPY_MODEL_81b487a12abb4e56bd96278d660e963e",
       "value": "tr-rmse:0.03,cont:0.07,pole:0.00,real:0.00|vl-rmse:0.03: 100%"
      }
     },
     "035cf2956ec3471f9484ed6d070af0d8": {
      "model_module": "@jupyter-widgets/controls",
      "model_module_version": "2.0.0",
      "model_name": "HTMLStyleModel",
      "state": {
       "description_width": "",
       "font_size": null,
       "text_color": null
      }
     },
     "090a4e92d2f948e48888ad1ca9c6f749": {
      "model_module": "@jupyter-widgets/base",
      "model_module_version": "2.0.0",
      "model_name": "LayoutModel",
      "state": {}
     },
     "0a1295f856c74d37ae6796bc80e333c7": {
      "model_module": "@jupyter-widgets/base",
      "model_module_version": "2.0.0",
      "model_name": "LayoutModel",
      "state": {}
     },
     "0c2b526cff4d4f6eb10a100ba50fae47": {
      "model_module": "@jupyter-widgets/base",
      "model_module_version": "2.0.0",
      "model_name": "LayoutModel",
      "state": {}
     },
     "0c38a869f5f44f758c55aecbeface3b4": {
      "model_module": "@jupyter-widgets/controls",
      "model_module_version": "2.0.0",
      "model_name": "HBoxModel",
      "state": {
       "children": [
        "IPY_MODEL_a382ffc9763243bf91b463c64362fbfd",
        "IPY_MODEL_a303e4ac9329438daa15dab09e61cb29",
        "IPY_MODEL_4ce91206b6ab4e628c628088ca5e8bed"
       ],
       "layout": "IPY_MODEL_aa4340aed2da469093f88419c6d5e1d9"
      }
     },
     "10ac21c7e55f4116b4cb626dfbeb4324": {
      "model_module": "@jupyter-widgets/controls",
      "model_module_version": "2.0.0",
      "model_name": "HTMLModel",
      "state": {
       "layout": "IPY_MODEL_3a155654874d48c78e5b8445d2eec3f7",
       "style": "IPY_MODEL_e1b7c7d550174ac59b179825da700b68",
       "value": " 50/50 [00:06&lt;00:00,  7.97it/s]"
      }
     },
     "11bfc75b9e674dfaa235327c15c517c0": {
      "model_module": "@jupyter-widgets/base",
      "model_module_version": "2.0.0",
      "model_name": "LayoutModel",
      "state": {}
     },
     "132403d31a824eb3a76a49cfa2467a02": {
      "model_module": "@jupyter-widgets/base",
      "model_module_version": "2.0.0",
      "model_name": "LayoutModel",
      "state": {}
     },
     "145be4c7ee9d4244a2068ea38fbb4341": {
      "model_module": "@jupyter-widgets/base",
      "model_module_version": "2.0.0",
      "model_name": "LayoutModel",
      "state": {}
     },
     "14ef0c16cbb84f5080c9cd710dd4de54": {
      "model_module": "@jupyter-widgets/controls",
      "model_module_version": "2.0.0",
      "model_name": "FloatProgressModel",
      "state": {
       "bar_style": "success",
       "layout": "IPY_MODEL_1a74de9077e24e95bdc45c5fe5c1a975",
       "max": 50,
       "style": "IPY_MODEL_500dc87307ee44c190c437b1ce7b5fd8",
       "value": 50
      }
     },
     "16787c30adba4011a18bffa3d10d22c2": {
      "model_module": "@jupyter-widgets/controls",
      "model_module_version": "2.0.0",
      "model_name": "HTMLStyleModel",
      "state": {
       "description_width": "",
       "font_size": null,
       "text_color": null
      }
     },
     "173e66b6b1ea421ab307fda80f9c8463": {
      "model_module": "@jupyter-widgets/base",
      "model_module_version": "2.0.0",
      "model_name": "LayoutModel",
      "state": {}
     },
     "1a74de9077e24e95bdc45c5fe5c1a975": {
      "model_module": "@jupyter-widgets/base",
      "model_module_version": "2.0.0",
      "model_name": "LayoutModel",
      "state": {}
     },
     "1ad8c7f10ff646c3b7ccea5fccc1f421": {
      "model_module": "@jupyter-widgets/controls",
      "model_module_version": "2.0.0",
      "model_name": "HTMLModel",
      "state": {
       "layout": "IPY_MODEL_3b4d94ca75254a2e8ef583d177b97a36",
       "style": "IPY_MODEL_7258b0c77a964889919c62fb35c7ba9d",
       "value": " 50/50 [00:07&lt;00:00,  7.14it/s]"
      }
     },
     "1d721beb47174ba4a4e6f37be459f5ce": {
      "model_module": "@jupyter-widgets/controls",
      "model_module_version": "2.0.0",
      "model_name": "HTMLModel",
      "state": {
       "layout": "IPY_MODEL_0c2b526cff4d4f6eb10a100ba50fae47",
       "style": "IPY_MODEL_f42cc37902204dd6abfff55843538f99",
       "value": "tr-rmse:0.04,cont:0.15,pole:0.00,real:0.01|vl-rmse:0.05: 100%"
      }
     },
     "1e714a0b32d64377b8101628bf563528": {
      "model_module": "@jupyter-widgets/base",
      "model_module_version": "2.0.0",
      "model_name": "LayoutModel",
      "state": {}
     },
     "1ec639295e724d38971995822d2fa348": {
      "model_module": "@jupyter-widgets/base",
      "model_module_version": "2.0.0",
      "model_name": "LayoutModel",
      "state": {}
     },
     "1f583c09118a4db2b903882797257487": {
      "model_module": "@jupyter-widgets/controls",
      "model_module_version": "2.0.0",
      "model_name": "HTMLStyleModel",
      "state": {
       "description_width": "",
       "font_size": null,
       "text_color": null
      }
     },
     "1f614e6f7f034fcebce197fe03af75bd": {
      "model_module": "@jupyter-widgets/controls",
      "model_module_version": "2.0.0",
      "model_name": "HTMLStyleModel",
      "state": {
       "description_width": "",
       "font_size": null,
       "text_color": null
      }
     },
     "1f8f1533615f442ab0ee3e18c570f08c": {
      "model_module": "@jupyter-widgets/controls",
      "model_module_version": "2.0.0",
      "model_name": "ProgressStyleModel",
      "state": {
       "description_width": ""
      }
     },
     "2040d3de77c14469b790ea5a7cb028a5": {
      "model_module": "@jupyter-widgets/controls",
      "model_module_version": "2.0.0",
      "model_name": "HBoxModel",
      "state": {
       "children": [
        "IPY_MODEL_be852ac8a21e400eb8095ec539af49dd",
        "IPY_MODEL_71b81e25f59d46abbc6675afbb192e84",
        "IPY_MODEL_c635ed5846db4c0cbd855e40b05f5362"
       ],
       "layout": "IPY_MODEL_d136f9d173234e97a0d7a6a929e8412c"
      }
     },
     "22752a5ddde04ee99361897f16b4c7a1": {
      "model_module": "@jupyter-widgets/controls",
      "model_module_version": "2.0.0",
      "model_name": "HTMLStyleModel",
      "state": {
       "description_width": "",
       "font_size": null,
       "text_color": null
      }
     },
     "235c7437b5ff445ca6d23a007c2f8100": {
      "model_module": "@jupyter-widgets/controls",
      "model_module_version": "2.0.0",
      "model_name": "FloatProgressModel",
      "state": {
       "bar_style": "success",
       "layout": "IPY_MODEL_11bfc75b9e674dfaa235327c15c517c0",
       "max": 50,
       "style": "IPY_MODEL_b74b6e2cd10c430dbcab2cc0b10c031c",
       "value": 50
      }
     },
     "24edb1133715439f95e61681a242ffbf": {
      "model_module": "@jupyter-widgets/controls",
      "model_module_version": "2.0.0",
      "model_name": "HTMLModel",
      "state": {
       "layout": "IPY_MODEL_1ec639295e724d38971995822d2fa348",
       "style": "IPY_MODEL_5b7483ddc95045a89e92e33aa17f72df",
       "value": "tr-rmse:0.03,cont:0.60,pole:0.00,real:0.00|vl-rmse:0.03: 100%"
      }
     },
     "2761ae664b5340149d3a96df054029e1": {
      "model_module": "@jupyter-widgets/base",
      "model_module_version": "2.0.0",
      "model_name": "LayoutModel",
      "state": {}
     },
     "2867648e053f4a7a82e24e2650dfa7c1": {
      "model_module": "@jupyter-widgets/controls",
      "model_module_version": "2.0.0",
      "model_name": "FloatProgressModel",
      "state": {
       "bar_style": "success",
       "layout": "IPY_MODEL_5ea14efe7b084ab79686bc2d2fc72ea5",
       "max": 50,
       "style": "IPY_MODEL_cddac84093db41e1ac87c112cbfefd0d",
       "value": 50
      }
     },
     "2af03011f3a1468bb4ad00fa096d149f": {
      "model_module": "@jupyter-widgets/base",
      "model_module_version": "2.0.0",
      "model_name": "LayoutModel",
      "state": {}
     },
     "2b3e6d26cb3f463db4096e1c2c9627ff": {
      "model_module": "@jupyter-widgets/controls",
      "model_module_version": "2.0.0",
      "model_name": "ProgressStyleModel",
      "state": {
       "description_width": ""
      }
     },
     "2c99602bbab74f06b191c6a7a2f0d8d3": {
      "model_module": "@jupyter-widgets/base",
      "model_module_version": "2.0.0",
      "model_name": "LayoutModel",
      "state": {}
     },
     "2cc13d0443284269ac52353474fbcfc2": {
      "model_module": "@jupyter-widgets/base",
      "model_module_version": "2.0.0",
      "model_name": "LayoutModel",
      "state": {}
     },
     "302e9d78927f4175b9bdd0eac934ddd1": {
      "model_module": "@jupyter-widgets/controls",
      "model_module_version": "2.0.0",
      "model_name": "HTMLModel",
      "state": {
       "layout": "IPY_MODEL_d06b0a326a344fac8ba694ea46fdf8b0",
       "style": "IPY_MODEL_a6853b736c0a4815b38f415240e008e2",
       "value": "tr-rmse:0.04,cont:0.14,pole:0.00,real:0.00|vl-rmse:0.04: 100%"
      }
     },
     "3108b91351e04470a8c751c3a6d33f44": {
      "model_module": "@jupyter-widgets/controls",
      "model_module_version": "2.0.0",
      "model_name": "HTMLModel",
      "state": {
       "layout": "IPY_MODEL_4b10cb00ea614d04a377b2bf84c4a2d3",
       "style": "IPY_MODEL_1f614e6f7f034fcebce197fe03af75bd",
       "value": "tr-rmse:0.05,cont:0.38,pole:0.00,real:0.00|vl-rmse:0.05: 100%"
      }
     },
     "31b6dfc8a4274c25a8981ecabd18505e": {
      "model_module": "@jupyter-widgets/controls",
      "model_module_version": "2.0.0",
      "model_name": "HTMLModel",
      "state": {
       "layout": "IPY_MODEL_4aa8fa5bd97a41559a842b64e145cf37",
       "style": "IPY_MODEL_eb8df58736e5468f907935146f93aeed",
       "value": " 50/50 [00:05&lt;00:00, 10.00it/s]"
      }
     },
     "3246ead3e3d24f60a4c60be2e335842d": {
      "model_module": "@jupyter-widgets/base",
      "model_module_version": "2.0.0",
      "model_name": "LayoutModel",
      "state": {}
     },
     "33b9a23db67f44c7a1ce047505ebe13b": {
      "model_module": "@jupyter-widgets/base",
      "model_module_version": "2.0.0",
      "model_name": "LayoutModel",
      "state": {}
     },
     "34e9f222dae847bf9fed806957d3af86": {
      "model_module": "@jupyter-widgets/controls",
      "model_module_version": "2.0.0",
      "model_name": "HTMLStyleModel",
      "state": {
       "description_width": "",
       "font_size": null,
       "text_color": null
      }
     },
     "34f5fc2b8ded47d286b8145ab2453ea9": {
      "model_module": "@jupyter-widgets/controls",
      "model_module_version": "2.0.0",
      "model_name": "HBoxModel",
      "state": {
       "children": [
        "IPY_MODEL_02fc19c2d8614a4ca2ef5c6a811ee792",
        "IPY_MODEL_e1178ec940fe412a861bc916b79a0fb0",
        "IPY_MODEL_10ac21c7e55f4116b4cb626dfbeb4324"
       ],
       "layout": "IPY_MODEL_d47eac4b32b44d4c83dd56886667dca8"
      }
     },
     "350544dee3794c129494906824d65fe1": {
      "model_module": "@jupyter-widgets/controls",
      "model_module_version": "2.0.0",
      "model_name": "ProgressStyleModel",
      "state": {
       "description_width": ""
      }
     },
     "3752803976274ba3b6910e294d723dc0": {
      "model_module": "@jupyter-widgets/controls",
      "model_module_version": "2.0.0",
      "model_name": "HBoxModel",
      "state": {
       "children": [
        "IPY_MODEL_dfa0057a6d0c4863bbd9ed3aeddde232",
        "IPY_MODEL_3dcabdcf0f2046fe93bd65599fff218c",
        "IPY_MODEL_c401a4e330e34e528734b7a589de7604"
       ],
       "layout": "IPY_MODEL_810737a2caa64c5ea63a9b1e0550a272"
      }
     },
     "37691769a6a344628fee30c50d327055": {
      "model_module": "@jupyter-widgets/controls",
      "model_module_version": "2.0.0",
      "model_name": "FloatProgressModel",
      "state": {
       "bar_style": "success",
       "layout": "IPY_MODEL_d7b51f6dbc934caa91307d859bffd2ad",
       "max": 50,
       "style": "IPY_MODEL_5edf59de39d04de6aaea72855ff6fe8b",
       "value": 50
      }
     },
     "3a155654874d48c78e5b8445d2eec3f7": {
      "model_module": "@jupyter-widgets/base",
      "model_module_version": "2.0.0",
      "model_name": "LayoutModel",
      "state": {}
     },
     "3b4d94ca75254a2e8ef583d177b97a36": {
      "model_module": "@jupyter-widgets/base",
      "model_module_version": "2.0.0",
      "model_name": "LayoutModel",
      "state": {}
     },
     "3bc7e9bc160142a2a84229b947cd629c": {
      "model_module": "@jupyter-widgets/base",
      "model_module_version": "2.0.0",
      "model_name": "LayoutModel",
      "state": {}
     },
     "3c7a6e109cbe425cb2c107b631e2eae3": {
      "model_module": "@jupyter-widgets/controls",
      "model_module_version": "2.0.0",
      "model_name": "HTMLModel",
      "state": {
       "layout": "IPY_MODEL_741bf5051fa04410b0db41eb75509290",
       "style": "IPY_MODEL_4c2811bf532240a1bc1a23990a3b57ea",
       "value": "tr-rmse:0.03,cont:0.06,pole:0.00,real:0.00|vl-rmse:0.03: 100%"
      }
     },
     "3db7ddc0aa194b4c9deece6bd356123c": {
      "model_module": "@jupyter-widgets/base",
      "model_module_version": "2.0.0",
      "model_name": "LayoutModel",
      "state": {}
     },
     "3dcabdcf0f2046fe93bd65599fff218c": {
      "model_module": "@jupyter-widgets/controls",
      "model_module_version": "2.0.0",
      "model_name": "FloatProgressModel",
      "state": {
       "bar_style": "success",
       "layout": "IPY_MODEL_6761aaac7cfd462eb470c9ce273390b3",
       "max": 50,
       "style": "IPY_MODEL_718a5aafde4b4ddd88420542a8229351",
       "value": 50
      }
     },
     "41742db514c54f508a8938c9da28592f": {
      "model_module": "@jupyter-widgets/controls",
      "model_module_version": "2.0.0",
      "model_name": "FloatProgressModel",
      "state": {
       "bar_style": "success",
       "layout": "IPY_MODEL_5d59fcf203854e1dacb1e8940beec9b7",
       "max": 50,
       "style": "IPY_MODEL_ee7711a43c7b44e5b2cbf791c30b8c98",
       "value": 50
      }
     },
     "424045f0fe814d99a7ed5d714f434592": {
      "model_module": "@jupyter-widgets/base",
      "model_module_version": "2.0.0",
      "model_name": "LayoutModel",
      "state": {}
     },
     "45a5a671c83841b5b86307394e2717e9": {
      "model_module": "@jupyter-widgets/controls",
      "model_module_version": "2.0.0",
      "model_name": "HTMLStyleModel",
      "state": {
       "description_width": "",
       "font_size": null,
       "text_color": null
      }
     },
     "4972c7f382ea418b80417a79d1929dad": {
      "model_module": "@jupyter-widgets/controls",
      "model_module_version": "2.0.0",
      "model_name": "ProgressStyleModel",
      "state": {
       "description_width": ""
      }
     },
     "4a28a0265aa847bf9008f8925e51a60b": {
      "model_module": "@jupyter-widgets/base",
      "model_module_version": "2.0.0",
      "model_name": "LayoutModel",
      "state": {}
     },
     "4aa8fa5bd97a41559a842b64e145cf37": {
      "model_module": "@jupyter-widgets/base",
      "model_module_version": "2.0.0",
      "model_name": "LayoutModel",
      "state": {}
     },
     "4b10c2e6960d4f9290a95f8e492db53d": {
      "model_module": "@jupyter-widgets/controls",
      "model_module_version": "2.0.0",
      "model_name": "HTMLModel",
      "state": {
       "layout": "IPY_MODEL_b31267a6d9b84aba8c6fca9b6a2be0c0",
       "style": "IPY_MODEL_e0aba47d8c3e4edd9e55d0c52808ddc5",
       "value": "tr-rmse:0.03,cont:0.04,pole:0.00,real:0.00|vl-rmse:0.02: 100%"
      }
     },
     "4b10cb00ea614d04a377b2bf84c4a2d3": {
      "model_module": "@jupyter-widgets/base",
      "model_module_version": "2.0.0",
      "model_name": "LayoutModel",
      "state": {}
     },
     "4c2811bf532240a1bc1a23990a3b57ea": {
      "model_module": "@jupyter-widgets/controls",
      "model_module_version": "2.0.0",
      "model_name": "HTMLStyleModel",
      "state": {
       "description_width": "",
       "font_size": null,
       "text_color": null
      }
     },
     "4c908094674542c489a2020c31387a86": {
      "model_module": "@jupyter-widgets/base",
      "model_module_version": "2.0.0",
      "model_name": "LayoutModel",
      "state": {}
     },
     "4ce91206b6ab4e628c628088ca5e8bed": {
      "model_module": "@jupyter-widgets/controls",
      "model_module_version": "2.0.0",
      "model_name": "HTMLModel",
      "state": {
       "layout": "IPY_MODEL_e3da9aeaa07c47bba4d3062fd315e184",
       "style": "IPY_MODEL_656b58b6bd354430ad1b84226995fe1b",
       "value": " 50/50 [00:05&lt;00:00,  9.93it/s]"
      }
     },
     "4de0f17c04b64c23b97c5b00f49e5c55": {
      "model_module": "@jupyter-widgets/controls",
      "model_module_version": "2.0.0",
      "model_name": "ProgressStyleModel",
      "state": {
       "description_width": ""
      }
     },
     "4e0690b139bc47dea17a139baa262f20": {
      "model_module": "@jupyter-widgets/controls",
      "model_module_version": "2.0.0",
      "model_name": "HTMLModel",
      "state": {
       "layout": "IPY_MODEL_b0d0244aeb5a439ebc04bafef2b61973",
       "style": "IPY_MODEL_a182b7d0ff3a41a88ee448056491687c",
       "value": " 50/50 [00:05&lt;00:00,  8.77it/s]"
      }
     },
     "4f9b07b1dd084ee5b1055d3b732659ac": {
      "model_module": "@jupyter-widgets/base",
      "model_module_version": "2.0.0",
      "model_name": "LayoutModel",
      "state": {}
     },
     "500dc87307ee44c190c437b1ce7b5fd8": {
      "model_module": "@jupyter-widgets/controls",
      "model_module_version": "2.0.0",
      "model_name": "ProgressStyleModel",
      "state": {
       "description_width": ""
      }
     },
     "50a0edb5bfb746669b2d33b9a09c5ab2": {
      "model_module": "@jupyter-widgets/controls",
      "model_module_version": "2.0.0",
      "model_name": "HBoxModel",
      "state": {
       "children": [
        "IPY_MODEL_bea138f226f94685a13f84d59c8266db",
        "IPY_MODEL_db2078c12fad465da7598db7d4681ad5",
        "IPY_MODEL_857c0ca3f08744e681d3e3e45e14f61f"
       ],
       "layout": "IPY_MODEL_c66d84444df94a2281dd88ab46d3efd5"
      }
     },
     "533768bac8174363894372d317c95b6f": {
      "model_module": "@jupyter-widgets/controls",
      "model_module_version": "2.0.0",
      "model_name": "HBoxModel",
      "state": {
       "children": [
        "IPY_MODEL_f46249c05b864f66beb4df1f44579b66",
        "IPY_MODEL_2867648e053f4a7a82e24e2650dfa7c1",
        "IPY_MODEL_98b64d9e7f4d4d3ba84e356b2a13970d"
       ],
       "layout": "IPY_MODEL_9112f4224d58460e803134a6a1a1dd2a"
      }
     },
     "536bfd6e6b6048dfa25c024454283509": {
      "model_module": "@jupyter-widgets/controls",
      "model_module_version": "2.0.0",
      "model_name": "ProgressStyleModel",
      "state": {
       "description_width": ""
      }
     },
     "548acb86983448debee2b33f3bbf766e": {
      "model_module": "@jupyter-widgets/controls",
      "model_module_version": "2.0.0",
      "model_name": "HTMLStyleModel",
      "state": {
       "description_width": "",
       "font_size": null,
       "text_color": null
      }
     },
     "56073a8af060478bb06a6989034d58f0": {
      "model_module": "@jupyter-widgets/controls",
      "model_module_version": "2.0.0",
      "model_name": "ProgressStyleModel",
      "state": {
       "description_width": ""
      }
     },
     "576af4ef87a84cefb6d146408364ecd6": {
      "model_module": "@jupyter-widgets/controls",
      "model_module_version": "2.0.0",
      "model_name": "HTMLStyleModel",
      "state": {
       "description_width": "",
       "font_size": null,
       "text_color": null
      }
     },
     "597e9e1e902c45c1b4991d9117ebe416": {
      "model_module": "@jupyter-widgets/base",
      "model_module_version": "2.0.0",
      "model_name": "LayoutModel",
      "state": {}
     },
     "59d114ab9aa74f8badd767007577fc2c": {
      "model_module": "@jupyter-widgets/controls",
      "model_module_version": "2.0.0",
      "model_name": "HTMLModel",
      "state": {
       "layout": "IPY_MODEL_641200d09c224bdb8edf6fb0acb60b8d",
       "style": "IPY_MODEL_1f583c09118a4db2b903882797257487",
       "value": "tr-rmse:0.08,cont:1.96,pole:0.01,real:0.02|vl-rmse:0.09: 100%"
      }
     },
     "5b7088d483fa446890b1dfe4efb3392e": {
      "model_module": "@jupyter-widgets/controls",
      "model_module_version": "2.0.0",
      "model_name": "FloatProgressModel",
      "state": {
       "bar_style": "success",
       "layout": "IPY_MODEL_ee075881c7154ee5bd030f0f8cb8497d",
       "max": 50,
       "style": "IPY_MODEL_5c1e02cfdbbb4d6ca052d7b97c9919a3",
       "value": 50
      }
     },
     "5b7483ddc95045a89e92e33aa17f72df": {
      "model_module": "@jupyter-widgets/controls",
      "model_module_version": "2.0.0",
      "model_name": "HTMLStyleModel",
      "state": {
       "description_width": "",
       "font_size": null,
       "text_color": null
      }
     },
     "5b9d052983d94e6ba6fda454808649b3": {
      "model_module": "@jupyter-widgets/base",
      "model_module_version": "2.0.0",
      "model_name": "LayoutModel",
      "state": {}
     },
     "5c1e02cfdbbb4d6ca052d7b97c9919a3": {
      "model_module": "@jupyter-widgets/controls",
      "model_module_version": "2.0.0",
      "model_name": "ProgressStyleModel",
      "state": {
       "description_width": ""
      }
     },
     "5d59fcf203854e1dacb1e8940beec9b7": {
      "model_module": "@jupyter-widgets/base",
      "model_module_version": "2.0.0",
      "model_name": "LayoutModel",
      "state": {}
     },
     "5d8eacfdb24d4ce8b5b1daa41ed05bd1": {
      "model_module": "@jupyter-widgets/controls",
      "model_module_version": "2.0.0",
      "model_name": "HTMLStyleModel",
      "state": {
       "description_width": "",
       "font_size": null,
       "text_color": null
      }
     },
     "5ea14efe7b084ab79686bc2d2fc72ea5": {
      "model_module": "@jupyter-widgets/base",
      "model_module_version": "2.0.0",
      "model_name": "LayoutModel",
      "state": {}
     },
     "5edf59de39d04de6aaea72855ff6fe8b": {
      "model_module": "@jupyter-widgets/controls",
      "model_module_version": "2.0.0",
      "model_name": "ProgressStyleModel",
      "state": {
       "description_width": ""
      }
     },
     "5f5d0966f676478bb6958e8fd880f1df": {
      "model_module": "@jupyter-widgets/controls",
      "model_module_version": "2.0.0",
      "model_name": "HTMLStyleModel",
      "state": {
       "description_width": "",
       "font_size": null,
       "text_color": null
      }
     },
     "641200d09c224bdb8edf6fb0acb60b8d": {
      "model_module": "@jupyter-widgets/base",
      "model_module_version": "2.0.0",
      "model_name": "LayoutModel",
      "state": {}
     },
     "656b58b6bd354430ad1b84226995fe1b": {
      "model_module": "@jupyter-widgets/controls",
      "model_module_version": "2.0.0",
      "model_name": "HTMLStyleModel",
      "state": {
       "description_width": "",
       "font_size": null,
       "text_color": null
      }
     },
     "675893cccc8a41a6b3d15f8cd53cca22": {
      "model_module": "@jupyter-widgets/controls",
      "model_module_version": "2.0.0",
      "model_name": "HTMLModel",
      "state": {
       "layout": "IPY_MODEL_afa842673ecd4ebab176e9a697c4797e",
       "style": "IPY_MODEL_edc78e52175c4ee8b3d7d3010ef0f256",
       "value": "tr-rmse:0.07,cont:0.58,pole:0.00,real:0.01|vl-rmse:0.05: 100%"
      }
     },
     "6761aaac7cfd462eb470c9ce273390b3": {
      "model_module": "@jupyter-widgets/base",
      "model_module_version": "2.0.0",
      "model_name": "LayoutModel",
      "state": {}
     },
     "6794e67acffe44749a618374d77b3b17": {
      "model_module": "@jupyter-widgets/controls",
      "model_module_version": "2.0.0",
      "model_name": "ProgressStyleModel",
      "state": {
       "description_width": ""
      }
     },
     "683649d467df4d63af54d080cb61282f": {
      "model_module": "@jupyter-widgets/base",
      "model_module_version": "2.0.0",
      "model_name": "LayoutModel",
      "state": {}
     },
     "689493efb7c64bd9ad0f4399f9aad375": {
      "model_module": "@jupyter-widgets/base",
      "model_module_version": "2.0.0",
      "model_name": "LayoutModel",
      "state": {}
     },
     "6b0bf63aa89844bb934bb1d2f5eea4e6": {
      "model_module": "@jupyter-widgets/base",
      "model_module_version": "2.0.0",
      "model_name": "LayoutModel",
      "state": {}
     },
     "6b363569e4f14c69af2a2c5240f3ba1d": {
      "model_module": "@jupyter-widgets/controls",
      "model_module_version": "2.0.0",
      "model_name": "HTMLModel",
      "state": {
       "layout": "IPY_MODEL_e08c31bd1a184fb4b0e8f8479c11fa8c",
       "style": "IPY_MODEL_a2ffd93ca08043e9beb3d62f7f1fbca7",
       "value": " 50/50 [00:06&lt;00:00,  7.85it/s]"
      }
     },
     "6c979f51662e4871b202e265cb08216c": {
      "model_module": "@jupyter-widgets/controls",
      "model_module_version": "2.0.0",
      "model_name": "HBoxModel",
      "state": {
       "children": [
        "IPY_MODEL_b8df20abca7b444da9cdbd6ed66e2e9b",
        "IPY_MODEL_8eb823ba2c234bc2887953bb67f97ce5",
        "IPY_MODEL_702a60294b6a4ee8b4921b62c1526fdc"
       ],
       "layout": "IPY_MODEL_860458b53352499d96784c81e71f588a"
      }
     },
     "6f0b2ddd970141fab97f745ec28f2bdf": {
      "model_module": "@jupyter-widgets/controls",
      "model_module_version": "2.0.0",
      "model_name": "HTMLModel",
      "state": {
       "layout": "IPY_MODEL_424045f0fe814d99a7ed5d714f434592",
       "style": "IPY_MODEL_75f06393270b4d439dcc4e5c5ef1c2fe",
       "value": " 50/50 [00:05&lt;00:00,  8.78it/s]"
      }
     },
     "702a60294b6a4ee8b4921b62c1526fdc": {
      "model_module": "@jupyter-widgets/controls",
      "model_module_version": "2.0.0",
      "model_name": "HTMLModel",
      "state": {
       "layout": "IPY_MODEL_3246ead3e3d24f60a4c60be2e335842d",
       "style": "IPY_MODEL_b7f1e1732a4d4088a1704025d0316ecc",
       "value": " 50/50 [00:06&lt;00:00,  7.94it/s]"
      }
     },
     "705e544c04264904abe461101df9d3eb": {
      "model_module": "@jupyter-widgets/controls",
      "model_module_version": "2.0.0",
      "model_name": "HTMLModel",
      "state": {
       "layout": "IPY_MODEL_f5dde14bd206443cb4e84d8fdb54729f",
       "style": "IPY_MODEL_8f0015be87ed4abd8fd38fb02acf453d",
       "value": " 50/50 [00:07&lt;00:00,  7.12it/s]"
      }
     },
     "718a5aafde4b4ddd88420542a8229351": {
      "model_module": "@jupyter-widgets/controls",
      "model_module_version": "2.0.0",
      "model_name": "ProgressStyleModel",
      "state": {
       "description_width": ""
      }
     },
     "71b81e25f59d46abbc6675afbb192e84": {
      "model_module": "@jupyter-widgets/controls",
      "model_module_version": "2.0.0",
      "model_name": "FloatProgressModel",
      "state": {
       "bar_style": "success",
       "layout": "IPY_MODEL_b4afb9fe46c747e79b4ec5f60c0202e6",
       "max": 50,
       "style": "IPY_MODEL_4de0f17c04b64c23b97c5b00f49e5c55",
       "value": 50
      }
     },
     "7258b0c77a964889919c62fb35c7ba9d": {
      "model_module": "@jupyter-widgets/controls",
      "model_module_version": "2.0.0",
      "model_name": "HTMLStyleModel",
      "state": {
       "description_width": "",
       "font_size": null,
       "text_color": null
      }
     },
     "727384f1088e441fa1bc09f639b9bfb8": {
      "model_module": "@jupyter-widgets/controls",
      "model_module_version": "2.0.0",
      "model_name": "HBoxModel",
      "state": {
       "children": [
        "IPY_MODEL_675893cccc8a41a6b3d15f8cd53cca22",
        "IPY_MODEL_99c6986dd5024abd9a443abe58af0a91",
        "IPY_MODEL_c55116fbef914099bb89f9b8573ff1c3"
       ],
       "layout": "IPY_MODEL_0a1295f856c74d37ae6796bc80e333c7"
      }
     },
     "741bf5051fa04410b0db41eb75509290": {
      "model_module": "@jupyter-widgets/base",
      "model_module_version": "2.0.0",
      "model_name": "LayoutModel",
      "state": {}
     },
     "75f06393270b4d439dcc4e5c5ef1c2fe": {
      "model_module": "@jupyter-widgets/controls",
      "model_module_version": "2.0.0",
      "model_name": "HTMLStyleModel",
      "state": {
       "description_width": "",
       "font_size": null,
       "text_color": null
      }
     },
     "7675449858054612b51bcdeef8d06849": {
      "model_module": "@jupyter-widgets/base",
      "model_module_version": "2.0.0",
      "model_name": "LayoutModel",
      "state": {}
     },
     "79aa33a1577346a9a1f5de949b7b7232": {
      "model_module": "@jupyter-widgets/base",
      "model_module_version": "2.0.0",
      "model_name": "LayoutModel",
      "state": {}
     },
     "79aaebf6aaaf4b89bd0fa6ca95a6f5eb": {
      "model_module": "@jupyter-widgets/controls",
      "model_module_version": "2.0.0",
      "model_name": "HTMLStyleModel",
      "state": {
       "description_width": "",
       "font_size": null,
       "text_color": null
      }
     },
     "7a831a9a8b68414a9732328b6ef856c9": {
      "model_module": "@jupyter-widgets/controls",
      "model_module_version": "2.0.0",
      "model_name": "HTMLModel",
      "state": {
       "layout": "IPY_MODEL_b41cacf417f549568a9ba6130d05a0ba",
       "style": "IPY_MODEL_e0b51b045af048608b958ad82afb170e",
       "value": " 50/50 [00:06&lt;00:00,  7.95it/s]"
      }
     },
     "7aa6ed8f71d74e84a4742d85591ba023": {
      "model_module": "@jupyter-widgets/controls",
      "model_module_version": "2.0.0",
      "model_name": "HBoxModel",
      "state": {
       "children": [
        "IPY_MODEL_b3f24691394f4992aae6b1460293c49b",
        "IPY_MODEL_849132e953c84767b9f87684cadd76ee",
        "IPY_MODEL_0257b3a7ab25419abae6c671ca0ab5a5"
       ],
       "layout": "IPY_MODEL_090a4e92d2f948e48888ad1ca9c6f749"
      }
     },
     "7bd77e3793ea42fba7300f5fc3272ede": {
      "model_module": "@jupyter-widgets/controls",
      "model_module_version": "2.0.0",
      "model_name": "HTMLStyleModel",
      "state": {
       "description_width": "",
       "font_size": null,
       "text_color": null
      }
     },
     "7e660b84c8fd4a5c8b01a5bfb4fa00bc": {
      "model_module": "@jupyter-widgets/controls",
      "model_module_version": "2.0.0",
      "model_name": "HTMLModel",
      "state": {
       "layout": "IPY_MODEL_eb0caefb1f224ae8969c298b0695d80e",
       "style": "IPY_MODEL_22752a5ddde04ee99361897f16b4c7a1",
       "value": " 50/50 [00:07&lt;00:00,  7.15it/s]"
      }
     },
     "810737a2caa64c5ea63a9b1e0550a272": {
      "model_module": "@jupyter-widgets/base",
      "model_module_version": "2.0.0",
      "model_name": "LayoutModel",
      "state": {}
     },
     "819e7afc0dae45d2b0f12f9f6a4d678c": {
      "model_module": "@jupyter-widgets/controls",
      "model_module_version": "2.0.0",
      "model_name": "FloatProgressModel",
      "state": {
       "bar_style": "success",
       "layout": "IPY_MODEL_5b9d052983d94e6ba6fda454808649b3",
       "max": 50,
       "style": "IPY_MODEL_8bc380abbb6f49aaaa668344b0082b5f",
       "value": 50
      }
     },
     "81b487a12abb4e56bd96278d660e963e": {
      "model_module": "@jupyter-widgets/controls",
      "model_module_version": "2.0.0",
      "model_name": "HTMLStyleModel",
      "state": {
       "description_width": "",
       "font_size": null,
       "text_color": null
      }
     },
     "849132e953c84767b9f87684cadd76ee": {
      "model_module": "@jupyter-widgets/controls",
      "model_module_version": "2.0.0",
      "model_name": "FloatProgressModel",
      "state": {
       "bar_style": "success",
       "layout": "IPY_MODEL_1e714a0b32d64377b8101628bf563528",
       "max": 50,
       "style": "IPY_MODEL_d310dc6d11ca45e8ac0ac96653736f2d",
       "value": 50
      }
     },
     "85545b71f83f443a9422162b0f22f0f4": {
      "model_module": "@jupyter-widgets/base",
      "model_module_version": "2.0.0",
      "model_name": "LayoutModel",
      "state": {}
     },
     "857c0ca3f08744e681d3e3e45e14f61f": {
      "model_module": "@jupyter-widgets/controls",
      "model_module_version": "2.0.0",
      "model_name": "HTMLModel",
      "state": {
       "layout": "IPY_MODEL_98f87d39a0cb486392090f98439a4ec8",
       "style": "IPY_MODEL_34e9f222dae847bf9fed806957d3af86",
       "value": " 50/50 [00:06&lt;00:00,  7.21it/s]"
      }
     },
     "860013edee8b46ec887d8655a532a8a7": {
      "model_module": "@jupyter-widgets/base",
      "model_module_version": "2.0.0",
      "model_name": "LayoutModel",
      "state": {}
     },
     "860458b53352499d96784c81e71f588a": {
      "model_module": "@jupyter-widgets/base",
      "model_module_version": "2.0.0",
      "model_name": "LayoutModel",
      "state": {}
     },
     "87875ea9c42c4095a21df0f9b1767be6": {
      "model_module": "@jupyter-widgets/controls",
      "model_module_version": "2.0.0",
      "model_name": "HTMLModel",
      "state": {
       "layout": "IPY_MODEL_132403d31a824eb3a76a49cfa2467a02",
       "style": "IPY_MODEL_548acb86983448debee2b33f3bbf766e",
       "value": "tr-rmse:0.03,cont:0.05,pole:0.00,real:0.00|vl-rmse:0.04: 100%"
      }
     },
     "88bbb2831efc42eb88d0e230f1145082": {
      "model_module": "@jupyter-widgets/controls",
      "model_module_version": "2.0.0",
      "model_name": "HTMLStyleModel",
      "state": {
       "description_width": "",
       "font_size": null,
       "text_color": null
      }
     },
     "8a5f0c41616d4370896d2c7371fe6004": {
      "model_module": "@jupyter-widgets/controls",
      "model_module_version": "2.0.0",
      "model_name": "HTMLStyleModel",
      "state": {
       "description_width": "",
       "font_size": null,
       "text_color": null
      }
     },
     "8ad4ea6462bf43e8a2d221647a24ddb6": {
      "model_module": "@jupyter-widgets/controls",
      "model_module_version": "2.0.0",
      "model_name": "HBoxModel",
      "state": {
       "children": [
        "IPY_MODEL_9754a501b9c44208bbd16b9c1aae5385",
        "IPY_MODEL_f125ae7209894d41ba66e2ad0dfe1f7f",
        "IPY_MODEL_6b363569e4f14c69af2a2c5240f3ba1d"
       ],
       "layout": "IPY_MODEL_4a28a0265aa847bf9008f8925e51a60b"
      }
     },
     "8bc380abbb6f49aaaa668344b0082b5f": {
      "model_module": "@jupyter-widgets/controls",
      "model_module_version": "2.0.0",
      "model_name": "ProgressStyleModel",
      "state": {
       "description_width": ""
      }
     },
     "8eb823ba2c234bc2887953bb67f97ce5": {
      "model_module": "@jupyter-widgets/controls",
      "model_module_version": "2.0.0",
      "model_name": "FloatProgressModel",
      "state": {
       "bar_style": "success",
       "layout": "IPY_MODEL_e1038a75802a43d492b94acc49f33550",
       "max": 50,
       "style": "IPY_MODEL_992b8ecb32ec46d4a1819826a4637d03",
       "value": 50
      }
     },
     "8f0015be87ed4abd8fd38fb02acf453d": {
      "model_module": "@jupyter-widgets/controls",
      "model_module_version": "2.0.0",
      "model_name": "HTMLStyleModel",
      "state": {
       "description_width": "",
       "font_size": null,
       "text_color": null
      }
     },
     "8f18790d8c554c92aff1d2d1f42139be": {
      "model_module": "@jupyter-widgets/base",
      "model_module_version": "2.0.0",
      "model_name": "LayoutModel",
      "state": {}
     },
     "8f2ae5ce9bfa449fb10d06c7e9c2802d": {
      "model_module": "@jupyter-widgets/base",
      "model_module_version": "2.0.0",
      "model_name": "LayoutModel",
      "state": {}
     },
     "9112f4224d58460e803134a6a1a1dd2a": {
      "model_module": "@jupyter-widgets/base",
      "model_module_version": "2.0.0",
      "model_name": "LayoutModel",
      "state": {}
     },
     "91506d89c7dc4c81acae323f360e759b": {
      "model_module": "@jupyter-widgets/controls",
      "model_module_version": "2.0.0",
      "model_name": "HTMLStyleModel",
      "state": {
       "description_width": "",
       "font_size": null,
       "text_color": null
      }
     },
     "91f0def8a6cb402d85f9dd5260b6e4f2": {
      "model_module": "@jupyter-widgets/controls",
      "model_module_version": "2.0.0",
      "model_name": "HBoxModel",
      "state": {
       "children": [
        "IPY_MODEL_1d721beb47174ba4a4e6f37be459f5ce",
        "IPY_MODEL_c291206e1f294d439545162ba8106af6",
        "IPY_MODEL_4e0690b139bc47dea17a139baa262f20"
       ],
       "layout": "IPY_MODEL_cfc714bdb64c48d69d2c4c9f241e5b82"
      }
     },
     "94e567ed25cd45e79259d90c3a00ad8f": {
      "model_module": "@jupyter-widgets/controls",
      "model_module_version": "2.0.0",
      "model_name": "HTMLModel",
      "state": {
       "layout": "IPY_MODEL_a1b792388ed64961bd6f5a6aa4fc5380",
       "style": "IPY_MODEL_a27b62d0b8ac45e4855d208bb5a15218",
       "value": " 50/50 [00:05&lt;00:00,  9.87it/s]"
      }
     },
     "9754a501b9c44208bbd16b9c1aae5385": {
      "model_module": "@jupyter-widgets/controls",
      "model_module_version": "2.0.0",
      "model_name": "HTMLModel",
      "state": {
       "layout": "IPY_MODEL_85545b71f83f443a9422162b0f22f0f4",
       "style": "IPY_MODEL_8a5f0c41616d4370896d2c7371fe6004",
       "value": "tr-rmse:0.03,cont:0.05,pole:0.00,real:0.00|vl-rmse:0.04: 100%"
      }
     },
     "98b64d9e7f4d4d3ba84e356b2a13970d": {
      "model_module": "@jupyter-widgets/controls",
      "model_module_version": "2.0.0",
      "model_name": "HTMLModel",
      "state": {
       "layout": "IPY_MODEL_a803ab3d284b4ff58ec2035faf2fd500",
       "style": "IPY_MODEL_79aaebf6aaaf4b89bd0fa6ca95a6f5eb",
       "value": " 50/50 [00:07&lt;00:00,  7.11it/s]"
      }
     },
     "98f87d39a0cb486392090f98439a4ec8": {
      "model_module": "@jupyter-widgets/base",
      "model_module_version": "2.0.0",
      "model_name": "LayoutModel",
      "state": {}
     },
     "992b8ecb32ec46d4a1819826a4637d03": {
      "model_module": "@jupyter-widgets/controls",
      "model_module_version": "2.0.0",
      "model_name": "ProgressStyleModel",
      "state": {
       "description_width": ""
      }
     },
     "99c6986dd5024abd9a443abe58af0a91": {
      "model_module": "@jupyter-widgets/controls",
      "model_module_version": "2.0.0",
      "model_name": "FloatProgressModel",
      "state": {
       "bar_style": "success",
       "layout": "IPY_MODEL_d7a16642969a472d9ea29ada1343402a",
       "max": 50,
       "style": "IPY_MODEL_56073a8af060478bb06a6989034d58f0",
       "value": 50
      }
     },
     "9cdead4d1fc04ab69d5833e6c9d42010": {
      "model_module": "@jupyter-widgets/controls",
      "model_module_version": "2.0.0",
      "model_name": "ProgressStyleModel",
      "state": {
       "description_width": ""
      }
     },
     "9f7c5f6ff7ea4ce79a0d7373092ff6e8": {
      "model_module": "@jupyter-widgets/base",
      "model_module_version": "2.0.0",
      "model_name": "LayoutModel",
      "state": {}
     },
     "a15b0041601547939bcddd933b4f8517": {
      "model_module": "@jupyter-widgets/controls",
      "model_module_version": "2.0.0",
      "model_name": "HTMLModel",
      "state": {
       "layout": "IPY_MODEL_145be4c7ee9d4244a2068ea38fbb4341",
       "style": "IPY_MODEL_91506d89c7dc4c81acae323f360e759b",
       "value": " 50/50 [00:06&lt;00:00,  7.89it/s]"
      }
     },
     "a182b7d0ff3a41a88ee448056491687c": {
      "model_module": "@jupyter-widgets/controls",
      "model_module_version": "2.0.0",
      "model_name": "HTMLStyleModel",
      "state": {
       "description_width": "",
       "font_size": null,
       "text_color": null
      }
     },
     "a1b792388ed64961bd6f5a6aa4fc5380": {
      "model_module": "@jupyter-widgets/base",
      "model_module_version": "2.0.0",
      "model_name": "LayoutModel",
      "state": {}
     },
     "a1d5f817bef04fab9b81d5002b1d1a3d": {
      "model_module": "@jupyter-widgets/base",
      "model_module_version": "2.0.0",
      "model_name": "LayoutModel",
      "state": {}
     },
     "a27b62d0b8ac45e4855d208bb5a15218": {
      "model_module": "@jupyter-widgets/controls",
      "model_module_version": "2.0.0",
      "model_name": "HTMLStyleModel",
      "state": {
       "description_width": "",
       "font_size": null,
       "text_color": null
      }
     },
     "a2ffd93ca08043e9beb3d62f7f1fbca7": {
      "model_module": "@jupyter-widgets/controls",
      "model_module_version": "2.0.0",
      "model_name": "HTMLStyleModel",
      "state": {
       "description_width": "",
       "font_size": null,
       "text_color": null
      }
     },
     "a303e4ac9329438daa15dab09e61cb29": {
      "model_module": "@jupyter-widgets/controls",
      "model_module_version": "2.0.0",
      "model_name": "FloatProgressModel",
      "state": {
       "bar_style": "success",
       "layout": "IPY_MODEL_4c908094674542c489a2020c31387a86",
       "max": 50,
       "style": "IPY_MODEL_d21271cf876b45839d32e2eff58c4c99",
       "value": 50
      }
     },
     "a382ffc9763243bf91b463c64362fbfd": {
      "model_module": "@jupyter-widgets/controls",
      "model_module_version": "2.0.0",
      "model_name": "HTMLModel",
      "state": {
       "layout": "IPY_MODEL_b1320ed5e43f45bea25db7d866ae3ee4",
       "style": "IPY_MODEL_f2d72c89dafb443a89b3025e34387fc7",
       "value": "tr-rmse:0.05,cont:0.37,pole:0.00,real:0.01|vl-rmse:0.04: 100%"
      }
     },
     "a4c0293addab4131954fbc7a13e87b08": {
      "model_module": "@jupyter-widgets/controls",
      "model_module_version": "2.0.0",
      "model_name": "FloatProgressModel",
      "state": {
       "bar_style": "success",
       "layout": "IPY_MODEL_9f7c5f6ff7ea4ce79a0d7373092ff6e8",
       "max": 50,
       "style": "IPY_MODEL_9cdead4d1fc04ab69d5833e6c9d42010",
       "value": 50
      }
     },
     "a4fca5c822ac46839e75a9dd9eed82e3": {
      "model_module": "@jupyter-widgets/controls",
      "model_module_version": "2.0.0",
      "model_name": "HBoxModel",
      "state": {
       "children": [
        "IPY_MODEL_3108b91351e04470a8c751c3a6d33f44",
        "IPY_MODEL_819e7afc0dae45d2b0f12f9f6a4d678c",
        "IPY_MODEL_31b6dfc8a4274c25a8981ecabd18505e"
       ],
       "layout": "IPY_MODEL_defda968eec14ddc8bc33401a489caa6"
      }
     },
     "a5a6a277467346a6813855ca7ed75c26": {
      "model_module": "@jupyter-widgets/base",
      "model_module_version": "2.0.0",
      "model_name": "LayoutModel",
      "state": {}
     },
     "a5b612d4346c4248b348829b11ee62a0": {
      "model_module": "@jupyter-widgets/base",
      "model_module_version": "2.0.0",
      "model_name": "LayoutModel",
      "state": {}
     },
     "a668d25733594bc0b9ab9983ee896dda": {
      "model_module": "@jupyter-widgets/controls",
      "model_module_version": "2.0.0",
      "model_name": "HBoxModel",
      "state": {
       "children": [
        "IPY_MODEL_87875ea9c42c4095a21df0f9b1767be6",
        "IPY_MODEL_5b7088d483fa446890b1dfe4efb3392e",
        "IPY_MODEL_7a831a9a8b68414a9732328b6ef856c9"
       ],
       "layout": "IPY_MODEL_ccff0e7a8b9f4725b60d701ade8841d4"
      }
     },
     "a6853b736c0a4815b38f415240e008e2": {
      "model_module": "@jupyter-widgets/controls",
      "model_module_version": "2.0.0",
      "model_name": "HTMLStyleModel",
      "state": {
       "description_width": "",
       "font_size": null,
       "text_color": null
      }
     },
     "a803ab3d284b4ff58ec2035faf2fd500": {
      "model_module": "@jupyter-widgets/base",
      "model_module_version": "2.0.0",
      "model_name": "LayoutModel",
      "state": {}
     },
     "aa4340aed2da469093f88419c6d5e1d9": {
      "model_module": "@jupyter-widgets/base",
      "model_module_version": "2.0.0",
      "model_name": "LayoutModel",
      "state": {}
     },
     "afa842673ecd4ebab176e9a697c4797e": {
      "model_module": "@jupyter-widgets/base",
      "model_module_version": "2.0.0",
      "model_name": "LayoutModel",
      "state": {}
     },
     "b0d0244aeb5a439ebc04bafef2b61973": {
      "model_module": "@jupyter-widgets/base",
      "model_module_version": "2.0.0",
      "model_name": "LayoutModel",
      "state": {}
     },
     "b1320ed5e43f45bea25db7d866ae3ee4": {
      "model_module": "@jupyter-widgets/base",
      "model_module_version": "2.0.0",
      "model_name": "LayoutModel",
      "state": {}
     },
     "b31267a6d9b84aba8c6fca9b6a2be0c0": {
      "model_module": "@jupyter-widgets/base",
      "model_module_version": "2.0.0",
      "model_name": "LayoutModel",
      "state": {}
     },
     "b3f24691394f4992aae6b1460293c49b": {
      "model_module": "@jupyter-widgets/controls",
      "model_module_version": "2.0.0",
      "model_name": "HTMLModel",
      "state": {
       "layout": "IPY_MODEL_a5b612d4346c4248b348829b11ee62a0",
       "style": "IPY_MODEL_b5e21e8b9c0f46eba9cf290b8999c49b",
       "value": "tr-rmse:0.05,cont:0.22,pole:0.00,real:0.00|vl-rmse:0.05: 100%"
      }
     },
     "b41cacf417f549568a9ba6130d05a0ba": {
      "model_module": "@jupyter-widgets/base",
      "model_module_version": "2.0.0",
      "model_name": "LayoutModel",
      "state": {}
     },
     "b4afb9fe46c747e79b4ec5f60c0202e6": {
      "model_module": "@jupyter-widgets/base",
      "model_module_version": "2.0.0",
      "model_name": "LayoutModel",
      "state": {}
     },
     "b5e21e8b9c0f46eba9cf290b8999c49b": {
      "model_module": "@jupyter-widgets/controls",
      "model_module_version": "2.0.0",
      "model_name": "HTMLStyleModel",
      "state": {
       "description_width": "",
       "font_size": null,
       "text_color": null
      }
     },
     "b74b6e2cd10c430dbcab2cc0b10c031c": {
      "model_module": "@jupyter-widgets/controls",
      "model_module_version": "2.0.0",
      "model_name": "ProgressStyleModel",
      "state": {
       "description_width": ""
      }
     },
     "b7c4c4f1b8ad4578812ef63d275d2e4e": {
      "model_module": "@jupyter-widgets/controls",
      "model_module_version": "2.0.0",
      "model_name": "HBoxModel",
      "state": {
       "children": [
        "IPY_MODEL_c764041bac8949bfbb53171e68407802",
        "IPY_MODEL_efd75120d42f4878a8a83f7624b6d550",
        "IPY_MODEL_6f0b2ddd970141fab97f745ec28f2bdf"
       ],
       "layout": "IPY_MODEL_689493efb7c64bd9ad0f4399f9aad375"
      }
     },
     "b7f1e1732a4d4088a1704025d0316ecc": {
      "model_module": "@jupyter-widgets/controls",
      "model_module_version": "2.0.0",
      "model_name": "HTMLStyleModel",
      "state": {
       "description_width": "",
       "font_size": null,
       "text_color": null
      }
     },
     "b85bd628ab4741baa044598abebcb81c": {
      "model_module": "@jupyter-widgets/base",
      "model_module_version": "2.0.0",
      "model_name": "LayoutModel",
      "state": {}
     },
     "b8df20abca7b444da9cdbd6ed66e2e9b": {
      "model_module": "@jupyter-widgets/controls",
      "model_module_version": "2.0.0",
      "model_name": "HTMLModel",
      "state": {
       "layout": "IPY_MODEL_f43861b658204c079c81dbf9c6c165a5",
       "style": "IPY_MODEL_7bd77e3793ea42fba7300f5fc3272ede",
       "value": "tr-rmse:0.03,cont:0.06,pole:0.00,real:0.00|vl-rmse:0.03: 100%"
      }
     },
     "be852ac8a21e400eb8095ec539af49dd": {
      "model_module": "@jupyter-widgets/controls",
      "model_module_version": "2.0.0",
      "model_name": "HTMLModel",
      "state": {
       "layout": "IPY_MODEL_f849f562d2d9446987ee449a74bbdbe0",
       "style": "IPY_MODEL_5d8eacfdb24d4ce8b5b1daa41ed05bd1",
       "value": "tr-rmse:0.06,cont:0.46,pole:0.00,real:0.00|vl-rmse:0.06: 100%"
      }
     },
     "bea138f226f94685a13f84d59c8266db": {
      "model_module": "@jupyter-widgets/controls",
      "model_module_version": "2.0.0",
      "model_name": "HTMLModel",
      "state": {
       "layout": "IPY_MODEL_4f9b07b1dd084ee5b1055d3b732659ac",
       "style": "IPY_MODEL_fc610ddaab53414d85863e0310f9812f",
       "value": "tr-rmse:0.03,cont:0.05,pole:0.00,real:0.00|vl-rmse:0.02: 100%"
      }
     },
     "c291206e1f294d439545162ba8106af6": {
      "model_module": "@jupyter-widgets/controls",
      "model_module_version": "2.0.0",
      "model_name": "FloatProgressModel",
      "state": {
       "bar_style": "success",
       "layout": "IPY_MODEL_173e66b6b1ea421ab307fda80f9c8463",
       "max": 50,
       "style": "IPY_MODEL_6794e67acffe44749a618374d77b3b17",
       "value": 50
      }
     },
     "c3c03841f4b5416a93bd2dd2b1d22d4e": {
      "model_module": "@jupyter-widgets/controls",
      "model_module_version": "2.0.0",
      "model_name": "HBoxModel",
      "state": {
       "children": [
        "IPY_MODEL_4b10c2e6960d4f9290a95f8e492db53d",
        "IPY_MODEL_41742db514c54f508a8938c9da28592f",
        "IPY_MODEL_7e660b84c8fd4a5c8b01a5bfb4fa00bc"
       ],
       "layout": "IPY_MODEL_79aa33a1577346a9a1f5de949b7b7232"
      }
     },
     "c401a4e330e34e528734b7a589de7604": {
      "model_module": "@jupyter-widgets/controls",
      "model_module_version": "2.0.0",
      "model_name": "HTMLModel",
      "state": {
       "layout": "IPY_MODEL_683649d467df4d63af54d080cb61282f",
       "style": "IPY_MODEL_c5d2537b84974258a78860643afcd024",
       "value": " 50/50 [00:05&lt;00:00,  8.82it/s]"
      }
     },
     "c55116fbef914099bb89f9b8573ff1c3": {
      "model_module": "@jupyter-widgets/controls",
      "model_module_version": "2.0.0",
      "model_name": "HTMLModel",
      "state": {
       "layout": "IPY_MODEL_2af03011f3a1468bb4ad00fa096d149f",
       "style": "IPY_MODEL_88bbb2831efc42eb88d0e230f1145082",
       "value": " 50/50 [00:05&lt;00:00,  9.88it/s]"
      }
     },
     "c5d2537b84974258a78860643afcd024": {
      "model_module": "@jupyter-widgets/controls",
      "model_module_version": "2.0.0",
      "model_name": "HTMLStyleModel",
      "state": {
       "description_width": "",
       "font_size": null,
       "text_color": null
      }
     },
     "c635ed5846db4c0cbd855e40b05f5362": {
      "model_module": "@jupyter-widgets/controls",
      "model_module_version": "2.0.0",
      "model_name": "HTMLModel",
      "state": {
       "layout": "IPY_MODEL_2c99602bbab74f06b191c6a7a2f0d8d3",
       "style": "IPY_MODEL_e430cd66011b4af0a1495cf06cababd2",
       "value": " 50/50 [00:05&lt;00:00,  9.99it/s]"
      }
     },
     "c66d84444df94a2281dd88ab46d3efd5": {
      "model_module": "@jupyter-widgets/base",
      "model_module_version": "2.0.0",
      "model_name": "LayoutModel",
      "state": {}
     },
     "c764041bac8949bfbb53171e68407802": {
      "model_module": "@jupyter-widgets/controls",
      "model_module_version": "2.0.0",
      "model_name": "HTMLModel",
      "state": {
       "layout": "IPY_MODEL_6b0bf63aa89844bb934bb1d2f5eea4e6",
       "style": "IPY_MODEL_d9237d16af8243cba55e285de675d4c2",
       "value": "tr-rmse:0.04,cont:0.15,pole:0.00,real:0.00|vl-rmse:0.04: 100%"
      }
     },
     "c867dd026fc948418564e166bd29a72f": {
      "model_module": "@jupyter-widgets/controls",
      "model_module_version": "2.0.0",
      "model_name": "HBoxModel",
      "state": {
       "children": [
        "IPY_MODEL_3c7a6e109cbe425cb2c107b631e2eae3",
        "IPY_MODEL_d0a1c07154044fb095ccf1029e1a69a0",
        "IPY_MODEL_a15b0041601547939bcddd933b4f8517"
       ],
       "layout": "IPY_MODEL_3bc7e9bc160142a2a84229b947cd629c"
      }
     },
     "ccff0e7a8b9f4725b60d701ade8841d4": {
      "model_module": "@jupyter-widgets/base",
      "model_module_version": "2.0.0",
      "model_name": "LayoutModel",
      "state": {}
     },
     "cd07d29261c74c2a928bf9443edb0f86": {
      "model_module": "@jupyter-widgets/controls",
      "model_module_version": "2.0.0",
      "model_name": "HTMLModel",
      "state": {
       "layout": "IPY_MODEL_2761ae664b5340149d3a96df054029e1",
       "style": "IPY_MODEL_035cf2956ec3471f9484ed6d070af0d8",
       "value": " 50/50 [00:05&lt;00:00,  8.70it/s]"
      }
     },
     "cddac84093db41e1ac87c112cbfefd0d": {
      "model_module": "@jupyter-widgets/controls",
      "model_module_version": "2.0.0",
      "model_name": "ProgressStyleModel",
      "state": {
       "description_width": ""
      }
     },
     "cfc714bdb64c48d69d2c4c9f241e5b82": {
      "model_module": "@jupyter-widgets/base",
      "model_module_version": "2.0.0",
      "model_name": "LayoutModel",
      "state": {}
     },
     "d06b0a326a344fac8ba694ea46fdf8b0": {
      "model_module": "@jupyter-widgets/base",
      "model_module_version": "2.0.0",
      "model_name": "LayoutModel",
      "state": {}
     },
     "d0a1c07154044fb095ccf1029e1a69a0": {
      "model_module": "@jupyter-widgets/controls",
      "model_module_version": "2.0.0",
      "model_name": "FloatProgressModel",
      "state": {
       "bar_style": "success",
       "layout": "IPY_MODEL_a1d5f817bef04fab9b81d5002b1d1a3d",
       "max": 50,
       "style": "IPY_MODEL_4972c7f382ea418b80417a79d1929dad",
       "value": 50
      }
     },
     "d136f9d173234e97a0d7a6a929e8412c": {
      "model_module": "@jupyter-widgets/base",
      "model_module_version": "2.0.0",
      "model_name": "LayoutModel",
      "state": {}
     },
     "d21271cf876b45839d32e2eff58c4c99": {
      "model_module": "@jupyter-widgets/controls",
      "model_module_version": "2.0.0",
      "model_name": "ProgressStyleModel",
      "state": {
       "description_width": ""
      }
     },
     "d2a885dacf474cb6a976dd2a4f557f92": {
      "model_module": "@jupyter-widgets/controls",
      "model_module_version": "2.0.0",
      "model_name": "HBoxModel",
      "state": {
       "children": [
        "IPY_MODEL_24edb1133715439f95e61681a242ffbf",
        "IPY_MODEL_37691769a6a344628fee30c50d327055",
        "IPY_MODEL_705e544c04264904abe461101df9d3eb"
       ],
       "layout": "IPY_MODEL_2cc13d0443284269ac52353474fbcfc2"
      }
     },
     "d310dc6d11ca45e8ac0ac96653736f2d": {
      "model_module": "@jupyter-widgets/controls",
      "model_module_version": "2.0.0",
      "model_name": "ProgressStyleModel",
      "state": {
       "description_width": ""
      }
     },
     "d47eac4b32b44d4c83dd56886667dca8": {
      "model_module": "@jupyter-widgets/base",
      "model_module_version": "2.0.0",
      "model_name": "LayoutModel",
      "state": {}
     },
     "d7a16642969a472d9ea29ada1343402a": {
      "model_module": "@jupyter-widgets/base",
      "model_module_version": "2.0.0",
      "model_name": "LayoutModel",
      "state": {}
     },
     "d7b51f6dbc934caa91307d859bffd2ad": {
      "model_module": "@jupyter-widgets/base",
      "model_module_version": "2.0.0",
      "model_name": "LayoutModel",
      "state": {}
     },
     "d83fd6ca71d04ce2a340515f428c3d8b": {
      "model_module": "@jupyter-widgets/base",
      "model_module_version": "2.0.0",
      "model_name": "LayoutModel",
      "state": {}
     },
     "d9237d16af8243cba55e285de675d4c2": {
      "model_module": "@jupyter-widgets/controls",
      "model_module_version": "2.0.0",
      "model_name": "HTMLStyleModel",
      "state": {
       "description_width": "",
       "font_size": null,
       "text_color": null
      }
     },
     "d9e35f36c22347e6a8a351be8136740c": {
      "model_module": "@jupyter-widgets/controls",
      "model_module_version": "2.0.0",
      "model_name": "HTMLModel",
      "state": {
       "layout": "IPY_MODEL_3db7ddc0aa194b4c9deece6bd356123c",
       "style": "IPY_MODEL_16787c30adba4011a18bffa3d10d22c2",
       "value": "tr-rmse:0.23,cont:0.57,pole:0.00,real:0.02|vl-rmse:0.22: 100%"
      }
     },
     "db1b50fb676641febb4a0664a8410236": {
      "model_module": "@jupyter-widgets/controls",
      "model_module_version": "2.0.0",
      "model_name": "HBoxModel",
      "state": {
       "children": [
        "IPY_MODEL_59d114ab9aa74f8badd767007577fc2c",
        "IPY_MODEL_14ef0c16cbb84f5080c9cd710dd4de54",
        "IPY_MODEL_94e567ed25cd45e79259d90c3a00ad8f"
       ],
       "layout": "IPY_MODEL_b85bd628ab4741baa044598abebcb81c"
      }
     },
     "db2078c12fad465da7598db7d4681ad5": {
      "model_module": "@jupyter-widgets/controls",
      "model_module_version": "2.0.0",
      "model_name": "FloatProgressModel",
      "state": {
       "bar_style": "success",
       "layout": "IPY_MODEL_8f18790d8c554c92aff1d2d1f42139be",
       "max": 50,
       "style": "IPY_MODEL_2b3e6d26cb3f463db4096e1c2c9627ff",
       "value": 50
      }
     },
     "defda968eec14ddc8bc33401a489caa6": {
      "model_module": "@jupyter-widgets/base",
      "model_module_version": "2.0.0",
      "model_name": "LayoutModel",
      "state": {}
     },
     "dfa0057a6d0c4863bbd9ed3aeddde232": {
      "model_module": "@jupyter-widgets/controls",
      "model_module_version": "2.0.0",
      "model_name": "HTMLModel",
      "state": {
       "layout": "IPY_MODEL_7675449858054612b51bcdeef8d06849",
       "style": "IPY_MODEL_576af4ef87a84cefb6d146408364ecd6",
       "value": "tr-rmse:0.04,cont:0.08,pole:0.00,real:0.00|vl-rmse:0.04: 100%"
      }
     },
     "e08c31bd1a184fb4b0e8f8479c11fa8c": {
      "model_module": "@jupyter-widgets/base",
      "model_module_version": "2.0.0",
      "model_name": "LayoutModel",
      "state": {}
     },
     "e0aba47d8c3e4edd9e55d0c52808ddc5": {
      "model_module": "@jupyter-widgets/controls",
      "model_module_version": "2.0.0",
      "model_name": "HTMLStyleModel",
      "state": {
       "description_width": "",
       "font_size": null,
       "text_color": null
      }
     },
     "e0b51b045af048608b958ad82afb170e": {
      "model_module": "@jupyter-widgets/controls",
      "model_module_version": "2.0.0",
      "model_name": "HTMLStyleModel",
      "state": {
       "description_width": "",
       "font_size": null,
       "text_color": null
      }
     },
     "e1038a75802a43d492b94acc49f33550": {
      "model_module": "@jupyter-widgets/base",
      "model_module_version": "2.0.0",
      "model_name": "LayoutModel",
      "state": {}
     },
     "e1178ec940fe412a861bc916b79a0fb0": {
      "model_module": "@jupyter-widgets/controls",
      "model_module_version": "2.0.0",
      "model_name": "FloatProgressModel",
      "state": {
       "bar_style": "success",
       "layout": "IPY_MODEL_e6904d1dac7f485282a47b3be7339eaf",
       "max": 50,
       "style": "IPY_MODEL_536bfd6e6b6048dfa25c024454283509",
       "value": 50
      }
     },
     "e1b7c7d550174ac59b179825da700b68": {
      "model_module": "@jupyter-widgets/controls",
      "model_module_version": "2.0.0",
      "model_name": "HTMLStyleModel",
      "state": {
       "description_width": "",
       "font_size": null,
       "text_color": null
      }
     },
     "e3da9aeaa07c47bba4d3062fd315e184": {
      "model_module": "@jupyter-widgets/base",
      "model_module_version": "2.0.0",
      "model_name": "LayoutModel",
      "state": {}
     },
     "e430cd66011b4af0a1495cf06cababd2": {
      "model_module": "@jupyter-widgets/controls",
      "model_module_version": "2.0.0",
      "model_name": "HTMLStyleModel",
      "state": {
       "description_width": "",
       "font_size": null,
       "text_color": null
      }
     },
     "e6904d1dac7f485282a47b3be7339eaf": {
      "model_module": "@jupyter-widgets/base",
      "model_module_version": "2.0.0",
      "model_name": "LayoutModel",
      "state": {}
     },
     "eb0caefb1f224ae8969c298b0695d80e": {
      "model_module": "@jupyter-widgets/base",
      "model_module_version": "2.0.0",
      "model_name": "LayoutModel",
      "state": {}
     },
     "eb8df58736e5468f907935146f93aeed": {
      "model_module": "@jupyter-widgets/controls",
      "model_module_version": "2.0.0",
      "model_name": "HTMLStyleModel",
      "state": {
       "description_width": "",
       "font_size": null,
       "text_color": null
      }
     },
     "edc78e52175c4ee8b3d7d3010ef0f256": {
      "model_module": "@jupyter-widgets/controls",
      "model_module_version": "2.0.0",
      "model_name": "HTMLStyleModel",
      "state": {
       "description_width": "",
       "font_size": null,
       "text_color": null
      }
     },
     "ee075881c7154ee5bd030f0f8cb8497d": {
      "model_module": "@jupyter-widgets/base",
      "model_module_version": "2.0.0",
      "model_name": "LayoutModel",
      "state": {}
     },
     "ee7711a43c7b44e5b2cbf791c30b8c98": {
      "model_module": "@jupyter-widgets/controls",
      "model_module_version": "2.0.0",
      "model_name": "ProgressStyleModel",
      "state": {
       "description_width": ""
      }
     },
     "efc22c4675f44d70a2553c38528b58b9": {
      "model_module": "@jupyter-widgets/controls",
      "model_module_version": "2.0.0",
      "model_name": "HBoxModel",
      "state": {
       "children": [
        "IPY_MODEL_302e9d78927f4175b9bdd0eac934ddd1",
        "IPY_MODEL_a4c0293addab4131954fbc7a13e87b08",
        "IPY_MODEL_cd07d29261c74c2a928bf9443edb0f86"
       ],
       "layout": "IPY_MODEL_d83fd6ca71d04ce2a340515f428c3d8b"
      }
     },
     "efd75120d42f4878a8a83f7624b6d550": {
      "model_module": "@jupyter-widgets/controls",
      "model_module_version": "2.0.0",
      "model_name": "FloatProgressModel",
      "state": {
       "bar_style": "success",
       "layout": "IPY_MODEL_8f2ae5ce9bfa449fb10d06c7e9c2802d",
       "max": 50,
       "style": "IPY_MODEL_1f8f1533615f442ab0ee3e18c570f08c",
       "value": 50
      }
     },
     "f125ae7209894d41ba66e2ad0dfe1f7f": {
      "model_module": "@jupyter-widgets/controls",
      "model_module_version": "2.0.0",
      "model_name": "FloatProgressModel",
      "state": {
       "bar_style": "success",
       "layout": "IPY_MODEL_02d189b64a524f60a96129fdc888ec0c",
       "max": 50,
       "style": "IPY_MODEL_350544dee3794c129494906824d65fe1",
       "value": 50
      }
     },
     "f2d72c89dafb443a89b3025e34387fc7": {
      "model_module": "@jupyter-widgets/controls",
      "model_module_version": "2.0.0",
      "model_name": "HTMLStyleModel",
      "state": {
       "description_width": "",
       "font_size": null,
       "text_color": null
      }
     },
     "f42cc37902204dd6abfff55843538f99": {
      "model_module": "@jupyter-widgets/controls",
      "model_module_version": "2.0.0",
      "model_name": "HTMLStyleModel",
      "state": {
       "description_width": "",
       "font_size": null,
       "text_color": null
      }
     },
     "f43861b658204c079c81dbf9c6c165a5": {
      "model_module": "@jupyter-widgets/base",
      "model_module_version": "2.0.0",
      "model_name": "LayoutModel",
      "state": {}
     },
     "f46249c05b864f66beb4df1f44579b66": {
      "model_module": "@jupyter-widgets/controls",
      "model_module_version": "2.0.0",
      "model_name": "HTMLModel",
      "state": {
       "layout": "IPY_MODEL_33b9a23db67f44c7a1ce047505ebe13b",
       "style": "IPY_MODEL_45a5a671c83841b5b86307394e2717e9",
       "value": "tr-rmse:0.02,cont:0.04,pole:0.00,real:0.00|vl-rmse:0.02: 100%"
      }
     },
     "f5dde14bd206443cb4e84d8fdb54729f": {
      "model_module": "@jupyter-widgets/base",
      "model_module_version": "2.0.0",
      "model_name": "LayoutModel",
      "state": {}
     },
     "f849f562d2d9446987ee449a74bbdbe0": {
      "model_module": "@jupyter-widgets/base",
      "model_module_version": "2.0.0",
      "model_name": "LayoutModel",
      "state": {}
     },
     "fc610ddaab53414d85863e0310f9812f": {
      "model_module": "@jupyter-widgets/controls",
      "model_module_version": "2.0.0",
      "model_name": "HTMLStyleModel",
      "state": {
       "description_width": "",
       "font_size": null,
       "text_color": null
      }
     },
     "fd1061bcaf524eaca4f5ed463cfe7863": {
      "model_module": "@jupyter-widgets/controls",
      "model_module_version": "2.0.0",
      "model_name": "HBoxModel",
      "state": {
       "children": [
        "IPY_MODEL_d9e35f36c22347e6a8a351be8136740c",
        "IPY_MODEL_235c7437b5ff445ca6d23a007c2f8100",
        "IPY_MODEL_1ad8c7f10ff646c3b7ccea5fccc1f421"
       ],
       "layout": "IPY_MODEL_a5a6a277467346a6813855ca7ed75c26"
      }
     }
    },
    "version_major": 2,
    "version_minor": 0
   }
  }
 },
 "nbformat": 4,
 "nbformat_minor": 5
}
