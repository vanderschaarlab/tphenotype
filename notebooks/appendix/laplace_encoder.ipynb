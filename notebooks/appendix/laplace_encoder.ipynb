{
 "cells": [
  {
   "cell_type": "code",
   "execution_count": 1,
   "id": "686bdadb-7908-4675-a85c-fc956f5aa20d",
   "metadata": {},
   "outputs": [],
   "source": [
    "import torch\n",
    "import numpy as np\n",
    "import matplotlib.pyplot as plt\n",
    "import os\n",
    "from IPython.display import display\n",
    "import pandas as pd\n",
    "from tqdm import auto\n",
    "from visualization import pole_visualization, coeff_visualization, fn_visualization"
   ]
  },
  {
   "cell_type": "code",
   "execution_count": 2,
   "id": "2ee75261-424f-4a09-b9cf-8f41179671bc",
   "metadata": {},
   "outputs": [],
   "source": [
    "from tphenotype import LaplaceEncoder\n",
    "from tphenotype.utils import data_split\n",
    "from tphenotype.baselines.s2s import S2S"
   ]
  },
  {
   "cell_type": "code",
   "execution_count": 3,
   "id": "5064f3fd-3488-4d84-bd68-70d6bd824613",
   "metadata": {},
   "outputs": [],
   "source": [
    "os.makedirs(\"figures\", exist_ok=True)"
   ]
  },
  {
   "cell_type": "code",
   "execution_count": 4,
   "id": "1871ca89-d775-4a7a-98c2-3360111cabbf",
   "metadata": {},
   "outputs": [],
   "source": [
    "# Four types of curves\n",
    "\n",
    "\n",
    "def func1(t):\n",
    "    v = np.cos(2 * np.pi * t)\n",
    "    return v\n",
    "\n",
    "\n",
    "def func2(t):\n",
    "    v = np.cos(np.pi * t)\n",
    "    return v\n",
    "\n",
    "\n",
    "def func3(t):\n",
    "    v = np.sin(np.pi * t)\n",
    "    return v\n",
    "\n",
    "\n",
    "def func4(t):\n",
    "    v = np.sin(2 * np.pi * t)\n",
    "    return v"
   ]
  },
  {
   "cell_type": "code",
   "execution_count": 5,
   "id": "f636196a-aefa-41f2-b98e-d5af05842071",
   "metadata": {},
   "outputs": [],
   "source": [
    "def gen_data(seed=0):\n",
    "    # generate samples with noises\n",
    "    T = 15\n",
    "    n = 1000\n",
    "    rng = np.random.default_rng(seed=seed)\n",
    "\n",
    "    # irregular sampling interval\n",
    "    alpha = 3 * np.ones(T)\n",
    "    dt = rng.dirichlet(alpha, size=(n,))\n",
    "    t = np.cumsum(dt, axis=1)\n",
    "\n",
    "    phases = rng.exponential(scale=0.5, size=(n, 1))\n",
    "\n",
    "    # generate curves with labels\n",
    "    fn_type = np.zeros((n,))\n",
    "    n1 = int(0.25 * n)\n",
    "    n2 = n1 + int(0.25 * n)\n",
    "    n3 = n2 + int(0.25 * n)\n",
    "    n4 = n - n3\n",
    "\n",
    "    t_d = t - phases\n",
    "    f1 = func1(t_d[:n1])\n",
    "    f2 = func2(t_d[n1:n2])\n",
    "    f3 = func3(t_d[n2:n3])\n",
    "    f4 = func4(t_d[n3:])\n",
    "    fn_type[:n1] = 1\n",
    "    fn_type[n1:n2] = 2\n",
    "    fn_type[n2:n3] = 3\n",
    "    fn_type[n3:] = 4\n",
    "\n",
    "    # add noises\n",
    "    f = np.concatenate([f1, f2, f3, f4], axis=0) + rng.normal(size=(n, T)) * 0.03\n",
    "\n",
    "    # shuffle samples\n",
    "    idx = np.arange(len(f))\n",
    "    rng.shuffle(idx)\n",
    "    f = f[idx]\n",
    "    fn_type = fn_type[idx]\n",
    "    t = t[idx]\n",
    "\n",
    "    # generate masks for valid observations\n",
    "    length = rng.integers(low=int(3 * T / 4), high=T, size=n)\n",
    "    # only first l samples are valid\n",
    "    mask = np.zeros_like(t, dtype=bool)\n",
    "    # all samples are valid\n",
    "    mask = np.ones_like(t, dtype=bool)\n",
    "    for i in range(n):\n",
    "        mask[i, : length[i]] = 1\n",
    "    dataset = {\n",
    "        \"t\": t,\n",
    "        \"f\": f,\n",
    "        \"mask\": mask,\n",
    "        \"fn_type\": fn_type,\n",
    "    }\n",
    "    return dataset"
   ]
  },
  {
   "cell_type": "markdown",
   "id": "3bc92df1-71dd-40f0-b7b3-9708b37a02d7",
   "metadata": {},
   "source": [
    "### Comparison with Seq2Seq encoder"
   ]
  },
  {
   "cell_type": "code",
   "execution_count": 6,
   "id": "03b071dc-8392-4f70-916e-817f34b447ad",
   "metadata": {},
   "outputs": [],
   "source": [
    "# model configuration\n",
    "net_config = {\n",
    "    \"num_poles\": 4,  # number of poles\n",
    "    \"max_degree\": 1,  # maximum degree of poles\n",
    "    \"hidden_size\": 10,  # number of hidden units in neural networks\n",
    "    \"num_layers\": 1,  # number of layers in MLP of the encoder (1 layer RNN + n layer MLP)\n",
    "    \"pole_separation\": 1.0,  # minimum distance between distinct poles\n",
    "    \"freq_scaler\": 20,  # scale up the imaginary part to help learning\n",
    "    \"window_size\": None,  # whether or not to include time delay terms\n",
    "    \"equivariant_embed\": True,  # whether or not to sort the poles (useless during training)\n",
    "    \"device\": \"cpu\",\n",
    "}\n",
    "\n",
    "loss_weights = {\n",
    "    \"rmse\": 1.0,  # regression loss\n",
    "    \"mse\": 1.0,\n",
    "    \"cont\": 0.01,  # minimize used components\n",
    "    \"pole\": 1.0,  # separation of poles\n",
    "    \"real\": 0.1,  # only generate real function (penalty for imaginary part)\n",
    "}"
   ]
  },
  {
   "cell_type": "code",
   "execution_count": 7,
   "id": "bf187f2c-0536-462a-b225-93414b638c74",
   "metadata": {},
   "outputs": [],
   "source": [
    "def benchmark_Laplace(net_config, loss_weights, n_trial=5, seed=0, epochs=50):\n",
    "    mses = []\n",
    "    for i in range(n_trial):\n",
    "        # prepare training and validation sets\n",
    "        dtype = \"float32\"\n",
    "        dataset = gen_data(seed + i)\n",
    "\n",
    "        train_set, test_set = data_split(dataset, test_size=0.2, random_state=seed, dtype=dtype)\n",
    "        train_set, valid_set = data_split(train_set, test_size=0.2, random_state=seed, dtype=dtype)\n",
    "        torch.manual_seed(seed + i)\n",
    "        encoder = LaplaceEncoder(**net_config)\n",
    "        encoder = encoder.fit(train_set, loss_weights, valid_set=valid_set, epochs=epochs)\n",
    "\n",
    "        f = test_set[\"f\"]\n",
    "        t = test_set[\"t\"]\n",
    "        mask = test_set[\"mask\"]\n",
    "        poles, coeffs = encoder.encode(f, t)\n",
    "        f_rec_r, f_rec_i = encoder.decode(poles, coeffs, t)  # (re, im)\n",
    "        f_rec = f_rec_r + 1j * f_rec_i\n",
    "        diff = np.square(np.abs(f - f_rec[:, -1]))\n",
    "        mse = np.sum(diff * mask, axis=-1) / np.sum(mask, axis=-1)\n",
    "        mse = np.mean(mse)\n",
    "        mses.append(mse)\n",
    "    return mses"
   ]
  },
  {
   "cell_type": "code",
   "execution_count": null,
   "id": "1807f04a-9efc-4931-82b7-1ee844ff0e78",
   "metadata": {},
   "outputs": [],
   "source": [
    "mses = benchmark_Laplace(net_config, loss_weights, n_trial=5)"
   ]
  },
  {
   "cell_type": "code",
   "execution_count": 9,
   "id": "5ee87469-1515-4281-9125-8e6b69c6d809",
   "metadata": {},
   "outputs": [
    {
     "data": {
      "text/plain": [
       "[0.039721943, 0.04589908, 0.041122235, 0.035403565, 0.033764865]"
      ]
     },
     "execution_count": 9,
     "metadata": {},
     "output_type": "execute_result"
    }
   ],
   "source": [
    "mses"
   ]
  },
  {
   "cell_type": "code",
   "execution_count": 10,
   "id": "76ec415b-7b1e-4431-83aa-703cc2fe7743",
   "metadata": {},
   "outputs": [
    {
     "name": "stdout",
     "output_type": "stream",
     "text": [
      "Laplace Encoder MSE: 0.0392+-0.0084\n"
     ]
    }
   ],
   "source": [
    "mean, std, ci = np.mean(mses), np.std(mses), np.std(mses) * 1.96\n",
    "print(f\"Laplace Encoder MSE: {mean:.4f}+-{ci:.4f}\")"
   ]
  },
  {
   "cell_type": "code",
   "execution_count": 13,
   "id": "c3bc7d85-b9c7-4c3e-b944-297661d3daa8",
   "metadata": {},
   "outputs": [],
   "source": [
    "s2s_config = {\"latent_size\": 10, \"hidden_size\": 10, \"num_layers\": 1, \"device\": \"cpu\"}\n",
    "\n",
    "\n",
    "def benchmark_S2S(s2s_config, n_trial=5, seed=0, epochs=50):\n",
    "    mses = []\n",
    "    for i in range(n_trial):\n",
    "        # prepare training and validation sets\n",
    "        dtype = \"float32\"\n",
    "        dataset = gen_data(seed + i)\n",
    "\n",
    "        train_set, test_set = data_split(dataset, test_size=0.2, random_state=seed, dtype=dtype)\n",
    "        train_set, valid_set = data_split(train_set, test_size=0.2, random_state=seed, dtype=dtype)\n",
    "        torch.manual_seed(seed + i)\n",
    "        s2s = S2S(**s2s_config)\n",
    "        s2s = s2s.fit(train_set, loss_weights, valid_set=valid_set, epochs=epochs)\n",
    "\n",
    "        f = test_set[\"f\"]\n",
    "        t = test_set[\"t\"]\n",
    "        mask = test_set[\"mask\"]\n",
    "        z = s2s.encode(f, t)\n",
    "        f_rec = s2s.decode(z, t)  # (re, im)\n",
    "        diff = np.square(np.abs(f - f_rec))\n",
    "        mse = np.sum(diff * mask, axis=-1) / np.sum(mask, axis=-1)\n",
    "        mse = np.mean(mse)\n",
    "        mses.append(mse)\n",
    "    return mses"
   ]
  },
  {
   "cell_type": "code",
   "execution_count": null,
   "id": "bb9a3c60-f23d-4df8-b6cb-1354b709ccc3",
   "metadata": {},
   "outputs": [],
   "source": [
    "mses = benchmark_S2S(s2s_config, n_trial=5)"
   ]
  },
  {
   "cell_type": "code",
   "execution_count": 15,
   "id": "c27bb234-ce5d-4c9f-841a-b1de58e1f984",
   "metadata": {},
   "outputs": [
    {
     "data": {
      "text/plain": [
       "[0.098402284, 0.11342397, 0.11567722, 0.11828035, 0.09529116]"
      ]
     },
     "execution_count": 15,
     "metadata": {},
     "output_type": "execute_result"
    }
   ],
   "source": [
    "mses"
   ]
  },
  {
   "cell_type": "code",
   "execution_count": 16,
   "id": "60337254-3db6-4b7b-bb0e-8384dac098b1",
   "metadata": {},
   "outputs": [
    {
     "name": "stdout",
     "output_type": "stream",
     "text": [
      "S2S MSE: 0.1082+-0.0185\n"
     ]
    }
   ],
   "source": [
    "mean, std, ci = np.mean(mses), np.std(mses), np.std(mses) * 1.96\n",
    "print(f\"S2S MSE: {mean:.4f}+-{ci:.4f}\")"
   ]
  },
  {
   "cell_type": "markdown",
   "id": "55e6d969-1c80-4283-8f58-e6e2cdf87bfa",
   "metadata": {},
   "source": [
    "#### Example"
   ]
  },
  {
   "cell_type": "code",
   "execution_count": 17,
   "id": "b1d5d37f-85b8-40ce-900b-deeaa679c231",
   "metadata": {},
   "outputs": [],
   "source": [
    "# prepare training and validation sets\n",
    "seed = 0\n",
    "dtype = \"float32\"\n",
    "dataset = gen_data(seed)\n",
    "\n",
    "train_set, test_set = data_split(dataset, test_size=0.2, random_state=seed, dtype=dtype)\n",
    "train_set, valid_set = data_split(train_set, test_size=0.2, random_state=seed, dtype=dtype)"
   ]
  },
  {
   "cell_type": "code",
   "execution_count": null,
   "id": "521c1cf6-5e72-4527-b9a4-e8025de23e31",
   "metadata": {},
   "outputs": [],
   "source": [
    "torch.manual_seed(seed)\n",
    "s2s = S2S(**s2s_config)\n",
    "s2s = s2s.fit(train_set, loss_weights, valid_set=valid_set, epochs=50)"
   ]
  },
  {
   "cell_type": "code",
   "execution_count": null,
   "id": "1ba1e4e1-955c-4677-b764-1f1331fa2fa6",
   "metadata": {},
   "outputs": [],
   "source": [
    "torch.manual_seed(seed)\n",
    "encoder = LaplaceEncoder(**net_config)\n",
    "encoder = encoder.fit(train_set, loss_weights, valid_set=valid_set, epochs=50)"
   ]
  },
  {
   "cell_type": "code",
   "execution_count": 20,
   "id": "4706c22a-6e21-4dfb-b2de-6291ab8c6c37",
   "metadata": {},
   "outputs": [],
   "source": [
    "f = test_set[\"f\"]\n",
    "t = test_set[\"t\"]\n",
    "mask = test_set[\"mask\"]\n",
    "fn_type = test_set[\"fn_type\"]\n",
    "poles, coeffs = encoder.encode(f, t)\n",
    "f_rec = encoder.decode(poles, coeffs, t)  # (re, im)"
   ]
  },
  {
   "cell_type": "code",
   "execution_count": 27,
   "id": "56d2996e-65ed-4f1a-a1d6-35ef10f5e438",
   "metadata": {},
   "outputs": [
    {
     "data": {
      "image/png": "[encoded data removed]",
      "text/plain": [
       "<Figure size 432x288 with 1 Axes>"
      ]
     },
     "metadata": {
      "needs_background": "light"
     },
     "output_type": "display_data"
    }
   ],
   "source": [
    "(idx,) = np.where(fn_type == 3)\n",
    "fig = fn_visualization(t, f, f_rec, mask, idx[-1], window=30)\n",
    "fig.savefig(\"figures/LaplaceEncoder.pdf\")"
   ]
  },
  {
   "cell_type": "code",
   "execution_count": 28,
   "id": "3bc2b5dc-c884-404e-9b4e-1ac851ef8538",
   "metadata": {},
   "outputs": [],
   "source": [
    "z = s2s.encode(f, t)\n",
    "f_rec1 = s2s.decode(z, t)"
   ]
  },
  {
   "cell_type": "code",
   "execution_count": 29,
   "id": "2a3fff86-b416-4028-860d-c7266bac78e0",
   "metadata": {},
   "outputs": [
    {
     "data": {
      "image/png": "[encoded data removed]",
      "text/plain": [
       "<Figure size 432x288 with 1 Axes>"
      ]
     },
     "metadata": {
      "needs_background": "light"
     },
     "output_type": "display_data"
    }
   ],
   "source": [
    "fig, ax = plt.subplots(figsize=(6, 4))\n",
    "sel = idx[-1]\n",
    "step = int(np.sum(mask[sel]) - 1)\n",
    "ax.plot(t[sel, : step + 1], f[sel, : step + 1], label=\"$x(\\mathbf{t})$\", marker=\"o\")\n",
    "ax.plot(t[sel], f_rec1[sel, : step + 1], label=\"$\\hat{x}(\\mathbf{t})$\", marker=\"x\")\n",
    "ymin, ymax = plt.ylim()\n",
    "# ax.vlines(t[sel,step],ymin,ymax,color='red', linestyles='dashed')\n",
    "ax.set_xlabel(\"$t$\")\n",
    "\n",
    "ax.legend()\n",
    "fig.tight_layout()\n",
    "fig.savefig(\"figures/AutoEncoder.pdf\")"
   ]
  },
  {
   "cell_type": "markdown",
   "id": "e653fbcc-9c85-49fb-bf90-100ce9fe8798",
   "metadata": {},
   "source": [
    "### Impact of pole_separation threshold $\\delta$"
   ]
  },
  {
   "cell_type": "code",
   "execution_count": null,
   "id": "f97d9681-1f9b-41ea-89eb-dc75f99daed2",
   "metadata": {},
   "outputs": [],
   "source": [
    "torch.manual_seed(seed)\n",
    "net_config[\"pole_separation\"] = 0.0\n",
    "encoder = LaplaceEncoder(**net_config)\n",
    "encoder = encoder.fit(train_set, loss_weights, valid_set=valid_set, epochs=50)"
   ]
  },
  {
   "cell_type": "code",
   "execution_count": 31,
   "id": "1ef3a963-a501-44de-af15-12fe30e96342",
   "metadata": {},
   "outputs": [
    {
     "data": {
      "image/png": "[encoded data removed]",
      "text/plain": [
       "<Figure size 576x288 with 2 Axes>"
      ]
     },
     "metadata": {
      "needs_background": "light"
     },
     "output_type": "display_data"
    }
   ],
   "source": [
    "f = test_set[\"f\"]\n",
    "t = test_set[\"t\"]\n",
    "mask = test_set[\"mask\"]\n",
    "fn_type = test_set[\"fn_type\"]\n",
    "poles, coeffs = encoder.encode(f, t)\n",
    "f_rec = encoder.decode(poles, coeffs, t)  # (re, im)\n",
    "fn = 1\n",
    "step = -1\n",
    "fig, (ax1, ax2) = plt.subplots(ncols=2, figsize=(4 * 2, 4))\n",
    "fig = pole_visualization(poles[fn_type == fn], step=step, ax=ax1)\n",
    "fig = coeff_visualization(coeffs[fn_type == fn], degree=1, step=step, ax=ax2)\n",
    "fig.savefig(\"figures/d_pole=0.0.pdf\")"
   ]
  },
  {
   "cell_type": "code",
   "execution_count": null,
   "id": "d150d4e5-081a-481e-9b82-76c9f118fff6",
   "metadata": {},
   "outputs": [],
   "source": [
    "torch.manual_seed(seed)\n",
    "net_config[\"pole_separation\"] = 1.0\n",
    "encoder = LaplaceEncoder(**net_config)\n",
    "encoder = encoder.fit(train_set, loss_weights, valid_set=valid_set, epochs=50)"
   ]
  },
  {
   "cell_type": "code",
   "execution_count": 33,
   "id": "a9d7c833-01bf-4037-a4f1-29df47f9ae10",
   "metadata": {},
   "outputs": [
    {
     "data": {
      "image/png": "[encoded data removed]",
      "text/plain": [
       "<Figure size 576x288 with 2 Axes>"
      ]
     },
     "metadata": {
      "needs_background": "light"
     },
     "output_type": "display_data"
    }
   ],
   "source": [
    "f = test_set[\"f\"]\n",
    "t = test_set[\"t\"]\n",
    "mask = test_set[\"mask\"]\n",
    "fn_type = test_set[\"fn_type\"]\n",
    "poles, coeffs = encoder.encode(f, t)\n",
    "f_rec = encoder.decode(poles, coeffs, t)  # (re, im)\n",
    "fn = 1\n",
    "step = -1\n",
    "fig, (ax1, ax2) = plt.subplots(ncols=2, figsize=(4 * 2, 4))\n",
    "fig = pole_visualization(poles[fn_type == fn], step=step, ax=ax1)\n",
    "fig = coeff_visualization(coeffs[fn_type == fn], degree=1, step=step, ax=ax2)\n",
    "fig.savefig(\"figures/d_pole=1.0.pdf\")"
   ]
  },
  {
   "cell_type": "markdown",
   "id": "ca10c456-aa3d-4800-b58e-5e2986fa9512",
   "metadata": {},
   "source": [
    "### Sensitivity Analysis"
   ]
  },
  {
   "cell_type": "code",
   "execution_count": 34,
   "id": "4c5a482a-d4dc-43cd-830a-542fcabff76d",
   "metadata": {},
   "outputs": [],
   "source": [
    "# model configuration\n",
    "net_config = {\n",
    "    \"num_poles\": 4,  # number of poles\n",
    "    \"max_degree\": 1,  # maximum degree of poles\n",
    "    \"hidden_size\": 10,  # number of hidden units in neural networks\n",
    "    \"num_layers\": 1,  # number of layers in MLP of the encoder (1 layer RNN + n layer MLP)\n",
    "    \"pole_separation\": 1.0,  # minimum distance between distinct poles\n",
    "    \"freq_scaler\": 20,  # scale up the imaginary part to help learning\n",
    "    \"window_size\": None,  # whether or not to include time delay terms\n",
    "    \"equivariant_embed\": True,  # whether or not to sort the poles (useless during training)\n",
    "    \"device\": \"cpu\",\n",
    "}\n",
    "\n",
    "loss_weights = {\n",
    "    \"rmse\": 1.0,  # regression loss\n",
    "    \"mse\": 1.0,\n",
    "    \"cont\": 0.01,  #\n",
    "    \"pole\": 1.0,  # separation of poles\n",
    "    \"real\": 0.1,  # only generate real function (penalty for imaginary part)\n",
    "}"
   ]
  },
  {
   "cell_type": "code",
   "execution_count": 35,
   "id": "fb6b01c7-4609-40ee-b012-daf4054a3cfb",
   "metadata": {},
   "outputs": [],
   "source": [
    "def check_parameter_impact(net_config, loss_weights, param, values, n_trial=5, seed=0, epochs=50):\n",
    "    net_config = net_config.copy()\n",
    "    loss_weights = loss_weights.copy()\n",
    "    df = pd.DataFrame()\n",
    "    for val in auto.tqdm(values):\n",
    "        if param in loss_weights:\n",
    "            loss_weights[param] = val\n",
    "        elif param in net_config:\n",
    "            net_config[param] = val\n",
    "        else:\n",
    "            pass\n",
    "\n",
    "        mses = []\n",
    "        for i in range(n_trial):\n",
    "            # prepare training and validation sets\n",
    "            dtype = \"float32\"\n",
    "            dataset = gen_data(seed + i)\n",
    "\n",
    "            train_set, test_set = data_split(dataset, test_size=0.2, random_state=seed, dtype=dtype)\n",
    "            train_set, valid_set = data_split(train_set, test_size=0.2, random_state=seed, dtype=dtype)\n",
    "            torch.manual_seed(seed + i)\n",
    "            encoder = LaplaceEncoder(**net_config)\n",
    "            encoder = encoder.fit(\n",
    "                train_set,\n",
    "                loss_weights,\n",
    "                valid_set=valid_set,\n",
    "                epochs=epochs,\n",
    "                verbose=False,\n",
    "            )\n",
    "\n",
    "            f = test_set[\"f\"]\n",
    "            t = test_set[\"t\"]\n",
    "            mask = test_set[\"mask\"]\n",
    "            poles, coeffs = encoder.encode(f, t)\n",
    "            f_rec_r, f_rec_i = encoder.decode(poles, coeffs, t)  # (re, im)\n",
    "            f_rec = f_rec_r + 1j * f_rec_i\n",
    "            diff = np.square(np.abs(f - f_rec[:, -1]))\n",
    "            mse = np.sum(diff * mask, axis=-1) / np.sum(mask, axis=-1)\n",
    "            mse = np.mean(mse)\n",
    "            mses.append(mse)\n",
    "        mean, ci = np.mean(mses), np.std(mses) * 1.96\n",
    "        df.loc[val, [\"mean\", \"ci\"]] = mean, ci\n",
    "    return df"
   ]
  },
  {
   "cell_type": "code",
   "execution_count": null,
   "id": "0acd7830-c74d-4801-aa7d-b47b176c6811",
   "metadata": {},
   "outputs": [],
   "source": [
    "param = \"pole\"\n",
    "values = [0, 0.5, 1.0, 2.0, 10.0]\n",
    "df_pole = check_parameter_impact(net_config, loss_weights, param, values, n_trial=3)"
   ]
  },
  {
   "cell_type": "code",
   "execution_count": 37,
   "id": "b6f4804d-7db2-4426-bcd7-d883a43cc82f",
   "metadata": {},
   "outputs": [
    {
     "data": {
      "image/png": "[encoded data removed]",
      "text/plain": [
       "<Figure size 432x288 with 1 Axes>"
      ]
     },
     "metadata": {
      "needs_background": "light"
     },
     "output_type": "display_data"
    }
   ],
   "source": [
    "fig, ax = plt.subplots(figsize=(6, 4))\n",
    "df_pole.plot(y=\"mean\", yerr=\"ci\", label=\"Mean\", ax=ax, ecolor=\"gray\", lw=2, capsize=5, capthick=2)\n",
    "ax.set_xlabel(r\"$\\alpha$\")\n",
    "ax.set_ylabel(\"MSE\")\n",
    "ax.set_ylim([-0.2, 1.0])\n",
    "fig.savefig(\"figures/alpha_impact.pdf\")"
   ]
  },
  {
   "cell_type": "code",
   "execution_count": null,
   "id": "e030700e-a3f3-4515-9e9a-43a58e447197",
   "metadata": {},
   "outputs": [],
   "source": [
    "param = \"real\"\n",
    "values = [\n",
    "    0,\n",
    "    0.1,\n",
    "    0.5,\n",
    "    1.0,\n",
    "]\n",
    "df_real = check_parameter_impact(net_config, loss_weights, param, values, n_trial=3)"
   ]
  },
  {
   "cell_type": "code",
   "execution_count": 39,
   "id": "7c045e65-7098-4c9f-ab08-953ef19f5f2c",
   "metadata": {},
   "outputs": [
    {
     "data": {
      "image/png": "[encoded data removed]",
      "text/plain": [
       "<Figure size 432x288 with 1 Axes>"
      ]
     },
     "metadata": {
      "needs_background": "light"
     },
     "output_type": "display_data"
    }
   ],
   "source": [
    "fig, ax = plt.subplots(figsize=(6, 4))\n",
    "df_real.plot(y=\"mean\", yerr=\"ci\", label=\"Mean\", ax=ax, ecolor=\"gray\", lw=2, capsize=5, capthick=2)\n",
    "ax.set_xlabel(r\"$\\alpha_1$\")\n",
    "ax.set_ylabel(\"MSE\")\n",
    "ax.set_ylim([-0.2, 1.0])\n",
    "fig.savefig(\"figures/alpha_1_impact.pdf\")"
   ]
  },
  {
   "cell_type": "code",
   "execution_count": null,
   "id": "76a06fdc-018d-48ba-8fab-10eb654c06f8",
   "metadata": {},
   "outputs": [],
   "source": [
    "param = \"cont\"\n",
    "values = [0.01, 0.1, 1.0]\n",
    "df_alpha_2 = check_parameter_impact(net_config, loss_weights, param, values, n_trial=3)"
   ]
  },
  {
   "cell_type": "code",
   "execution_count": 41,
   "id": "853788d9-be41-419a-b3a9-3294acd1537b",
   "metadata": {},
   "outputs": [
    {
     "data": {
      "image/png": "[encoded data removed]",
      "text/plain": [
       "<Figure size 432x288 with 1 Axes>"
      ]
     },
     "metadata": {
      "needs_background": "light"
     },
     "output_type": "display_data"
    }
   ],
   "source": [
    "fig, ax = plt.subplots(figsize=(6, 4))\n",
    "df_alpha_2.plot(y=\"mean\", yerr=\"ci\", label=\"Mean\", ax=ax, ecolor=\"gray\", lw=2, capsize=5, capthick=2)\n",
    "ax.set_xlabel(r\"$\\alpha_2$\")\n",
    "ax.set_ylabel(\"MSE\")\n",
    "ax.set_ylim([-0.2, 1.0])\n",
    "fig.savefig(\"figures/alpha_2_impact.pdf\")"
   ]
  },
  {
   "cell_type": "code",
   "execution_count": null,
   "id": "72120c05-81a7-45b5-82f7-48373d97bd00",
   "metadata": {},
   "outputs": [],
   "source": [
    "param = \"pole_separation\"\n",
    "values = [0.0, 1.0, 2.0, 10.0]\n",
    "df_sep = check_parameter_impact(net_config, loss_weights, param, values, n_trial=3)"
   ]
  },
  {
   "cell_type": "code",
   "execution_count": 43,
   "id": "cfa0cec3-6a3a-4f39-8495-18d855dc419f",
   "metadata": {},
   "outputs": [
    {
     "data": {
      "image/png": "[encoded data removed]",
      "text/plain": [
       "<Figure size 432x288 with 1 Axes>"
      ]
     },
     "metadata": {
      "needs_background": "light"
     },
     "output_type": "display_data"
    }
   ],
   "source": [
    "fig, ax = plt.subplots(figsize=(6, 4))\n",
    "df_sep.plot(y=\"mean\", yerr=\"ci\", label=\"Mean\", ax=ax, ecolor=\"gray\", lw=2, capsize=5, capthick=2)\n",
    "ax.set_xlabel(r\"$\\delta_{pole}$\")\n",
    "ax.set_ylabel(\"MSE\")\n",
    "ax.set_ylim([-0.2, 1.0])\n",
    "fig.savefig(\"figures/delta_pole_impact.pdf\")"
   ]
  },
  {
   "cell_type": "code",
   "execution_count": null,
   "id": "f6e843c6-dae9-4ed2-a37e-af50ddafee8f",
   "metadata": {},
   "outputs": [],
   "source": [
    "param = \"num_poles\"\n",
    "values = [2, 4, 8]\n",
    "df_n = check_parameter_impact(net_config, loss_weights, param, values, n_trial=3)"
   ]
  },
  {
   "cell_type": "code",
   "execution_count": 45,
   "id": "b87f2171-df9f-4c5e-b2bd-16813992b93c",
   "metadata": {},
   "outputs": [
    {
     "data": {
      "image/png": "[encoded data removed]",
      "text/plain": [
       "<Figure size 432x288 with 1 Axes>"
      ]
     },
     "metadata": {
      "needs_background": "light"
     },
     "output_type": "display_data"
    }
   ],
   "source": [
    "fig, ax = plt.subplots(figsize=(6, 4))\n",
    "df_n.plot(y=\"mean\", yerr=\"ci\", label=\"Mean\", ax=ax, ecolor=\"gray\", lw=2, capsize=5, capthick=2)\n",
    "ax.set_xlabel(r\"$n$\")\n",
    "ax.set_ylabel(\"MSE\")\n",
    "ax.set_ylim([-0.2, 1.0])\n",
    "fig.savefig(\"figures/n_impact.pdf\")"
   ]
  },
  {
   "cell_type": "code",
   "execution_count": null,
   "id": "89e71930-d7c9-4d52-a247-a2d6a1da69ee",
   "metadata": {},
   "outputs": [],
   "source": [
    "param = \"max_degree\"\n",
    "values = [1, 2, 3]\n",
    "df_d = check_parameter_impact(net_config, loss_weights, param, values, n_trial=3)"
   ]
  },
  {
   "cell_type": "code",
   "execution_count": 47,
   "id": "20175dba-6a93-4509-8a49-3d814ed65630",
   "metadata": {},
   "outputs": [
    {
     "data": {
      "image/png": "[encoded data removed]",
      "text/plain": [
       "<Figure size 432x288 with 1 Axes>"
      ]
     },
     "metadata": {
      "needs_background": "light"
     },
     "output_type": "display_data"
    }
   ],
   "source": [
    "fig, ax = plt.subplots(figsize=(6, 4))\n",
    "df_d.plot(y=\"mean\", yerr=\"ci\", label=\"Mean\", ax=ax, ecolor=\"gray\", lw=2, capsize=5, capthick=2)\n",
    "ax.set_xlabel(r\"$d$\")\n",
    "ax.set_ylabel(\"MSE\")\n",
    "ax.set_ylim([-0.2, 1.0])\n",
    "fig.savefig(\"figures/d_impact.pdf\")"
   ]
  }
 ],
 "metadata": {
  "kernelspec": {
   "display_name": "tphenotype",
   "language": "python",
   "name": "tphenotype"
  },
  "language_info": {
   "codemirror_mode": {
    "name": "ipython",
    "version": 3
   },
   "file_extension": ".py",
   "mimetype": "text/x-python",
   "name": "python",
   "nbconvert_exporter": "python",
   "pygments_lexer": "ipython3",
   "version": "3.9.7"
  },
  "widgets": {
   "application/vnd.jupyter.widget-state+json": {
    "state": {
     "010561a871c94f349bfc10b538c20768": {
      "model_module": "@jupyter-widgets/base",
      "model_module_version": "2.0.0",
      "model_name": "LayoutModel",
      "state": {}
     },
     "01061d7cb2024064979d3c70546828b5": {
      "model_module": "@jupyter-widgets/base",
      "model_module_version": "2.0.0",
      "model_name": "LayoutModel",
      "state": {}
     },
     "01d74f8e00f5436ebcb647cd59784224": {
      "model_module": "@jupyter-widgets/base",
      "model_module_version": "2.0.0",
      "model_name": "LayoutModel",
      "state": {}
     },
     "0209687021d64e879df8a15dbfd93f37": {
      "model_module": "@jupyter-widgets/controls",
      "model_module_version": "2.0.0",
      "model_name": "HTMLStyleModel",
      "state": {
       "description_width": "",
       "font_size": null,
       "text_color": null
      }
     },
     "02134d77e512472da53ed6d95960f06b": {
      "model_module": "@jupyter-widgets/base",
      "model_module_version": "2.0.0",
      "model_name": "LayoutModel",
      "state": {}
     },
     "02f6568fb7ef4a6592558dcce6d9c31b": {
      "model_module": "@jupyter-widgets/base",
      "model_module_version": "2.0.0",
      "model_name": "LayoutModel",
      "state": {}
     },
     "03536f37e6f84f8cb9a177f466656f77": {
      "model_module": "@jupyter-widgets/controls",
      "model_module_version": "2.0.0",
      "model_name": "HTMLModel",
      "state": {
       "layout": "IPY_MODEL_857aba7e37be44ec86c22de65123bb97",
       "style": "IPY_MODEL_e22d9ef7dd0b4179855f907142695e19",
       "value": " 50/50 [00:05&lt;00:00,  9.46it/s]"
      }
     },
     "0367f59919e645e1baa72ce6657b6766": {
      "model_module": "@jupyter-widgets/controls",
      "model_module_version": "2.0.0",
      "model_name": "HTMLModel",
      "state": {
       "layout": "IPY_MODEL_831619cb97004836ba9b39fef9efe46e",
       "style": "IPY_MODEL_9b7b28e37c72452bb24d2ee08b7096c4",
       "value": " 50/50 [00:05&lt;00:00,  9.57it/s]"
      }
     },
     "05188cbbe7794528acc19955486a35a4": {
      "model_module": "@jupyter-widgets/base",
      "model_module_version": "2.0.0",
      "model_name": "LayoutModel",
      "state": {}
     },
     "082e469f1cd24a49a610e69dde49489f": {
      "model_module": "@jupyter-widgets/controls",
      "model_module_version": "2.0.0",
      "model_name": "HTMLModel",
      "state": {
       "layout": "IPY_MODEL_63291fafead44163afe646c857fd85ed",
       "style": "IPY_MODEL_7c789020d6b94df49a32c9335266dfa5",
       "value": " 50/50 [00:05&lt;00:00,  9.63it/s]"
      }
     },
     "086ec07297ef4163b571dd9786a92bc6": {
      "model_module": "@jupyter-widgets/controls",
      "model_module_version": "2.0.0",
      "model_name": "HTMLStyleModel",
      "state": {
       "description_width": "",
       "font_size": null,
       "text_color": null
      }
     },
     "088888a349474f798046ec68c1235dbf": {
      "model_module": "@jupyter-widgets/base",
      "model_module_version": "2.0.0",
      "model_name": "LayoutModel",
      "state": {}
     },
     "0920f9b9ae8446dab5ee12ab919fb9e4": {
      "model_module": "@jupyter-widgets/base",
      "model_module_version": "2.0.0",
      "model_name": "LayoutModel",
      "state": {}
     },
     "093c7b60b51545d09e71b6401083e60c": {
      "model_module": "@jupyter-widgets/controls",
      "model_module_version": "2.0.0",
      "model_name": "HTMLStyleModel",
      "state": {
       "description_width": "",
       "font_size": null,
       "text_color": null
      }
     },
     "09e77f8085f141d882f1ee10fb0eaaa0": {
      "model_module": "@jupyter-widgets/controls",
      "model_module_version": "2.0.0",
      "model_name": "FloatProgressModel",
      "state": {
       "bar_style": "success",
       "layout": "IPY_MODEL_7799a7ff4e3649658dbc75c75050f0da",
       "max": 50,
       "style": "IPY_MODEL_a704956a3a5e46cdabd0c1d70ebffcd9",
       "value": 50
      }
     },
     "09f97733c68442508c5acae97f26df7d": {
      "model_module": "@jupyter-widgets/controls",
      "model_module_version": "2.0.0",
      "model_name": "HTMLModel",
      "state": {
       "layout": "IPY_MODEL_1b61bab43af64edaa4f06737abc19636",
       "style": "IPY_MODEL_e9f4d17530fb4131acbda77041f5b010",
       "value": "tr-rmse:0.03,cont:0.13,pole:0.00,real:0.01|vl-rmse:0.04: 100%"
      }
     },
     "0a4563f286f34c10af5cf6e470a3642c": {
      "model_module": "@jupyter-widgets/controls",
      "model_module_version": "2.0.0",
      "model_name": "FloatProgressModel",
      "state": {
       "bar_style": "success",
       "layout": "IPY_MODEL_44a4726da5744f1f8a9bae47f7f6712b",
       "max": 50,
       "style": "IPY_MODEL_9d47859fab534aa2a3b6ce25aa0c350c",
       "value": 50
      }
     },
     "0a946516da3749d685b8909d5dd98305": {
      "model_module": "@jupyter-widgets/controls",
      "model_module_version": "2.0.0",
      "model_name": "HTMLModel",
      "state": {
       "layout": "IPY_MODEL_3e777dd9e60c4eeb85bcf694909b1b13",
       "style": "IPY_MODEL_4b68bcf9df2b497caf4fbe8d8fde8d57",
       "value": "tr-rmse:0.02,cont:0.12,pole:0.00,real:0.00|vl-rmse:0.03: 100%"
      }
     },
     "0ab74e3095604310a5c2d8638bb6d26e": {
      "model_module": "@jupyter-widgets/base",
      "model_module_version": "2.0.0",
      "model_name": "LayoutModel",
      "state": {}
     },
     "0db27e807cf6458b927c5e4bcc203b4c": {
      "model_module": "@jupyter-widgets/base",
      "model_module_version": "2.0.0",
      "model_name": "LayoutModel",
      "state": {}
     },
     "10286fb7bda248e49c172c60f065e554": {
      "model_module": "@jupyter-widgets/controls",
      "model_module_version": "2.0.0",
      "model_name": "HTMLStyleModel",
      "state": {
       "description_width": "",
       "font_size": null,
       "text_color": null
      }
     },
     "11ef32acba5a400d91e2f641f9dc1795": {
      "model_module": "@jupyter-widgets/base",
      "model_module_version": "2.0.0",
      "model_name": "LayoutModel",
      "state": {}
     },
     "1448f23a93a34d3e95717e4803428e06": {
      "model_module": "@jupyter-widgets/base",
      "model_module_version": "2.0.0",
      "model_name": "LayoutModel",
      "state": {}
     },
     "15eaf3388aab48809caf40c662283275": {
      "model_module": "@jupyter-widgets/base",
      "model_module_version": "2.0.0",
      "model_name": "LayoutModel",
      "state": {}
     },
     "1641b4c92b324d83b7cb91fdc40d1cb0": {
      "model_module": "@jupyter-widgets/controls",
      "model_module_version": "2.0.0",
      "model_name": "ProgressStyleModel",
      "state": {
       "description_width": ""
      }
     },
     "16efcf26a6134c60944128f53d03c278": {
      "model_module": "@jupyter-widgets/controls",
      "model_module_version": "2.0.0",
      "model_name": "HTMLStyleModel",
      "state": {
       "description_width": "",
       "font_size": null,
       "text_color": null
      }
     },
     "18438ea87fb14a1087e7b99c3550d1f7": {
      "model_module": "@jupyter-widgets/base",
      "model_module_version": "2.0.0",
      "model_name": "LayoutModel",
      "state": {}
     },
     "192b8eca035c44569cba7c1625bb90eb": {
      "model_module": "@jupyter-widgets/controls",
      "model_module_version": "2.0.0",
      "model_name": "HTMLStyleModel",
      "state": {
       "description_width": "",
       "font_size": null,
       "text_color": null
      }
     },
     "19383ef6f8ab4461ac1cc2b0545f7cfe": {
      "model_module": "@jupyter-widgets/controls",
      "model_module_version": "2.0.0",
      "model_name": "FloatProgressModel",
      "state": {
       "bar_style": "success",
       "layout": "IPY_MODEL_4455b1b9d09744b5a8301de56e3b402d",
       "max": 50,
       "style": "IPY_MODEL_7a680c5f2cc84833a789360ca398e44a",
       "value": 50
      }
     },
     "196649108c2e4e7eb3a7fc0216c8af85": {
      "model_module": "@jupyter-widgets/controls",
      "model_module_version": "2.0.0",
      "model_name": "HBoxModel",
      "state": {
       "children": [
        "IPY_MODEL_4bd5b902b74a4e7798cee03d179b236b",
        "IPY_MODEL_73cf664b7cca4126b72fb6c2652c3142",
        "IPY_MODEL_a4008b8bee8143dbb153161024e035a6"
       ],
       "layout": "IPY_MODEL_ce146183ffd642f8863eb7643f40614c"
      }
     },
     "19775fb7d1614d2bacf898a11bcf79c3": {
      "model_module": "@jupyter-widgets/controls",
      "model_module_version": "2.0.0",
      "model_name": "HTMLStyleModel",
      "state": {
       "description_width": "",
       "font_size": null,
       "text_color": null
      }
     },
     "1a03eb6686404b0e8a0ed5c6b125d7a5": {
      "model_module": "@jupyter-widgets/controls",
      "model_module_version": "2.0.0",
      "model_name": "HTMLModel",
      "state": {
       "layout": "IPY_MODEL_358e97968da244c1b4cbf57ecc4af731",
       "style": "IPY_MODEL_c8596fac466c476eb32e25a8b3cc50ea",
       "value": "100%"
      }
     },
     "1a260f5b1eaf403d87efbe96a6da7b47": {
      "model_module": "@jupyter-widgets/controls",
      "model_module_version": "2.0.0",
      "model_name": "HTMLStyleModel",
      "state": {
       "description_width": "",
       "font_size": null,
       "text_color": null
      }
     },
     "1acbdbe88916499c8fbf1b9f5fa3ca50": {
      "model_module": "@jupyter-widgets/base",
      "model_module_version": "2.0.0",
      "model_name": "LayoutModel",
      "state": {}
     },
     "1b3627d00d9f4c209e56a358ca7ddabb": {
      "model_module": "@jupyter-widgets/controls",
      "model_module_version": "2.0.0",
      "model_name": "ProgressStyleModel",
      "state": {
       "description_width": ""
      }
     },
     "1b4fbb22f04b48808140672024fe5787": {
      "model_module": "@jupyter-widgets/controls",
      "model_module_version": "2.0.0",
      "model_name": "HTMLModel",
      "state": {
       "layout": "IPY_MODEL_8dc8b5d4c8fd4708aad9c6731a0b98ad",
       "style": "IPY_MODEL_f448d5c233b9419abacb88ebfd8cfc32",
       "value": "tr-rmse:0.02,cont:0.21,pole:0.00,real:0.00|vl-rmse:0.02: 100%"
      }
     },
     "1b61bab43af64edaa4f06737abc19636": {
      "model_module": "@jupyter-widgets/base",
      "model_module_version": "2.0.0",
      "model_name": "LayoutModel",
      "state": {}
     },
     "1be813c1613f41b89492e2647c394105": {
      "model_module": "@jupyter-widgets/controls",
      "model_module_version": "2.0.0",
      "model_name": "HTMLStyleModel",
      "state": {
       "description_width": "",
       "font_size": null,
       "text_color": null
      }
     },
     "21afa0c7a767442bb9bcd15c5af6946d": {
      "model_module": "@jupyter-widgets/base",
      "model_module_version": "2.0.0",
      "model_name": "LayoutModel",
      "state": {}
     },
     "24073734a027406fba09a99d60e0a0ad": {
      "model_module": "@jupyter-widgets/base",
      "model_module_version": "2.0.0",
      "model_name": "LayoutModel",
      "state": {}
     },
     "247596b435d44980a21572c8701892e2": {
      "model_module": "@jupyter-widgets/base",
      "model_module_version": "2.0.0",
      "model_name": "LayoutModel",
      "state": {}
     },
     "24d67f180b93405896ac082ba5905ae6": {
      "model_module": "@jupyter-widgets/base",
      "model_module_version": "2.0.0",
      "model_name": "LayoutModel",
      "state": {}
     },
     "256b25c0a3204fc5924e7f1644675419": {
      "model_module": "@jupyter-widgets/base",
      "model_module_version": "2.0.0",
      "model_name": "LayoutModel",
      "state": {}
     },
     "25dc8f8813374c41bbfdac2f882f1af0": {
      "model_module": "@jupyter-widgets/base",
      "model_module_version": "2.0.0",
      "model_name": "LayoutModel",
      "state": {}
     },
     "26315eb8f70b41f2af5aabeabb4b4dcc": {
      "model_module": "@jupyter-widgets/controls",
      "model_module_version": "2.0.0",
      "model_name": "FloatProgressModel",
      "state": {
       "bar_style": "success",
       "layout": "IPY_MODEL_730ee8a08de04337bdea7297dc334454",
       "max": 50,
       "style": "IPY_MODEL_7c4d6c1c1fd8402ea3f1a753cb26a14f",
       "value": 50
      }
     },
     "27a3cf0e50944380bc221846c1b525e5": {
      "model_module": "@jupyter-widgets/base",
      "model_module_version": "2.0.0",
      "model_name": "LayoutModel",
      "state": {}
     },
     "282745afb15f4c11a966d6691bd4a624": {
      "model_module": "@jupyter-widgets/controls",
      "model_module_version": "2.0.0",
      "model_name": "FloatProgressModel",
      "state": {
       "bar_style": "danger",
       "layout": "IPY_MODEL_aa1663122625435ea1bf7851ae555f08",
       "max": 3,
       "style": "IPY_MODEL_af1f3b42f28740cf87570dfbd140b58c"
      }
     },
     "2b288d0bed594a879fce6436c35e2e39": {
      "model_module": "@jupyter-widgets/controls",
      "model_module_version": "2.0.0",
      "model_name": "HTMLStyleModel",
      "state": {
       "description_width": "",
       "font_size": null,
       "text_color": null
      }
     },
     "2f4dd18cea014f6ea03210da7609a511": {
      "model_module": "@jupyter-widgets/base",
      "model_module_version": "2.0.0",
      "model_name": "LayoutModel",
      "state": {}
     },
     "2fb1dbc93b564704beccf2174aa26460": {
      "model_module": "@jupyter-widgets/base",
      "model_module_version": "2.0.0",
      "model_name": "LayoutModel",
      "state": {}
     },
     "32cc6e4f90e14a47883b978d73b3b5e0": {
      "model_module": "@jupyter-widgets/controls",
      "model_module_version": "2.0.0",
      "model_name": "HTMLModel",
      "state": {
       "layout": "IPY_MODEL_d45410ee77dc44858179d8a78a3b7d88",
       "style": "IPY_MODEL_3c9ca9065ae6441581a9268d3ee5197c",
       "value": " 50/50 [00:05&lt;00:00,  9.58it/s]"
      }
     },
     "33ca825536be4bd2b3fbaa28f4f4d3ae": {
      "model_module": "@jupyter-widgets/controls",
      "model_module_version": "2.0.0",
      "model_name": "HTMLStyleModel",
      "state": {
       "description_width": "",
       "font_size": null,
       "text_color": null
      }
     },
     "341f76f480f7440d82c5ab8242d06b33": {
      "model_module": "@jupyter-widgets/base",
      "model_module_version": "2.0.0",
      "model_name": "LayoutModel",
      "state": {}
     },
     "34928fda515a4e4fbec11d091211bcbd": {
      "model_module": "@jupyter-widgets/base",
      "model_module_version": "2.0.0",
      "model_name": "LayoutModel",
      "state": {}
     },
     "34f6657da8c2435da5fc8dc31366db6b": {
      "model_module": "@jupyter-widgets/controls",
      "model_module_version": "2.0.0",
      "model_name": "ProgressStyleModel",
      "state": {
       "description_width": ""
      }
     },
     "358e97968da244c1b4cbf57ecc4af731": {
      "model_module": "@jupyter-widgets/base",
      "model_module_version": "2.0.0",
      "model_name": "LayoutModel",
      "state": {}
     },
     "36db7fb98c9c42bba5cfdf0c289cc383": {
      "model_module": "@jupyter-widgets/base",
      "model_module_version": "2.0.0",
      "model_name": "LayoutModel",
      "state": {}
     },
     "36ebd9d62d1d41789031fd1aaa5e2d45": {
      "model_module": "@jupyter-widgets/base",
      "model_module_version": "2.0.0",
      "model_name": "LayoutModel",
      "state": {}
     },
     "372a466b55354ec5b57d7f0a06c012b8": {
      "model_module": "@jupyter-widgets/controls",
      "model_module_version": "2.0.0",
      "model_name": "HTMLModel",
      "state": {
       "layout": "IPY_MODEL_01d74f8e00f5436ebcb647cd59784224",
       "style": "IPY_MODEL_16efcf26a6134c60944128f53d03c278",
       "value": " 5/5 [01:17&lt;00:00, 15.47s/it]"
      }
     },
     "391a8e2fabce4be98ee23a3be0a17053": {
      "model_module": "@jupyter-widgets/base",
      "model_module_version": "2.0.0",
      "model_name": "LayoutModel",
      "state": {}
     },
     "398e3fd1606c4b12938e9059d21367ac": {
      "model_module": "@jupyter-widgets/base",
      "model_module_version": "2.0.0",
      "model_name": "LayoutModel",
      "state": {}
     },
     "3a2d5428b2f14f9684a46c14cb782925": {
      "model_module": "@jupyter-widgets/base",
      "model_module_version": "2.0.0",
      "model_name": "LayoutModel",
      "state": {}
     },
     "3a3ca5905c014d6ba0383cf7e3608726": {
      "model_module": "@jupyter-widgets/base",
      "model_module_version": "2.0.0",
      "model_name": "LayoutModel",
      "state": {}
     },
     "3a687d9303104240bf181ba9fbfd1561": {
      "model_module": "@jupyter-widgets/controls",
      "model_module_version": "2.0.0",
      "model_name": "HTMLModel",
      "state": {
       "layout": "IPY_MODEL_010561a871c94f349bfc10b538c20768",
       "style": "IPY_MODEL_5efe28dd34dc447dbfe736cb4ad7c86a",
       "value": "tr-rmse:0.03,cont:0.12,pole:0.00,real:0.00|vl-rmse:0.02: 100%"
      }
     },
     "3c492a98210d4db7bad41c8bef146eed": {
      "model_module": "@jupyter-widgets/controls",
      "model_module_version": "2.0.0",
      "model_name": "HTMLStyleModel",
      "state": {
       "description_width": "",
       "font_size": null,
       "text_color": null
      }
     },
     "3c9ca9065ae6441581a9268d3ee5197c": {
      "model_module": "@jupyter-widgets/controls",
      "model_module_version": "2.0.0",
      "model_name": "HTMLStyleModel",
      "state": {
       "description_width": "",
       "font_size": null,
       "text_color": null
      }
     },
     "3d074ccba3e04bec99ebec714cf409ba": {
      "model_module": "@jupyter-widgets/controls",
      "model_module_version": "2.0.0",
      "model_name": "FloatProgressModel",
      "state": {
       "bar_style": "success",
       "layout": "IPY_MODEL_98d03c8e5193441c978f6f686b7c9f96",
       "max": 50,
       "style": "IPY_MODEL_79bb31e3e9564727bc50f7272bfd8704",
       "value": 50
      }
     },
     "3e1e366f203d4010a53b9dbd86a2e7a7": {
      "model_module": "@jupyter-widgets/controls",
      "model_module_version": "2.0.0",
      "model_name": "HTMLStyleModel",
      "state": {
       "description_width": "",
       "font_size": null,
       "text_color": null
      }
     },
     "3e777dd9e60c4eeb85bcf694909b1b13": {
      "model_module": "@jupyter-widgets/base",
      "model_module_version": "2.0.0",
      "model_name": "LayoutModel",
      "state": {}
     },
     "3f95796e7179406ab12be2dd328c04d1": {
      "model_module": "@jupyter-widgets/controls",
      "model_module_version": "2.0.0",
      "model_name": "HTMLStyleModel",
      "state": {
       "description_width": "",
       "font_size": null,
       "text_color": null
      }
     },
     "41ceb1e94f3a4c94b90d2643fc0b2f54": {
      "model_module": "@jupyter-widgets/controls",
      "model_module_version": "2.0.0",
      "model_name": "HTMLStyleModel",
      "state": {
       "description_width": "",
       "font_size": null,
       "text_color": null
      }
     },
     "41f342777ea24800bf350b88166dfc56": {
      "model_module": "@jupyter-widgets/controls",
      "model_module_version": "2.0.0",
      "model_name": "HTMLModel",
      "state": {
       "layout": "IPY_MODEL_36ebd9d62d1d41789031fd1aaa5e2d45",
       "style": "IPY_MODEL_19775fb7d1614d2bacf898a11bcf79c3",
       "value": "tr-mse:0.11|vl-mse:0.11: 100%"
      }
     },
     "42b00d059e724a93a734aa9dbe6b75f7": {
      "model_module": "@jupyter-widgets/controls",
      "model_module_version": "2.0.0",
      "model_name": "HTMLModel",
      "state": {
       "layout": "IPY_MODEL_c2cc985f24b04116a6cc6a492d5e8506",
       "style": "IPY_MODEL_0209687021d64e879df8a15dbfd93f37",
       "value": " 50/50 [00:05&lt;00:00,  9.56it/s]"
      }
     },
     "43749b8d25e54fc5b88032ec405d11e6": {
      "model_module": "@jupyter-widgets/base",
      "model_module_version": "2.0.0",
      "model_name": "LayoutModel",
      "state": {}
     },
     "43e18da9063a4bfcae45b48a7e75b2dc": {
      "model_module": "@jupyter-widgets/controls",
      "model_module_version": "2.0.0",
      "model_name": "HTMLModel",
      "state": {
       "layout": "IPY_MODEL_9257dd011818403cadb902c321deecf2",
       "style": "IPY_MODEL_9f23a37c056d4fbfa91a359f816d823e",
       "value": " 50/50 [00:05&lt;00:00,  9.41it/s]"
      }
     },
     "4455b1b9d09744b5a8301de56e3b402d": {
      "model_module": "@jupyter-widgets/base",
      "model_module_version": "2.0.0",
      "model_name": "LayoutModel",
      "state": {}
     },
     "44a4726da5744f1f8a9bae47f7f6712b": {
      "model_module": "@jupyter-widgets/base",
      "model_module_version": "2.0.0",
      "model_name": "LayoutModel",
      "state": {}
     },
     "45150612890c438e9ceebc767545dfef": {
      "model_module": "@jupyter-widgets/controls",
      "model_module_version": "2.0.0",
      "model_name": "HTMLModel",
      "state": {
       "layout": "IPY_MODEL_7fcaccfbf507451ab997910aeac91ee3",
       "style": "IPY_MODEL_81efbec21b0f482ebbf3b7c169c41ca4",
       "value": " 50/50 [00:05&lt;00:00,  9.20it/s]"
      }
     },
     "45197d42cbcf4b21b83e0cdb573dc5b2": {
      "model_module": "@jupyter-widgets/base",
      "model_module_version": "2.0.0",
      "model_name": "LayoutModel",
      "state": {}
     },
     "4530e078b82c4d0e8417f1acd629692f": {
      "model_module": "@jupyter-widgets/controls",
      "model_module_version": "2.0.0",
      "model_name": "HTMLStyleModel",
      "state": {
       "description_width": "",
       "font_size": null,
       "text_color": null
      }
     },
     "45e995f250b7450484d6f8391872db94": {
      "model_module": "@jupyter-widgets/controls",
      "model_module_version": "2.0.0",
      "model_name": "HTMLModel",
      "state": {
       "layout": "IPY_MODEL_5f8ba56a044c4eac9350152ee9acc660",
       "style": "IPY_MODEL_1a260f5b1eaf403d87efbe96a6da7b47",
       "value": " 50/50 [00:05&lt;00:00,  9.67it/s]"
      }
     },
     "470b172b52a245f59f797fcc07caa011": {
      "model_module": "@jupyter-widgets/base",
      "model_module_version": "2.0.0",
      "model_name": "LayoutModel",
      "state": {}
     },
     "47ec2aa8e7894e8783ed77e03c108ec7": {
      "model_module": "@jupyter-widgets/controls",
      "model_module_version": "2.0.0",
      "model_name": "HTMLModel",
      "state": {
       "layout": "IPY_MODEL_2fb1dbc93b564704beccf2174aa26460",
       "style": "IPY_MODEL_c432c7ea8e554a59a28c8c7fd066ad51",
       "value": "tr-mse:0.11|vl-mse:0.12: 100%"
      }
     },
     "4808545cfa5a47b0982e90d3781ad066": {
      "model_module": "@jupyter-widgets/controls",
      "model_module_version": "2.0.0",
      "model_name": "HBoxModel",
      "state": {
       "children": [
        "IPY_MODEL_3a687d9303104240bf181ba9fbfd1561",
        "IPY_MODEL_d0aeb8a40977478cb33efd894d455e63",
        "IPY_MODEL_5e0be0ae66aa4603bece62e3341202ba"
       ],
       "layout": "IPY_MODEL_470b172b52a245f59f797fcc07caa011"
      }
     },
     "49b2f1d50f474d4bab6638110d5b3565": {
      "model_module": "@jupyter-widgets/controls",
      "model_module_version": "2.0.0",
      "model_name": "HTMLModel",
      "state": {
       "layout": "IPY_MODEL_5a5f48beb15e482f8483a8896c301aeb",
       "style": "IPY_MODEL_086ec07297ef4163b571dd9786a92bc6",
       "value": "100%"
      }
     },
     "4b4534cbb7fe49d083cc7588d9bab6aa": {
      "model_module": "@jupyter-widgets/base",
      "model_module_version": "2.0.0",
      "model_name": "LayoutModel",
      "state": {}
     },
     "4b68bcf9df2b497caf4fbe8d8fde8d57": {
      "model_module": "@jupyter-widgets/controls",
      "model_module_version": "2.0.0",
      "model_name": "HTMLStyleModel",
      "state": {
       "description_width": "",
       "font_size": null,
       "text_color": null
      }
     },
     "4bd5b902b74a4e7798cee03d179b236b": {
      "model_module": "@jupyter-widgets/controls",
      "model_module_version": "2.0.0",
      "model_name": "HTMLModel",
      "state": {
       "layout": "IPY_MODEL_0920f9b9ae8446dab5ee12ab919fb9e4",
       "style": "IPY_MODEL_52a1b114ffa2497b84c20fb912ce0aa9",
       "value": "tr-rmse:0.02,cont:0.12,pole:0.00,real:0.00|vl-rmse:0.03: 100%"
      }
     },
     "4f0513f968054c45832636698087c10e": {
      "model_module": "@jupyter-widgets/base",
      "model_module_version": "2.0.0",
      "model_name": "LayoutModel",
      "state": {}
     },
     "52a1b114ffa2497b84c20fb912ce0aa9": {
      "model_module": "@jupyter-widgets/controls",
      "model_module_version": "2.0.0",
      "model_name": "HTMLStyleModel",
      "state": {
       "description_width": "",
       "font_size": null,
       "text_color": null
      }
     },
     "53e889dd3f6344e0a8483e03c0ed811c": {
      "model_module": "@jupyter-widgets/base",
      "model_module_version": "2.0.0",
      "model_name": "LayoutModel",
      "state": {}
     },
     "54b782cf15f5482da156b57cd6e6a83e": {
      "model_module": "@jupyter-widgets/controls",
      "model_module_version": "2.0.0",
      "model_name": "HTMLStyleModel",
      "state": {
       "description_width": "",
       "font_size": null,
       "text_color": null
      }
     },
     "559e0af32d12442ab77e458c51c4a58c": {
      "model_module": "@jupyter-widgets/base",
      "model_module_version": "2.0.0",
      "model_name": "LayoutModel",
      "state": {}
     },
     "5623e27bc991498f954493b3cfcc4fcd": {
      "model_module": "@jupyter-widgets/base",
      "model_module_version": "2.0.0",
      "model_name": "LayoutModel",
      "state": {}
     },
     "595c7d9b5c9546d0885d4836c9f95805": {
      "model_module": "@jupyter-widgets/controls",
      "model_module_version": "2.0.0",
      "model_name": "ProgressStyleModel",
      "state": {
       "description_width": ""
      }
     },
     "5a5f48beb15e482f8483a8896c301aeb": {
      "model_module": "@jupyter-widgets/base",
      "model_module_version": "2.0.0",
      "model_name": "LayoutModel",
      "state": {}
     },
     "5e0be0ae66aa4603bece62e3341202ba": {
      "model_module": "@jupyter-widgets/controls",
      "model_module_version": "2.0.0",
      "model_name": "HTMLModel",
      "state": {
       "layout": "IPY_MODEL_05188cbbe7794528acc19955486a35a4",
       "style": "IPY_MODEL_093c7b60b51545d09e71b6401083e60c",
       "value": " 50/50 [00:05&lt;00:00,  9.55it/s]"
      }
     },
     "5e4904269c214cb485b2c7d58e16d2ea": {
      "model_module": "@jupyter-widgets/controls",
      "model_module_version": "2.0.0",
      "model_name": "HTMLStyleModel",
      "state": {
       "description_width": "",
       "font_size": null,
       "text_color": null
      }
     },
     "5efe28dd34dc447dbfe736cb4ad7c86a": {
      "model_module": "@jupyter-widgets/controls",
      "model_module_version": "2.0.0",
      "model_name": "HTMLStyleModel",
      "state": {
       "description_width": "",
       "font_size": null,
       "text_color": null
      }
     },
     "5f48d882114e4e518133eb0b8686dd7f": {
      "model_module": "@jupyter-widgets/controls",
      "model_module_version": "2.0.0",
      "model_name": "HTMLStyleModel",
      "state": {
       "description_width": "",
       "font_size": null,
       "text_color": null
      }
     },
     "5f8ba56a044c4eac9350152ee9acc660": {
      "model_module": "@jupyter-widgets/base",
      "model_module_version": "2.0.0",
      "model_name": "LayoutModel",
      "state": {}
     },
     "63291fafead44163afe646c857fd85ed": {
      "model_module": "@jupyter-widgets/base",
      "model_module_version": "2.0.0",
      "model_name": "LayoutModel",
      "state": {}
     },
     "63b7e37e646b4a8c8957b3dbc2595009": {
      "model_module": "@jupyter-widgets/controls",
      "model_module_version": "2.0.0",
      "model_name": "HTMLModel",
      "state": {
       "layout": "IPY_MODEL_d927e8440f254200b466de42906f23eb",
       "style": "IPY_MODEL_6e888c190fbd43c49699c4a89035ed6e",
       "value": " 50/50 [00:05&lt;00:00,  9.44it/s]"
      }
     },
     "6599c8bfccc54efdb646a7d567fe2ea9": {
      "model_module": "@jupyter-widgets/controls",
      "model_module_version": "2.0.0",
      "model_name": "ProgressStyleModel",
      "state": {
       "description_width": ""
      }
     },
     "65f36f4982f24902966160033616d6d8": {
      "model_module": "@jupyter-widgets/controls",
      "model_module_version": "2.0.0",
      "model_name": "HTMLStyleModel",
      "state": {
       "description_width": "",
       "font_size": null,
       "text_color": null
      }
     },
     "674c64b570c845c0aefb04850a591e0a": {
      "model_module": "@jupyter-widgets/controls",
      "model_module_version": "2.0.0",
      "model_name": "FloatProgressModel",
      "state": {
       "bar_style": "success",
       "layout": "IPY_MODEL_34928fda515a4e4fbec11d091211bcbd",
       "max": 50,
       "style": "IPY_MODEL_f1006b080f0b4b7abf2ff075f301cc26",
       "value": 50
      }
     },
     "67919eb85b804362a8f2bc99fea95682": {
      "model_module": "@jupyter-widgets/controls",
      "model_module_version": "2.0.0",
      "model_name": "HBoxModel",
      "state": {
       "children": [
        "IPY_MODEL_1a03eb6686404b0e8a0ed5c6b125d7a5",
        "IPY_MODEL_67de824105d5449bb1c8d79431152bc3",
        "IPY_MODEL_b8655f54f30f48a48442c3cd8bc0a2c7"
       ],
       "layout": "IPY_MODEL_1acbdbe88916499c8fbf1b9f5fa3ca50"
      }
     },
     "67de824105d5449bb1c8d79431152bc3": {
      "model_module": "@jupyter-widgets/controls",
      "model_module_version": "2.0.0",
      "model_name": "FloatProgressModel",
      "state": {
       "bar_style": "success",
       "layout": "IPY_MODEL_6b841c6bf4eb4473861694cec001b16c",
       "max": 3,
       "style": "IPY_MODEL_ccca7b62612f4e8a920bcc5dddf14fb4",
       "value": 3
      }
     },
     "681561fb210d4ad381905997e6b3e5d2": {
      "model_module": "@jupyter-widgets/base",
      "model_module_version": "2.0.0",
      "model_name": "LayoutModel",
      "state": {}
     },
     "684ab8bc3de04cf3aa9b6ea3841f146a": {
      "model_module": "@jupyter-widgets/controls",
      "model_module_version": "2.0.0",
      "model_name": "HTMLStyleModel",
      "state": {
       "description_width": "",
       "font_size": null,
       "text_color": null
      }
     },
     "6916e6e3abdc425ab8cbfa8c3f8578fe": {
      "model_module": "@jupyter-widgets/controls",
      "model_module_version": "2.0.0",
      "model_name": "HTMLModel",
      "state": {
       "layout": "IPY_MODEL_0db27e807cf6458b927c5e4bcc203b4c",
       "style": "IPY_MODEL_5e4904269c214cb485b2c7d58e16d2ea",
       "value": "tr-mse:0.14|vl-mse:0.14: 100%"
      }
     },
     "6ab84041b71f4030b806be22418e0cf1": {
      "model_module": "@jupyter-widgets/controls",
      "model_module_version": "2.0.0",
      "model_name": "HTMLStyleModel",
      "state": {
       "description_width": "",
       "font_size": null,
       "text_color": null
      }
     },
     "6b841c6bf4eb4473861694cec001b16c": {
      "model_module": "@jupyter-widgets/base",
      "model_module_version": "2.0.0",
      "model_name": "LayoutModel",
      "state": {}
     },
     "6bba0b587b0f4ba2829725c92510d6b9": {
      "model_module": "@jupyter-widgets/base",
      "model_module_version": "2.0.0",
      "model_name": "LayoutModel",
      "state": {}
     },
     "6ca2011db9534096aaad5aa72939e152": {
      "model_module": "@jupyter-widgets/controls",
      "model_module_version": "2.0.0",
      "model_name": "HBoxModel",
      "state": {
       "children": [
        "IPY_MODEL_49b2f1d50f474d4bab6638110d5b3565",
        "IPY_MODEL_baccc90dab03464cbd44f6744149d0e7",
        "IPY_MODEL_ba45b80c85514a2b8602de882a80a821"
       ],
       "layout": "IPY_MODEL_82a19ff5163b4519978d695865c3c4d6"
      }
     },
     "6cc1199be0934ce2b5588e718892ec0d": {
      "model_module": "@jupyter-widgets/controls",
      "model_module_version": "2.0.0",
      "model_name": "HTMLModel",
      "state": {
       "layout": "IPY_MODEL_36db7fb98c9c42bba5cfdf0c289cc383",
       "style": "IPY_MODEL_84804ffe43274949989a676ab0ebac51",
       "value": " 3/3 [00:46&lt;00:00, 15.67s/it]"
      }
     },
     "6e888c190fbd43c49699c4a89035ed6e": {
      "model_module": "@jupyter-widgets/controls",
      "model_module_version": "2.0.0",
      "model_name": "HTMLStyleModel",
      "state": {
       "description_width": "",
       "font_size": null,
       "text_color": null
      }
     },
     "70b69ccc3caf4332a55152043bd53fe6": {
      "model_module": "@jupyter-widgets/controls",
      "model_module_version": "2.0.0",
      "model_name": "HTMLModel",
      "state": {
       "layout": "IPY_MODEL_ba1aa36b8d85466dbdbf442ff86ff976",
       "style": "IPY_MODEL_3e1e366f203d4010a53b9dbd86a2e7a7",
       "value": "tr-rmse:0.03,cont:0.71,pole:0.00,real:0.00|vl-rmse:0.03: 100%"
      }
     },
     "730ee8a08de04337bdea7297dc334454": {
      "model_module": "@jupyter-widgets/base",
      "model_module_version": "2.0.0",
      "model_name": "LayoutModel",
      "state": {}
     },
     "73bd417e40dc494f8e8f651c825ff5c6": {
      "model_module": "@jupyter-widgets/controls",
      "model_module_version": "2.0.0",
      "model_name": "HBoxModel",
      "state": {
       "children": [
        "IPY_MODEL_0a946516da3749d685b8909d5dd98305",
        "IPY_MODEL_c99ab99a82074db589939deeee02a17d",
        "IPY_MODEL_45150612890c438e9ceebc767545dfef"
       ],
       "layout": "IPY_MODEL_247596b435d44980a21572c8701892e2"
      }
     },
     "73cf664b7cca4126b72fb6c2652c3142": {
      "model_module": "@jupyter-widgets/controls",
      "model_module_version": "2.0.0",
      "model_name": "FloatProgressModel",
      "state": {
       "bar_style": "success",
       "layout": "IPY_MODEL_2f4dd18cea014f6ea03210da7609a511",
       "max": 50,
       "style": "IPY_MODEL_595c7d9b5c9546d0885d4836c9f95805",
       "value": 50
      }
     },
     "7433a66edbb64affb4ab365bc3a4a8de": {
      "model_module": "@jupyter-widgets/controls",
      "model_module_version": "2.0.0",
      "model_name": "HTMLModel",
      "state": {
       "layout": "IPY_MODEL_821bddb7e4a84799b38bbb0b64859257",
       "style": "IPY_MODEL_192b8eca035c44569cba7c1625bb90eb",
       "value": "tr-mse:0.10|vl-mse:0.09: 100%"
      }
     },
     "74ca99a83e064c65a48b58f5741d6b19": {
      "model_module": "@jupyter-widgets/base",
      "model_module_version": "2.0.0",
      "model_name": "LayoutModel",
      "state": {}
     },
     "750b2939565f4fcb9765ef62865e570c": {
      "model_module": "@jupyter-widgets/base",
      "model_module_version": "2.0.0",
      "model_name": "LayoutModel",
      "state": {}
     },
     "75215ba3b6be404bb6055f787e4c6765": {
      "model_module": "@jupyter-widgets/controls",
      "model_module_version": "2.0.0",
      "model_name": "HBoxModel",
      "state": {
       "children": [
        "IPY_MODEL_bcbf168f57b54cf8a824ae312afce81c",
        "IPY_MODEL_facbeaabb7ac472a9e8ac30be9ce3de6",
        "IPY_MODEL_6cc1199be0934ce2b5588e718892ec0d"
       ],
       "layout": "IPY_MODEL_6bba0b587b0f4ba2829725c92510d6b9"
      }
     },
     "75375cea50cd4aada5c97a36b042cbc3": {
      "model_module": "@jupyter-widgets/base",
      "model_module_version": "2.0.0",
      "model_name": "LayoutModel",
      "state": {}
     },
     "77963db3105d4926b275b2a2015e49fc": {
      "model_module": "@jupyter-widgets/controls",
      "model_module_version": "2.0.0",
      "model_name": "HTMLStyleModel",
      "state": {
       "description_width": "",
       "font_size": null,
       "text_color": null
      }
     },
     "7799a7ff4e3649658dbc75c75050f0da": {
      "model_module": "@jupyter-widgets/base",
      "model_module_version": "2.0.0",
      "model_name": "LayoutModel",
      "state": {}
     },
     "79bb31e3e9564727bc50f7272bfd8704": {
      "model_module": "@jupyter-widgets/controls",
      "model_module_version": "2.0.0",
      "model_name": "ProgressStyleModel",
      "state": {
       "description_width": ""
      }
     },
     "7a680c5f2cc84833a789360ca398e44a": {
      "model_module": "@jupyter-widgets/controls",
      "model_module_version": "2.0.0",
      "model_name": "ProgressStyleModel",
      "state": {
       "description_width": ""
      }
     },
     "7c4c8377257641fa8d5abca8cb62f919": {
      "model_module": "@jupyter-widgets/controls",
      "model_module_version": "2.0.0",
      "model_name": "ProgressStyleModel",
      "state": {
       "description_width": ""
      }
     },
     "7c4d6c1c1fd8402ea3f1a753cb26a14f": {
      "model_module": "@jupyter-widgets/controls",
      "model_module_version": "2.0.0",
      "model_name": "ProgressStyleModel",
      "state": {
       "description_width": ""
      }
     },
     "7c789020d6b94df49a32c9335266dfa5": {
      "model_module": "@jupyter-widgets/controls",
      "model_module_version": "2.0.0",
      "model_name": "HTMLStyleModel",
      "state": {
       "description_width": "",
       "font_size": null,
       "text_color": null
      }
     },
     "7c82deabdb124ce0a44ac975ef436b4c": {
      "model_module": "@jupyter-widgets/controls",
      "model_module_version": "2.0.0",
      "model_name": "HTMLModel",
      "state": {
       "layout": "IPY_MODEL_75375cea50cd4aada5c97a36b042cbc3",
       "style": "IPY_MODEL_4530e078b82c4d0e8417f1acd629692f",
       "value": " 50/50 [00:05&lt;00:00,  9.35it/s]"
      }
     },
     "7da2b30905174bbb869d8b717e6e4bca": {
      "model_module": "@jupyter-widgets/controls",
      "model_module_version": "2.0.0",
      "model_name": "HTMLStyleModel",
      "state": {
       "description_width": "",
       "font_size": null,
       "text_color": null
      }
     },
     "7fcaccfbf507451ab997910aeac91ee3": {
      "model_module": "@jupyter-widgets/base",
      "model_module_version": "2.0.0",
      "model_name": "LayoutModel",
      "state": {}
     },
     "806dbfc7f9a2438aaac525359e4c2efb": {
      "model_module": "@jupyter-widgets/controls",
      "model_module_version": "2.0.0",
      "model_name": "HTMLModel",
      "state": {
       "layout": "IPY_MODEL_9948ce03085c4131b8a6ec5b57ac667d",
       "style": "IPY_MODEL_77963db3105d4926b275b2a2015e49fc",
       "value": "100%"
      }
     },
     "81efbec21b0f482ebbf3b7c169c41ca4": {
      "model_module": "@jupyter-widgets/controls",
      "model_module_version": "2.0.0",
      "model_name": "HTMLStyleModel",
      "state": {
       "description_width": "",
       "font_size": null,
       "text_color": null
      }
     },
     "821bddb7e4a84799b38bbb0b64859257": {
      "model_module": "@jupyter-widgets/base",
      "model_module_version": "2.0.0",
      "model_name": "LayoutModel",
      "state": {}
     },
     "82a19ff5163b4519978d695865c3c4d6": {
      "model_module": "@jupyter-widgets/base",
      "model_module_version": "2.0.0",
      "model_name": "LayoutModel",
      "state": {}
     },
     "831619cb97004836ba9b39fef9efe46e": {
      "model_module": "@jupyter-widgets/base",
      "model_module_version": "2.0.0",
      "model_name": "LayoutModel",
      "state": {}
     },
     "8339c2514cd64021a3142e5120add26b": {
      "model_module": "@jupyter-widgets/base",
      "model_module_version": "2.0.0",
      "model_name": "LayoutModel",
      "state": {}
     },
     "841ff2b0d04d4f9b9b3b8a9d770aad76": {
      "model_module": "@jupyter-widgets/controls",
      "model_module_version": "2.0.0",
      "model_name": "HTMLStyleModel",
      "state": {
       "description_width": "",
       "font_size": null,
       "text_color": null
      }
     },
     "84804ffe43274949989a676ab0ebac51": {
      "model_module": "@jupyter-widgets/controls",
      "model_module_version": "2.0.0",
      "model_name": "HTMLStyleModel",
      "state": {
       "description_width": "",
       "font_size": null,
       "text_color": null
      }
     },
     "8504887b1eb24191a1786077abfc4d75": {
      "model_module": "@jupyter-widgets/controls",
      "model_module_version": "2.0.0",
      "model_name": "HBoxModel",
      "state": {
       "children": [
        "IPY_MODEL_1b4fbb22f04b48808140672024fe5787",
        "IPY_MODEL_3d074ccba3e04bec99ebec714cf409ba",
        "IPY_MODEL_ac611355561c458ba813eb99d69ab139"
       ],
       "layout": "IPY_MODEL_02f6568fb7ef4a6592558dcce6d9c31b"
      }
     },
     "857aba7e37be44ec86c22de65123bb97": {
      "model_module": "@jupyter-widgets/base",
      "model_module_version": "2.0.0",
      "model_name": "LayoutModel",
      "state": {}
     },
     "85fe1e6037b74cb8badd4293351a2cbe": {
      "model_module": "@jupyter-widgets/controls",
      "model_module_version": "2.0.0",
      "model_name": "HTMLModel",
      "state": {
       "layout": "IPY_MODEL_1448f23a93a34d3e95717e4803428e06",
       "style": "IPY_MODEL_3f95796e7179406ab12be2dd328c04d1",
       "value": "tr-mse:0.11|vl-mse:0.12: 100%"
      }
     },
     "860786214d064ff48637917848d29051": {
      "model_module": "@jupyter-widgets/controls",
      "model_module_version": "2.0.0",
      "model_name": "HTMLModel",
      "state": {
       "layout": "IPY_MODEL_b06ac87643af447891dc50a0722066dc",
       "style": "IPY_MODEL_a26492823f7f468b9f8d45644440606c",
       "value": "tr-rmse:0.02,cont:0.33,pole:0.00,real:0.00|vl-rmse:0.03: 100%"
      }
     },
     "8664100a08234594a55316e0c72333b1": {
      "model_module": "@jupyter-widgets/controls",
      "model_module_version": "2.0.0",
      "model_name": "HBoxModel",
      "state": {
       "children": [
        "IPY_MODEL_6916e6e3abdc425ab8cbfa8c3f8578fe",
        "IPY_MODEL_674c64b570c845c0aefb04850a591e0a",
        "IPY_MODEL_7c82deabdb124ce0a44ac975ef436b4c"
       ],
       "layout": "IPY_MODEL_8339c2514cd64021a3142e5120add26b"
      }
     },
     "8731256b71a845ad88610061add0539f": {
      "model_module": "@jupyter-widgets/controls",
      "model_module_version": "2.0.0",
      "model_name": "HTMLModel",
      "state": {
       "layout": "IPY_MODEL_b3d9b6f371af42dd8bd5c39ebf9deead",
       "style": "IPY_MODEL_41ceb1e94f3a4c94b90d2643fc0b2f54",
       "value": "  0%"
      }
     },
     "88abc3b521fa4c6888a417e1d49d5309": {
      "model_module": "@jupyter-widgets/base",
      "model_module_version": "2.0.0",
      "model_name": "LayoutModel",
      "state": {}
     },
     "896625c73606450b9efaaed176e03feb": {
      "model_module": "@jupyter-widgets/controls",
      "model_module_version": "2.0.0",
      "model_name": "FloatProgressModel",
      "state": {
       "bar_style": "success",
       "layout": "IPY_MODEL_18438ea87fb14a1087e7b99c3550d1f7",
       "max": 50,
       "style": "IPY_MODEL_1b3627d00d9f4c209e56a358ca7ddabb",
       "value": 50
      }
     },
     "89e019e13d26426095413a63502a7b64": {
      "model_module": "@jupyter-widgets/controls",
      "model_module_version": "2.0.0",
      "model_name": "FloatProgressModel",
      "state": {
       "bar_style": "success",
       "layout": "IPY_MODEL_681561fb210d4ad381905997e6b3e5d2",
       "max": 3,
       "style": "IPY_MODEL_f04e0cfb9c04424ba29ed3df999e9da0",
       "value": 3
      }
     },
     "8d1719d7a0664a168063fd28232a87ca": {
      "model_module": "@jupyter-widgets/controls",
      "model_module_version": "2.0.0",
      "model_name": "FloatProgressModel",
      "state": {
       "bar_style": "success",
       "layout": "IPY_MODEL_4f0513f968054c45832636698087c10e",
       "max": 4,
       "style": "IPY_MODEL_af5f64a0284a408898013fc87d1882d4",
       "value": 4
      }
     },
     "8d57dc62319e4fefbfd47aec26f26587": {
      "model_module": "@jupyter-widgets/base",
      "model_module_version": "2.0.0",
      "model_name": "LayoutModel",
      "state": {}
     },
     "8d8df6dd7cbe4d0cac0f0aabec47da79": {
      "model_module": "@jupyter-widgets/base",
      "model_module_version": "2.0.0",
      "model_name": "LayoutModel",
      "state": {}
     },
     "8db5a71ea5c1473899a31c7591364038": {
      "model_module": "@jupyter-widgets/controls",
      "model_module_version": "2.0.0",
      "model_name": "HBoxModel",
      "state": {
       "children": [
        "IPY_MODEL_41f342777ea24800bf350b88166dfc56",
        "IPY_MODEL_a3c2d4b4ae7d4a8a883f98e8e9c7fdac",
        "IPY_MODEL_45e995f250b7450484d6f8391872db94"
       ],
       "layout": "IPY_MODEL_27a3cf0e50944380bc221846c1b525e5"
      }
     },
     "8dc8b5d4c8fd4708aad9c6731a0b98ad": {
      "model_module": "@jupyter-widgets/base",
      "model_module_version": "2.0.0",
      "model_name": "LayoutModel",
      "state": {}
     },
     "8e762ee74c4848959d373f8ac5946722": {
      "model_module": "@jupyter-widgets/controls",
      "model_module_version": "2.0.0",
      "model_name": "HBoxModel",
      "state": {
       "children": [
        "IPY_MODEL_7433a66edbb64affb4ab365bc3a4a8de",
        "IPY_MODEL_e541da015db646f98079a58b91cbbc81",
        "IPY_MODEL_03536f37e6f84f8cb9a177f466656f77"
       ],
       "layout": "IPY_MODEL_341f76f480f7440d82c5ab8242d06b33"
      }
     },
     "8eb9db37c7324889abae7d169996c984": {
      "model_module": "@jupyter-widgets/controls",
      "model_module_version": "2.0.0",
      "model_name": "HBoxModel",
      "state": {
       "children": [
        "IPY_MODEL_de5bfcabde2d4528969392580fe7fdd9",
        "IPY_MODEL_d7144a5c361646da87e5ff75b7f7e55f",
        "IPY_MODEL_ac9f6bb766a54d538281eb951a0bc14d"
       ],
       "layout": "IPY_MODEL_8d8df6dd7cbe4d0cac0f0aabec47da79"
      }
     },
     "8ff96dc373d844a3b91d2033f81b947e": {
      "model_module": "@jupyter-widgets/base",
      "model_module_version": "2.0.0",
      "model_name": "LayoutModel",
      "state": {}
     },
     "9257dd011818403cadb902c321deecf2": {
      "model_module": "@jupyter-widgets/base",
      "model_module_version": "2.0.0",
      "model_name": "LayoutModel",
      "state": {}
     },
     "94d80d734646485391c5072e4949692c": {
      "model_module": "@jupyter-widgets/controls",
      "model_module_version": "2.0.0",
      "model_name": "HBoxModel",
      "state": {
       "children": [
        "IPY_MODEL_70b69ccc3caf4332a55152043bd53fe6",
        "IPY_MODEL_0a4563f286f34c10af5cf6e470a3642c",
        "IPY_MODEL_32cc6e4f90e14a47883b978d73b3b5e0"
       ],
       "layout": "IPY_MODEL_cd4e6243935747939e65f0445f1ef87b"
      }
     },
     "96c43756dc7342eda563796c2b4cbfcc": {
      "model_module": "@jupyter-widgets/controls",
      "model_module_version": "2.0.0",
      "model_name": "HTMLModel",
      "state": {
       "layout": "IPY_MODEL_ffc0ea38646e409ab76e3acb1391ea8c",
       "style": "IPY_MODEL_e8c189b1ebbf45c3a36826b0991efb54",
       "value": " 3/3 [00:50&lt;00:00, 17.02s/it]"
      }
     },
     "98d03c8e5193441c978f6f686b7c9f96": {
      "model_module": "@jupyter-widgets/base",
      "model_module_version": "2.0.0",
      "model_name": "LayoutModel",
      "state": {}
     },
     "9948ce03085c4131b8a6ec5b57ac667d": {
      "model_module": "@jupyter-widgets/base",
      "model_module_version": "2.0.0",
      "model_name": "LayoutModel",
      "state": {}
     },
     "9b7b28e37c72452bb24d2ee08b7096c4": {
      "model_module": "@jupyter-widgets/controls",
      "model_module_version": "2.0.0",
      "model_name": "HTMLStyleModel",
      "state": {
       "description_width": "",
       "font_size": null,
       "text_color": null
      }
     },
     "9c589e41e32144c6ba81e6308a870909": {
      "model_module": "@jupyter-widgets/controls",
      "model_module_version": "2.0.0",
      "model_name": "HTMLModel",
      "state": {
       "layout": "IPY_MODEL_02134d77e512472da53ed6d95960f06b",
       "style": "IPY_MODEL_af07f5be654641c49352f87014ce274c",
       "value": "100%"
      }
     },
     "9d47859fab534aa2a3b6ce25aa0c350c": {
      "model_module": "@jupyter-widgets/controls",
      "model_module_version": "2.0.0",
      "model_name": "ProgressStyleModel",
      "state": {
       "description_width": ""
      }
     },
     "9dc6a422853647f89c58b3dc4c219692": {
      "model_module": "@jupyter-widgets/base",
      "model_module_version": "2.0.0",
      "model_name": "LayoutModel",
      "state": {}
     },
     "9f23a37c056d4fbfa91a359f816d823e": {
      "model_module": "@jupyter-widgets/controls",
      "model_module_version": "2.0.0",
      "model_name": "HTMLStyleModel",
      "state": {
       "description_width": "",
       "font_size": null,
       "text_color": null
      }
     },
     "a08529ef3ea94e7fa98fbeda88b7bdc0": {
      "model_module": "@jupyter-widgets/controls",
      "model_module_version": "2.0.0",
      "model_name": "ProgressStyleModel",
      "state": {
       "description_width": ""
      }
     },
     "a26492823f7f468b9f8d45644440606c": {
      "model_module": "@jupyter-widgets/controls",
      "model_module_version": "2.0.0",
      "model_name": "HTMLStyleModel",
      "state": {
       "description_width": "",
       "font_size": null,
       "text_color": null
      }
     },
     "a3c2d4b4ae7d4a8a883f98e8e9c7fdac": {
      "model_module": "@jupyter-widgets/controls",
      "model_module_version": "2.0.0",
      "model_name": "FloatProgressModel",
      "state": {
       "bar_style": "success",
       "layout": "IPY_MODEL_74ca99a83e064c65a48b58f5741d6b19",
       "max": 50,
       "style": "IPY_MODEL_34f6657da8c2435da5fc8dc31366db6b",
       "value": 50
      }
     },
     "a3f22aebd5e747dc97f51266ad630b9b": {
      "model_module": "@jupyter-widgets/controls",
      "model_module_version": "2.0.0",
      "model_name": "HBoxModel",
      "state": {
       "children": [
        "IPY_MODEL_860786214d064ff48637917848d29051",
        "IPY_MODEL_e85ebba5176441a4a23bbbb44c991c9e",
        "IPY_MODEL_0367f59919e645e1baa72ce6657b6766"
       ],
       "layout": "IPY_MODEL_21afa0c7a767442bb9bcd15c5af6946d"
      }
     },
     "a4008b8bee8143dbb153161024e035a6": {
      "model_module": "@jupyter-widgets/controls",
      "model_module_version": "2.0.0",
      "model_name": "HTMLModel",
      "state": {
       "layout": "IPY_MODEL_391a8e2fabce4be98ee23a3be0a17053",
       "style": "IPY_MODEL_3c492a98210d4db7bad41c8bef146eed",
       "value": " 50/50 [00:05&lt;00:00,  9.23it/s]"
      }
     },
     "a704956a3a5e46cdabd0c1d70ebffcd9": {
      "model_module": "@jupyter-widgets/controls",
      "model_module_version": "2.0.0",
      "model_name": "ProgressStyleModel",
      "state": {
       "description_width": ""
      }
     },
     "aa1663122625435ea1bf7851ae555f08": {
      "model_module": "@jupyter-widgets/base",
      "model_module_version": "2.0.0",
      "model_name": "LayoutModel",
      "state": {}
     },
     "abbdd08fb3064841ba255ab8583ab7d4": {
      "model_module": "@jupyter-widgets/controls",
      "model_module_version": "2.0.0",
      "model_name": "HBoxModel",
      "state": {
       "children": [
        "IPY_MODEL_8731256b71a845ad88610061add0539f",
        "IPY_MODEL_282745afb15f4c11a966d6691bd4a624",
        "IPY_MODEL_d136990a5e214d449858d0dadbafa770"
       ],
       "layout": "IPY_MODEL_53e889dd3f6344e0a8483e03c0ed811c"
      }
     },
     "abf0ed9891b24b1ea6edd8e833cf9a81": {
      "model_module": "@jupyter-widgets/base",
      "model_module_version": "2.0.0",
      "model_name": "LayoutModel",
      "state": {}
     },
     "ac611355561c458ba813eb99d69ab139": {
      "model_module": "@jupyter-widgets/controls",
      "model_module_version": "2.0.0",
      "model_name": "HTMLModel",
      "state": {
       "layout": "IPY_MODEL_24d67f180b93405896ac082ba5905ae6",
       "style": "IPY_MODEL_1be813c1613f41b89492e2647c394105",
       "value": " 50/50 [00:05&lt;00:00,  9.51it/s]"
      }
     },
     "ac9f6bb766a54d538281eb951a0bc14d": {
      "model_module": "@jupyter-widgets/controls",
      "model_module_version": "2.0.0",
      "model_name": "HTMLModel",
      "state": {
       "layout": "IPY_MODEL_559e0af32d12442ab77e458c51c4a58c",
       "style": "IPY_MODEL_f8f1ef8e61b5405ebacdd16b5ddd1431",
       "value": " 3/3 [00:46&lt;00:00, 15.48s/it]"
      }
     },
     "adf6feb146e84336a7b89d752e0b87c4": {
      "model_module": "@jupyter-widgets/base",
      "model_module_version": "2.0.0",
      "model_name": "LayoutModel",
      "state": {}
     },
     "af07f5be654641c49352f87014ce274c": {
      "model_module": "@jupyter-widgets/controls",
      "model_module_version": "2.0.0",
      "model_name": "HTMLStyleModel",
      "state": {
       "description_width": "",
       "font_size": null,
       "text_color": null
      }
     },
     "af1f3b42f28740cf87570dfbd140b58c": {
      "model_module": "@jupyter-widgets/controls",
      "model_module_version": "2.0.0",
      "model_name": "ProgressStyleModel",
      "state": {
       "description_width": ""
      }
     },
     "af5f64a0284a408898013fc87d1882d4": {
      "model_module": "@jupyter-widgets/controls",
      "model_module_version": "2.0.0",
      "model_name": "ProgressStyleModel",
      "state": {
       "description_width": ""
      }
     },
     "af8a48da2d6b451eb56df54b5ae7b0e2": {
      "model_module": "@jupyter-widgets/controls",
      "model_module_version": "2.0.0",
      "model_name": "HTMLModel",
      "state": {
       "layout": "IPY_MODEL_c6c5002f399740e38ac88a4c44b3e9a4",
       "style": "IPY_MODEL_7da2b30905174bbb869d8b717e6e4bca",
       "value": " 4/4 [01:01&lt;00:00, 15.49s/it]"
      }
     },
     "b06ac87643af447891dc50a0722066dc": {
      "model_module": "@jupyter-widgets/base",
      "model_module_version": "2.0.0",
      "model_name": "LayoutModel",
      "state": {}
     },
     "b231d5f49ce1401caf5af35790840097": {
      "model_module": "@jupyter-widgets/base",
      "model_module_version": "2.0.0",
      "model_name": "LayoutModel",
      "state": {}
     },
     "b2b5cb54d1e0449784b48fe24abd142a": {
      "model_module": "@jupyter-widgets/controls",
      "model_module_version": "2.0.0",
      "model_name": "HBoxModel",
      "state": {
       "children": [
        "IPY_MODEL_fed3aa052554425da9ee55a485f3b0ad",
        "IPY_MODEL_ca05cd4a96f44bbe88b5eba101080157",
        "IPY_MODEL_372a466b55354ec5b57d7f0a06c012b8"
       ],
       "layout": "IPY_MODEL_0ab74e3095604310a5c2d8638bb6d26e"
      }
     },
     "b2ea6338f9194930853963b873823ae1": {
      "model_module": "@jupyter-widgets/controls",
      "model_module_version": "2.0.0",
      "model_name": "ProgressStyleModel",
      "state": {
       "description_width": ""
      }
     },
     "b2f198596c2a4c91b3bf900186f0402d": {
      "model_module": "@jupyter-widgets/controls",
      "model_module_version": "2.0.0",
      "model_name": "HBoxModel",
      "state": {
       "children": [
        "IPY_MODEL_9c589e41e32144c6ba81e6308a870909",
        "IPY_MODEL_fa061792128c44cd8ea0b04f44d000a7",
        "IPY_MODEL_96c43756dc7342eda563796c2b4cbfcc"
       ],
       "layout": "IPY_MODEL_9dc6a422853647f89c58b3dc4c219692"
      }
     },
     "b3d9b6f371af42dd8bd5c39ebf9deead": {
      "model_module": "@jupyter-widgets/base",
      "model_module_version": "2.0.0",
      "model_name": "LayoutModel",
      "state": {}
     },
     "b8655f54f30f48a48442c3cd8bc0a2c7": {
      "model_module": "@jupyter-widgets/controls",
      "model_module_version": "2.0.0",
      "model_name": "HTMLModel",
      "state": {
       "layout": "IPY_MODEL_3a2d5428b2f14f9684a46c14cb782925",
       "style": "IPY_MODEL_5f48d882114e4e518133eb0b8686dd7f",
       "value": " 3/3 [00:15&lt;00:00,  5.15s/it]"
      }
     },
     "b89291ff9b604f1e8d7713f333dafd69": {
      "model_module": "@jupyter-widgets/controls",
      "model_module_version": "2.0.0",
      "model_name": "HBoxModel",
      "state": {
       "children": [
        "IPY_MODEL_c630d29b3eed4b1385f0aa4c9013a2c5",
        "IPY_MODEL_19383ef6f8ab4461ac1cc2b0545f7cfe",
        "IPY_MODEL_63b7e37e646b4a8c8957b3dbc2595009"
       ],
       "layout": "IPY_MODEL_c20e5696f3414b909c0799c8b4299223"
      }
     },
     "ba1aa36b8d85466dbdbf442ff86ff976": {
      "model_module": "@jupyter-widgets/base",
      "model_module_version": "2.0.0",
      "model_name": "LayoutModel",
      "state": {}
     },
     "ba45b80c85514a2b8602de882a80a821": {
      "model_module": "@jupyter-widgets/controls",
      "model_module_version": "2.0.0",
      "model_name": "HTMLModel",
      "state": {
       "layout": "IPY_MODEL_24073734a027406fba09a99d60e0a0ad",
       "style": "IPY_MODEL_684ab8bc3de04cf3aa9b6ea3841f146a",
       "value": " 4/4 [01:01&lt;00:00, 15.44s/it]"
      }
     },
     "baccc90dab03464cbd44f6744149d0e7": {
      "model_module": "@jupyter-widgets/controls",
      "model_module_version": "2.0.0",
      "model_name": "FloatProgressModel",
      "state": {
       "bar_style": "success",
       "layout": "IPY_MODEL_adf6feb146e84336a7b89d752e0b87c4",
       "max": 4,
       "style": "IPY_MODEL_ef2321a7e9d0427999ab1931e4981ce9",
       "value": 4
      }
     },
     "bba46eecf3654195acdf79e01d539436": {
      "model_module": "@jupyter-widgets/controls",
      "model_module_version": "2.0.0",
      "model_name": "HTMLModel",
      "state": {
       "layout": "IPY_MODEL_fc8260b3d8b544acba11e8d42fbc8441",
       "style": "IPY_MODEL_bbd46ed40892405791f1ef335d69816e",
       "value": "100%"
      }
     },
     "bbd46ed40892405791f1ef335d69816e": {
      "model_module": "@jupyter-widgets/controls",
      "model_module_version": "2.0.0",
      "model_name": "HTMLStyleModel",
      "state": {
       "description_width": "",
       "font_size": null,
       "text_color": null
      }
     },
     "bc35e06768df495ea20fb15ce2a9b00a": {
      "model_module": "@jupyter-widgets/controls",
      "model_module_version": "2.0.0",
      "model_name": "ProgressStyleModel",
      "state": {
       "description_width": ""
      }
     },
     "bcbf168f57b54cf8a824ae312afce81c": {
      "model_module": "@jupyter-widgets/controls",
      "model_module_version": "2.0.0",
      "model_name": "HTMLModel",
      "state": {
       "layout": "IPY_MODEL_5623e27bc991498f954493b3cfcc4fcd",
       "style": "IPY_MODEL_d0de8f212c3c4999a8b336c6187fea00",
       "value": "100%"
      }
     },
     "be4c76ad2e2743d1a0b207bea6cff724": {
      "model_module": "@jupyter-widgets/controls",
      "model_module_version": "2.0.0",
      "model_name": "HBoxModel",
      "state": {
       "children": [
        "IPY_MODEL_85fe1e6037b74cb8badd4293351a2cbe",
        "IPY_MODEL_26315eb8f70b41f2af5aabeabb4b4dcc",
        "IPY_MODEL_d1e1984d530c4d578c06d782621e34ae"
       ],
       "layout": "IPY_MODEL_11ef32acba5a400d91e2f641f9dc1795"
      }
     },
     "c08e87796bd5453e9d1fdcfd3ec44d06": {
      "model_module": "@jupyter-widgets/controls",
      "model_module_version": "2.0.0",
      "model_name": "HBoxModel",
      "state": {
       "children": [
        "IPY_MODEL_09f97733c68442508c5acae97f26df7d",
        "IPY_MODEL_09e77f8085f141d882f1ee10fb0eaaa0",
        "IPY_MODEL_42b00d059e724a93a734aa9dbe6b75f7"
       ],
       "layout": "IPY_MODEL_abf0ed9891b24b1ea6edd8e833cf9a81"
      }
     },
     "c156a2a1e504434cb3aff8c6b5d2e469": {
      "model_module": "@jupyter-widgets/controls",
      "model_module_version": "2.0.0",
      "model_name": "HTMLModel",
      "state": {
       "layout": "IPY_MODEL_ffe9cff247ea4f1d83cbdba88a13afac",
       "style": "IPY_MODEL_65f36f4982f24902966160033616d6d8",
       "value": " 3/3 [00:46&lt;00:00, 15.61s/it]"
      }
     },
     "c20e5696f3414b909c0799c8b4299223": {
      "model_module": "@jupyter-widgets/base",
      "model_module_version": "2.0.0",
      "model_name": "LayoutModel",
      "state": {}
     },
     "c2cc985f24b04116a6cc6a492d5e8506": {
      "model_module": "@jupyter-widgets/base",
      "model_module_version": "2.0.0",
      "model_name": "LayoutModel",
      "state": {}
     },
     "c432c7ea8e554a59a28c8c7fd066ad51": {
      "model_module": "@jupyter-widgets/controls",
      "model_module_version": "2.0.0",
      "model_name": "HTMLStyleModel",
      "state": {
       "description_width": "",
       "font_size": null,
       "text_color": null
      }
     },
     "c630d29b3eed4b1385f0aa4c9013a2c5": {
      "model_module": "@jupyter-widgets/controls",
      "model_module_version": "2.0.0",
      "model_name": "HTMLModel",
      "state": {
       "layout": "IPY_MODEL_088888a349474f798046ec68c1235dbf",
       "style": "IPY_MODEL_10286fb7bda248e49c172c60f065e554",
       "value": "tr-rmse:0.02,cont:0.12,pole:0.00,real:0.00|vl-rmse:0.03: 100%"
      }
     },
     "c6c5002f399740e38ac88a4c44b3e9a4": {
      "model_module": "@jupyter-widgets/base",
      "model_module_version": "2.0.0",
      "model_name": "LayoutModel",
      "state": {}
     },
     "c8596fac466c476eb32e25a8b3cc50ea": {
      "model_module": "@jupyter-widgets/controls",
      "model_module_version": "2.0.0",
      "model_name": "HTMLStyleModel",
      "state": {
       "description_width": "",
       "font_size": null,
       "text_color": null
      }
     },
     "c99ab99a82074db589939deeee02a17d": {
      "model_module": "@jupyter-widgets/controls",
      "model_module_version": "2.0.0",
      "model_name": "FloatProgressModel",
      "state": {
       "bar_style": "success",
       "layout": "IPY_MODEL_8d57dc62319e4fefbfd47aec26f26587",
       "max": 50,
       "style": "IPY_MODEL_a08529ef3ea94e7fa98fbeda88b7bdc0",
       "value": 50
      }
     },
     "ca05cd4a96f44bbe88b5eba101080157": {
      "model_module": "@jupyter-widgets/controls",
      "model_module_version": "2.0.0",
      "model_name": "FloatProgressModel",
      "state": {
       "bar_style": "success",
       "layout": "IPY_MODEL_398e3fd1606c4b12938e9059d21367ac",
       "max": 5,
       "style": "IPY_MODEL_e2296b02c65e43ff9dbc5b9a090700e0",
       "value": 5
      }
     },
     "ccca7b62612f4e8a920bcc5dddf14fb4": {
      "model_module": "@jupyter-widgets/controls",
      "model_module_version": "2.0.0",
      "model_name": "ProgressStyleModel",
      "state": {
       "description_width": ""
      }
     },
     "cd4e6243935747939e65f0445f1ef87b": {
      "model_module": "@jupyter-widgets/base",
      "model_module_version": "2.0.0",
      "model_name": "LayoutModel",
      "state": {}
     },
     "ce146183ffd642f8863eb7643f40614c": {
      "model_module": "@jupyter-widgets/base",
      "model_module_version": "2.0.0",
      "model_name": "LayoutModel",
      "state": {}
     },
     "ceef63630f074b369923d90b3108322c": {
      "model_module": "@jupyter-widgets/controls",
      "model_module_version": "2.0.0",
      "model_name": "ProgressStyleModel",
      "state": {
       "description_width": ""
      }
     },
     "d0aeb8a40977478cb33efd894d455e63": {
      "model_module": "@jupyter-widgets/controls",
      "model_module_version": "2.0.0",
      "model_name": "FloatProgressModel",
      "state": {
       "bar_style": "success",
       "layout": "IPY_MODEL_256b25c0a3204fc5924e7f1644675419",
       "max": 50,
       "style": "IPY_MODEL_6599c8bfccc54efdb646a7d567fe2ea9",
       "value": 50
      }
     },
     "d0de8f212c3c4999a8b336c6187fea00": {
      "model_module": "@jupyter-widgets/controls",
      "model_module_version": "2.0.0",
      "model_name": "HTMLStyleModel",
      "state": {
       "description_width": "",
       "font_size": null,
       "text_color": null
      }
     },
     "d136990a5e214d449858d0dadbafa770": {
      "model_module": "@jupyter-widgets/controls",
      "model_module_version": "2.0.0",
      "model_name": "HTMLModel",
      "state": {
       "layout": "IPY_MODEL_01061d7cb2024064979d3c70546828b5",
       "style": "IPY_MODEL_841ff2b0d04d4f9b9b3b8a9d770aad76",
       "value": " 0/3 [00:02&lt;?, ?it/s]"
      }
     },
     "d1e1984d530c4d578c06d782621e34ae": {
      "model_module": "@jupyter-widgets/controls",
      "model_module_version": "2.0.0",
      "model_name": "HTMLModel",
      "state": {
       "layout": "IPY_MODEL_15eaf3388aab48809caf40c662283275",
       "style": "IPY_MODEL_33ca825536be4bd2b3fbaa28f4f4d3ae",
       "value": " 50/50 [00:05&lt;00:00,  9.46it/s]"
      }
     },
     "d2ef058cde564ccc8c1c100e01e50133": {
      "model_module": "@jupyter-widgets/controls",
      "model_module_version": "2.0.0",
      "model_name": "HBoxModel",
      "state": {
       "children": [
        "IPY_MODEL_bba46eecf3654195acdf79e01d539436",
        "IPY_MODEL_8d1719d7a0664a168063fd28232a87ca",
        "IPY_MODEL_af8a48da2d6b451eb56df54b5ae7b0e2"
       ],
       "layout": "IPY_MODEL_750b2939565f4fcb9765ef62865e570c"
      }
     },
     "d2f8d7e3becd43d79fed6a39df1705d9": {
      "model_module": "@jupyter-widgets/base",
      "model_module_version": "2.0.0",
      "model_name": "LayoutModel",
      "state": {}
     },
     "d40930f137004aa49cbf5ab3d18ccd0e": {
      "model_module": "@jupyter-widgets/controls",
      "model_module_version": "2.0.0",
      "model_name": "FloatProgressModel",
      "state": {
       "bar_style": "success",
       "layout": "IPY_MODEL_e5275a891b9b41f68a52f8367344beb2",
       "max": 50,
       "style": "IPY_MODEL_bc35e06768df495ea20fb15ce2a9b00a",
       "value": 50
      }
     },
     "d4494cb551ff4b67aa747f307440023b": {
      "model_module": "@jupyter-widgets/controls",
      "model_module_version": "2.0.0",
      "model_name": "HBoxModel",
      "state": {
       "children": [
        "IPY_MODEL_47ec2aa8e7894e8783ed77e03c108ec7",
        "IPY_MODEL_896625c73606450b9efaaed176e03feb",
        "IPY_MODEL_43e18da9063a4bfcae45b48a7e75b2dc"
       ],
       "layout": "IPY_MODEL_43749b8d25e54fc5b88032ec405d11e6"
      }
     },
     "d45410ee77dc44858179d8a78a3b7d88": {
      "model_module": "@jupyter-widgets/base",
      "model_module_version": "2.0.0",
      "model_name": "LayoutModel",
      "state": {}
     },
     "d67aea554e964e90ac9805d45d5ac2ab": {
      "model_module": "@jupyter-widgets/controls",
      "model_module_version": "2.0.0",
      "model_name": "HBoxModel",
      "state": {
       "children": [
        "IPY_MODEL_f012f2cbe2ca4d25bfc08251ac4c25c0",
        "IPY_MODEL_d40930f137004aa49cbf5ab3d18ccd0e",
        "IPY_MODEL_082e469f1cd24a49a610e69dde49489f"
       ],
       "layout": "IPY_MODEL_45197d42cbcf4b21b83e0cdb573dc5b2"
      }
     },
     "d69435026f0743d9ba6f7d6e8e082368": {
      "model_module": "@jupyter-widgets/base",
      "model_module_version": "2.0.0",
      "model_name": "LayoutModel",
      "state": {}
     },
     "d7144a5c361646da87e5ff75b7f7e55f": {
      "model_module": "@jupyter-widgets/controls",
      "model_module_version": "2.0.0",
      "model_name": "FloatProgressModel",
      "state": {
       "bar_style": "success",
       "layout": "IPY_MODEL_3a3ca5905c014d6ba0383cf7e3608726",
       "max": 3,
       "style": "IPY_MODEL_7c4c8377257641fa8d5abca8cb62f919",
       "value": 3
      }
     },
     "d927e8440f254200b466de42906f23eb": {
      "model_module": "@jupyter-widgets/base",
      "model_module_version": "2.0.0",
      "model_name": "LayoutModel",
      "state": {}
     },
     "de5bfcabde2d4528969392580fe7fdd9": {
      "model_module": "@jupyter-widgets/controls",
      "model_module_version": "2.0.0",
      "model_name": "HTMLModel",
      "state": {
       "layout": "IPY_MODEL_d2f8d7e3becd43d79fed6a39df1705d9",
       "style": "IPY_MODEL_6ab84041b71f4030b806be22418e0cf1",
       "value": "100%"
      }
     },
     "e2296b02c65e43ff9dbc5b9a090700e0": {
      "model_module": "@jupyter-widgets/controls",
      "model_module_version": "2.0.0",
      "model_name": "ProgressStyleModel",
      "state": {
       "description_width": ""
      }
     },
     "e22d9ef7dd0b4179855f907142695e19": {
      "model_module": "@jupyter-widgets/controls",
      "model_module_version": "2.0.0",
      "model_name": "HTMLStyleModel",
      "state": {
       "description_width": "",
       "font_size": null,
       "text_color": null
      }
     },
     "e5275a891b9b41f68a52f8367344beb2": {
      "model_module": "@jupyter-widgets/base",
      "model_module_version": "2.0.0",
      "model_name": "LayoutModel",
      "state": {}
     },
     "e541da015db646f98079a58b91cbbc81": {
      "model_module": "@jupyter-widgets/controls",
      "model_module_version": "2.0.0",
      "model_name": "FloatProgressModel",
      "state": {
       "bar_style": "success",
       "layout": "IPY_MODEL_d69435026f0743d9ba6f7d6e8e082368",
       "max": 50,
       "style": "IPY_MODEL_b2ea6338f9194930853963b873823ae1",
       "value": 50
      }
     },
     "e7cc0d17d2704d0486928ab6e3083998": {
      "model_module": "@jupyter-widgets/controls",
      "model_module_version": "2.0.0",
      "model_name": "HBoxModel",
      "state": {
       "children": [
        "IPY_MODEL_806dbfc7f9a2438aaac525359e4c2efb",
        "IPY_MODEL_89e019e13d26426095413a63502a7b64",
        "IPY_MODEL_c156a2a1e504434cb3aff8c6b5d2e469"
       ],
       "layout": "IPY_MODEL_8ff96dc373d844a3b91d2033f81b947e"
      }
     },
     "e85ebba5176441a4a23bbbb44c991c9e": {
      "model_module": "@jupyter-widgets/controls",
      "model_module_version": "2.0.0",
      "model_name": "FloatProgressModel",
      "state": {
       "bar_style": "success",
       "layout": "IPY_MODEL_b231d5f49ce1401caf5af35790840097",
       "max": 50,
       "style": "IPY_MODEL_ceef63630f074b369923d90b3108322c",
       "value": 50
      }
     },
     "e8c189b1ebbf45c3a36826b0991efb54": {
      "model_module": "@jupyter-widgets/controls",
      "model_module_version": "2.0.0",
      "model_name": "HTMLStyleModel",
      "state": {
       "description_width": "",
       "font_size": null,
       "text_color": null
      }
     },
     "e9f4d17530fb4131acbda77041f5b010": {
      "model_module": "@jupyter-widgets/controls",
      "model_module_version": "2.0.0",
      "model_name": "HTMLStyleModel",
      "state": {
       "description_width": "",
       "font_size": null,
       "text_color": null
      }
     },
     "eca58d233bec4a549fd89e9d0d86055b": {
      "model_module": "@jupyter-widgets/controls",
      "model_module_version": "2.0.0",
      "model_name": "ProgressStyleModel",
      "state": {
       "description_width": ""
      }
     },
     "ef2321a7e9d0427999ab1931e4981ce9": {
      "model_module": "@jupyter-widgets/controls",
      "model_module_version": "2.0.0",
      "model_name": "ProgressStyleModel",
      "state": {
       "description_width": ""
      }
     },
     "f012f2cbe2ca4d25bfc08251ac4c25c0": {
      "model_module": "@jupyter-widgets/controls",
      "model_module_version": "2.0.0",
      "model_name": "HTMLModel",
      "state": {
       "layout": "IPY_MODEL_88abc3b521fa4c6888a417e1d49d5309",
       "style": "IPY_MODEL_2b288d0bed594a879fce6436c35e2e39",
       "value": "tr-mse:0.11|vl-mse:0.11: 100%"
      }
     },
     "f04e0cfb9c04424ba29ed3df999e9da0": {
      "model_module": "@jupyter-widgets/controls",
      "model_module_version": "2.0.0",
      "model_name": "ProgressStyleModel",
      "state": {
       "description_width": ""
      }
     },
     "f1006b080f0b4b7abf2ff075f301cc26": {
      "model_module": "@jupyter-widgets/controls",
      "model_module_version": "2.0.0",
      "model_name": "ProgressStyleModel",
      "state": {
       "description_width": ""
      }
     },
     "f143d556484847eba8bdee1706953b0e": {
      "model_module": "@jupyter-widgets/base",
      "model_module_version": "2.0.0",
      "model_name": "LayoutModel",
      "state": {}
     },
     "f448d5c233b9419abacb88ebfd8cfc32": {
      "model_module": "@jupyter-widgets/controls",
      "model_module_version": "2.0.0",
      "model_name": "HTMLStyleModel",
      "state": {
       "description_width": "",
       "font_size": null,
       "text_color": null
      }
     },
     "f8f1ef8e61b5405ebacdd16b5ddd1431": {
      "model_module": "@jupyter-widgets/controls",
      "model_module_version": "2.0.0",
      "model_name": "HTMLStyleModel",
      "state": {
       "description_width": "",
       "font_size": null,
       "text_color": null
      }
     },
     "fa061792128c44cd8ea0b04f44d000a7": {
      "model_module": "@jupyter-widgets/controls",
      "model_module_version": "2.0.0",
      "model_name": "FloatProgressModel",
      "state": {
       "bar_style": "success",
       "layout": "IPY_MODEL_25dc8f8813374c41bbfdac2f882f1af0",
       "max": 3,
       "style": "IPY_MODEL_eca58d233bec4a549fd89e9d0d86055b",
       "value": 3
      }
     },
     "facbeaabb7ac472a9e8ac30be9ce3de6": {
      "model_module": "@jupyter-widgets/controls",
      "model_module_version": "2.0.0",
      "model_name": "FloatProgressModel",
      "state": {
       "bar_style": "success",
       "layout": "IPY_MODEL_f143d556484847eba8bdee1706953b0e",
       "max": 3,
       "style": "IPY_MODEL_1641b4c92b324d83b7cb91fdc40d1cb0",
       "value": 3
      }
     },
     "fc8260b3d8b544acba11e8d42fbc8441": {
      "model_module": "@jupyter-widgets/base",
      "model_module_version": "2.0.0",
      "model_name": "LayoutModel",
      "state": {}
     },
     "fed3aa052554425da9ee55a485f3b0ad": {
      "model_module": "@jupyter-widgets/controls",
      "model_module_version": "2.0.0",
      "model_name": "HTMLModel",
      "state": {
       "layout": "IPY_MODEL_4b4534cbb7fe49d083cc7588d9bab6aa",
       "style": "IPY_MODEL_54b782cf15f5482da156b57cd6e6a83e",
       "value": "100%"
      }
     },
     "ffc0ea38646e409ab76e3acb1391ea8c": {
      "model_module": "@jupyter-widgets/base",
      "model_module_version": "2.0.0",
      "model_name": "LayoutModel",
      "state": {}
     },
     "ffe9cff247ea4f1d83cbdba88a13afac": {
      "model_module": "@jupyter-widgets/base",
      "model_module_version": "2.0.0",
      "model_name": "LayoutModel",
      "state": {}
     }
    },
    "version_major": 2,
    "version_minor": 0
   }
  }
 },
 "nbformat": 4,
 "nbformat_minor": 5
}
